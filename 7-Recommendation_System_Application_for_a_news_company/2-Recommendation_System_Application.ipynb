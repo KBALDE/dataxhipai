{
 "cells": [
  {
   "cell_type": "markdown",
   "id": "fcfd204d",
   "metadata": {},
   "source": [
    "# RECOMMENDER SYSTEM MODELS AND DEPLOYMENTS THROUGH AZURe FUNCTIONS/ SERVERLESS APPLICATIONS WITH MOBILE APPS"
   ]
  },
  {
   "cell_type": "markdown",
   "id": "4852b99f",
   "metadata": {},
   "source": [
    "We are going to follow these steps :\n",
    "\n",
    "## 1. GARBAGE IN GARBAGE OUT\n",
    "\n",
    "At this step we are going to clean our dataset and make it ready for use with both models: Content Based Filtering and Collaborative Filtering. \n",
    "\n",
    "To make some inventories and bring some contexts, we can say that our dataset contains a sample of user interactions (page views) in G1 news portal from Oct. 1 to 16, 2017, including about `3 million clicks`, distributed in more than `1 million sessions` from `314,000 users` who read more than `46,000 different news articles` during that period.\n",
    "\n",
    "It is composed by three files/folders:\n",
    "\n",
    "- `clicks.zip` - Folder with CSV files (one per hour), containing user sessions interactions in the news portal.\n",
    "- `articles_metadata.csv` - CSV file with metadata information about all (364047) published articles\n",
    "- `articles_embeddings.pickle` Pickle (Python 3) of a NumPy matrix containing the Article Content Embeddings (250-dimensional vectors), trained upon articles' text and metadata by the **CHAMELEON's ACR module** (see [paper for details](https://arxiv.org/abs/1808.00076)) for 364047 published articles.\n",
    "\n",
    "\n",
    "\n",
    "## 2. CONTENT BASED FILTERING\n",
    "\n",
    "\n",
    "\n",
    "## 3. COLLABORATIVE FILTERING\n",
    "\n",
    "\n",
    "## 4. DEPLOYMENT ON MSFT CLOUD SERVICES\n"
   ]
  },
  {
   "cell_type": "code",
   "execution_count": 1,
   "id": "ad5d90a1",
   "metadata": {},
   "outputs": [
    {
     "name": "stdout",
     "output_type": "stream",
     "text": [
      "2.7.0\n"
     ]
    }
   ],
   "source": [
    "# LIBRAIRIES\n",
    "import pandas as pd\n",
    "import numpy as np\n",
    "import os\n",
    "\n",
    "import numpy as np\n",
    "import tensorflow as tf\n",
    "\n",
    "print(tf.__version__)\n",
    "\n",
    "\n",
    "from sklearn.metrics.pairwise import linear_kernel "
   ]
  },
  {
   "cell_type": "code",
   "execution_count": 2,
   "id": "1fb7beb9",
   "metadata": {},
   "outputs": [],
   "source": [
    "#!pip install tensorflow==2.5\n",
    "#!pip3 install tf-nightly"
   ]
  },
  {
   "cell_type": "code",
   "execution_count": 49,
   "id": "86a51514",
   "metadata": {},
   "outputs": [],
   "source": [
    "# UTILS FUNCTIONS\n",
    "\n",
    "def yolo_data(df):\n",
    "    print(df.info())\n",
    "    print()\n",
    "    print(df.shape)\n",
    "    print(df.head())\n",
    "    \n",
    "\n",
    "# concatenate click CSV files\n",
    "#clicks_dir = \"./data/news-portal-user-interactions-by-globocom/clicks/\"\n",
    "def concatenate_read_clicks_csv(clicks_dir):\n",
    "    clicks_path = []  \n",
    "    clicks_path = clicks_path + sorted(\n",
    "            [os.path.join(clicks_dir, fname)\n",
    "                for fname in os.listdir(clicks_dir)\n",
    "                if fname.endswith(\".csv\")] )\n",
    "    li = []\n",
    "    for filename in clicks_path:\n",
    "        df = pd.read_csv(filename, index_col=None, header=0)\n",
    "        li.append(df)\n",
    "    clicks = pd.concat(li, axis=0, ignore_index=True)\n",
    "    return clicks\n",
    "\n",
    "\n",
    "from operator import itemgetter\n",
    "\n",
    "def find_top_n_indices(data, top=5):\n",
    "    indexed = enumerate(data)\n",
    "    sorted_data = sorted(indexed, \n",
    "                         key=itemgetter(1), \n",
    "                         reverse=True) \n",
    "    \n",
    "    return [d[0] for d in sorted_data[:top]]\n",
    "\n",
    "def cos_sim(emb_mat, iD_1, iD_2):\n",
    "    return np.dot(emb_mat[iD_1], \n",
    "                             emb_mat[iD_2])/(np.linalg.norm(emb_mat[iD_1])*np.linalg.norm(emb_mat[iD_2]))\n",
    "\n",
    "    \n",
    "\n",
    "def recommend_article(pickle, article_id, top):\n",
    "    score = []\n",
    "    for i in range(0, len(pickle)):\n",
    "        if(article_id != i):\n",
    "            cos_sim = np.dot(pickle[article_id], \n",
    "                             pickle[i])/(np.linalg.norm(pickle[article_id])*np.linalg.norm(pickle[i]))\n",
    "            score.append(cos_sim)\n",
    "    # sort score after building similarity\n",
    "    best_scores = find_top_n_indices(score, top)\n",
    "            \n",
    "    return best_scores\n",
    "\n",
    "\n",
    "def recommend_article_fast(pickle, article_id, top):\n",
    "    score = []\n",
    "    for i in range(0, len(pickle)):\n",
    "        if(article_id != i):\n",
    "            cos_sim = np.dot(pickle[article_id], \n",
    "                             pickle[i])/(np.linalg.norm(pickle[article_id])*np.linalg.norm(pickle[i]))\n",
    "            score.append(cos_sim)\n",
    "    # sort score after building similarity\n",
    "    best_scores = find_top_n_indices(score, top)\n",
    "            \n",
    "    return best_scores\n"
   ]
  },
  {
   "cell_type": "markdown",
   "id": "96419ea3",
   "metadata": {},
   "source": [
    "## 1.1. DATA STEP\n",
    "The dataset contains a sample of user interactions (page views) in G1 news portal from Oct. 1 to 16, 2017, including about `3 million clicks`, distributed in more than `1 million sessions` from `314,000 users` who read more than `46,000 different news articles` during that period.\n",
    "\n",
    "It is composed by three files/folders:\n",
    "\n",
    "- `clicks.zip` - Folder with CSV files (one per hour), containing user sessions interactions in the news portal.\n",
    "- `articles_metadata.csv` - CSV file with metadata information about all (364047) published articles\n",
    "- `articles_embeddings.pickle` Pickle (Python 3) of a NumPy matrix containing the Article Content Embeddings (250-dimensional vectors), trained upon articles' text and metadata by the **CHAMELEON's ACR module** (see [paper for details](https://arxiv.org/abs/1808.00076)) for 364047 published articles."
   ]
  },
  {
   "cell_type": "markdown",
   "id": "9a54d638",
   "metadata": {},
   "source": [
    "In this step we read the embedding matrix, concatenate the clicks csv files, read the articles metadata csv.\n",
    "\n",
    "\n",
    "clicks_{}.csv contain 12 columns :\n",
    "\n",
    "- **user_id** : user ID\n",
    "- **session_id** : Session ID\n",
    "- **session_start** : Start of the session (timestamp)\n",
    "- **session_size** : number of click/session\n",
    "- **words_count** : Total word contain in the article\n",
    "- **click_article_id** : article ID user clicked\n",
    "- **click_timestamp** : When user clicked (timestamp)\n",
    "- **click_environment** : user env when click\n",
    "- **click_deviceGroup** : user device\n",
    "- **click_os** : user OS\n",
    "- **click_country** : localisation (country) when user clicked\n",
    "- **click_region** : localisation (region) when user clicked\n",
    "- **click_referrer_type** : ?\n",
    "\n"
   ]
  },
  {
   "cell_type": "code",
   "execution_count": 52,
   "id": "f95f107e",
   "metadata": {},
   "outputs": [],
   "source": [
    "# EMBEDDING MATRIX OF ARTICLES REPRESENTED IN A VECTOR SPACE OF 250 DIM\n",
    "emb_matrix = pd.read_pickle('./data/news-portal-user-interactions-by-globocom/articles_embeddings.pickle')"
   ]
  },
  {
   "cell_type": "code",
   "execution_count": 53,
   "id": "f866ce5a",
   "metadata": {},
   "outputs": [],
   "source": [
    "# USERS - ARTICLES INTERACTIONS\n",
    "clicks=concatenate_read_clicks_csv(\"./data/news-portal-user-interactions-by-globocom/clicks/\")"
   ]
  },
  {
   "cell_type": "code",
   "execution_count": 54,
   "id": "2c8f8d05",
   "metadata": {},
   "outputs": [],
   "source": [
    "# ARTICLE METADATA\n",
    "articles_metadata=pd.read_csv(\"./data/news-portal-user-interactions-by-globocom/articles_metadata.csv\")"
   ]
  },
  {
   "cell_type": "markdown",
   "id": "f1242673",
   "metadata": {},
   "source": [
    "## 1.2 QUICK EXPLORATION"
   ]
  },
  {
   "cell_type": "code",
   "execution_count": 55,
   "id": "f7bd79b7",
   "metadata": {},
   "outputs": [
    {
     "name": "stdout",
     "output_type": "stream",
     "text": [
      "<class 'pandas.core.frame.DataFrame'>\n",
      "RangeIndex: 2988181 entries, 0 to 2988180\n",
      "Data columns (total 12 columns):\n",
      " #   Column               Dtype \n",
      "---  ------               ----- \n",
      " 0   user_id              object\n",
      " 1   session_id           object\n",
      " 2   session_start        object\n",
      " 3   session_size         object\n",
      " 4   click_article_id     object\n",
      " 5   click_timestamp      object\n",
      " 6   click_environment    object\n",
      " 7   click_deviceGroup    object\n",
      " 8   click_os             object\n",
      " 9   click_country        object\n",
      " 10  click_region         object\n",
      " 11  click_referrer_type  object\n",
      "dtypes: object(12)\n",
      "memory usage: 273.6+ MB\n",
      "None\n",
      "\n",
      "(2988181, 12)\n",
      "  user_id        session_id  session_start session_size click_article_id  \\\n",
      "0       0  1506825423271737  1506825423000            2           157541   \n",
      "1       0  1506825423271737  1506825423000            2            68866   \n",
      "2       1  1506825426267738  1506825426000            2           235840   \n",
      "3       1  1506825426267738  1506825426000            2            96663   \n",
      "4       2  1506825435299739  1506825435000            2           119592   \n",
      "\n",
      "  click_timestamp click_environment click_deviceGroup click_os click_country  \\\n",
      "0   1506826828020                 4                 3       20             1   \n",
      "1   1506826858020                 4                 3       20             1   \n",
      "2   1506827017951                 4                 1       17             1   \n",
      "3   1506827047951                 4                 1       17             1   \n",
      "4   1506827090575                 4                 1       17             1   \n",
      "\n",
      "  click_region click_referrer_type  \n",
      "0           20                   2  \n",
      "1           20                   2  \n",
      "2           16                   2  \n",
      "3           16                   2  \n",
      "4           24                   2  \n"
     ]
    }
   ],
   "source": [
    "yolo_data(clicks)"
   ]
  },
  {
   "cell_type": "code",
   "execution_count": 56,
   "id": "08450829",
   "metadata": {},
   "outputs": [
    {
     "name": "stdout",
     "output_type": "stream",
     "text": [
      "<class 'pandas.core.frame.DataFrame'>\n",
      "RangeIndex: 364047 entries, 0 to 364046\n",
      "Data columns (total 5 columns):\n",
      " #   Column         Non-Null Count   Dtype\n",
      "---  ------         --------------   -----\n",
      " 0   article_id     364047 non-null  int64\n",
      " 1   category_id    364047 non-null  int64\n",
      " 2   created_at_ts  364047 non-null  int64\n",
      " 3   publisher_id   364047 non-null  int64\n",
      " 4   words_count    364047 non-null  int64\n",
      "dtypes: int64(5)\n",
      "memory usage: 13.9 MB\n",
      "None\n",
      "\n",
      "(364047, 5)\n",
      "   article_id  category_id  created_at_ts  publisher_id  words_count\n",
      "0           0            0  1513144419000             0          168\n",
      "1           1            1  1405341936000             0          189\n",
      "2           2            1  1408667706000             0          250\n",
      "3           3            1  1408468313000             0          230\n",
      "4           4            1  1407071171000             0          162\n"
     ]
    }
   ],
   "source": [
    "yolo_data(articles_metadata)"
   ]
  },
  {
   "cell_type": "code",
   "execution_count": 57,
   "id": "4b958983",
   "metadata": {},
   "outputs": [
    {
     "data": {
      "text/html": [
       "<div>\n",
       "<style scoped>\n",
       "    .dataframe tbody tr th:only-of-type {\n",
       "        vertical-align: middle;\n",
       "    }\n",
       "\n",
       "    .dataframe tbody tr th {\n",
       "        vertical-align: top;\n",
       "    }\n",
       "\n",
       "    .dataframe thead th {\n",
       "        text-align: right;\n",
       "    }\n",
       "</style>\n",
       "<table border=\"1\" class=\"dataframe\">\n",
       "  <thead>\n",
       "    <tr style=\"text-align: right;\">\n",
       "      <th></th>\n",
       "      <th>article_id</th>\n",
       "      <th>category_id</th>\n",
       "      <th>created_at_ts</th>\n",
       "      <th>publisher_id</th>\n",
       "      <th>words_count</th>\n",
       "    </tr>\n",
       "  </thead>\n",
       "  <tbody>\n",
       "    <tr>\n",
       "      <th>0</th>\n",
       "      <td>0</td>\n",
       "      <td>0</td>\n",
       "      <td>1513144419000</td>\n",
       "      <td>0</td>\n",
       "      <td>168</td>\n",
       "    </tr>\n",
       "    <tr>\n",
       "      <th>1</th>\n",
       "      <td>1</td>\n",
       "      <td>1</td>\n",
       "      <td>1405341936000</td>\n",
       "      <td>0</td>\n",
       "      <td>189</td>\n",
       "    </tr>\n",
       "    <tr>\n",
       "      <th>2</th>\n",
       "      <td>2</td>\n",
       "      <td>1</td>\n",
       "      <td>1408667706000</td>\n",
       "      <td>0</td>\n",
       "      <td>250</td>\n",
       "    </tr>\n",
       "    <tr>\n",
       "      <th>3</th>\n",
       "      <td>3</td>\n",
       "      <td>1</td>\n",
       "      <td>1408468313000</td>\n",
       "      <td>0</td>\n",
       "      <td>230</td>\n",
       "    </tr>\n",
       "    <tr>\n",
       "      <th>4</th>\n",
       "      <td>4</td>\n",
       "      <td>1</td>\n",
       "      <td>1407071171000</td>\n",
       "      <td>0</td>\n",
       "      <td>162</td>\n",
       "    </tr>\n",
       "  </tbody>\n",
       "</table>\n",
       "</div>"
      ],
      "text/plain": [
       "   article_id  category_id  created_at_ts  publisher_id  words_count\n",
       "0           0            0  1513144419000             0          168\n",
       "1           1            1  1405341936000             0          189\n",
       "2           2            1  1408667706000             0          250\n",
       "3           3            1  1408468313000             0          230\n",
       "4           4            1  1407071171000             0          162"
      ]
     },
     "execution_count": 57,
     "metadata": {},
     "output_type": "execute_result"
    }
   ],
   "source": [
    "articles_metadata.head()"
   ]
  },
  {
   "cell_type": "code",
   "execution_count": 58,
   "id": "8cade092",
   "metadata": {},
   "outputs": [
    {
     "data": {
      "text/html": [
       "<div>\n",
       "<style scoped>\n",
       "    .dataframe tbody tr th:only-of-type {\n",
       "        vertical-align: middle;\n",
       "    }\n",
       "\n",
       "    .dataframe tbody tr th {\n",
       "        vertical-align: top;\n",
       "    }\n",
       "\n",
       "    .dataframe thead th {\n",
       "        text-align: right;\n",
       "    }\n",
       "</style>\n",
       "<table border=\"1\" class=\"dataframe\">\n",
       "  <thead>\n",
       "    <tr style=\"text-align: right;\">\n",
       "      <th></th>\n",
       "      <th>user_id</th>\n",
       "      <th>session_id</th>\n",
       "      <th>session_start</th>\n",
       "      <th>session_size</th>\n",
       "      <th>click_article_id</th>\n",
       "      <th>click_timestamp</th>\n",
       "      <th>click_environment</th>\n",
       "      <th>click_deviceGroup</th>\n",
       "      <th>click_os</th>\n",
       "      <th>click_country</th>\n",
       "      <th>click_region</th>\n",
       "      <th>click_referrer_type</th>\n",
       "    </tr>\n",
       "  </thead>\n",
       "  <tbody>\n",
       "    <tr>\n",
       "      <th>0</th>\n",
       "      <td>0</td>\n",
       "      <td>1506825423271737</td>\n",
       "      <td>1506825423000</td>\n",
       "      <td>2</td>\n",
       "      <td>157541</td>\n",
       "      <td>1506826828020</td>\n",
       "      <td>4</td>\n",
       "      <td>3</td>\n",
       "      <td>20</td>\n",
       "      <td>1</td>\n",
       "      <td>20</td>\n",
       "      <td>2</td>\n",
       "    </tr>\n",
       "    <tr>\n",
       "      <th>1</th>\n",
       "      <td>0</td>\n",
       "      <td>1506825423271737</td>\n",
       "      <td>1506825423000</td>\n",
       "      <td>2</td>\n",
       "      <td>68866</td>\n",
       "      <td>1506826858020</td>\n",
       "      <td>4</td>\n",
       "      <td>3</td>\n",
       "      <td>20</td>\n",
       "      <td>1</td>\n",
       "      <td>20</td>\n",
       "      <td>2</td>\n",
       "    </tr>\n",
       "    <tr>\n",
       "      <th>2</th>\n",
       "      <td>1</td>\n",
       "      <td>1506825426267738</td>\n",
       "      <td>1506825426000</td>\n",
       "      <td>2</td>\n",
       "      <td>235840</td>\n",
       "      <td>1506827017951</td>\n",
       "      <td>4</td>\n",
       "      <td>1</td>\n",
       "      <td>17</td>\n",
       "      <td>1</td>\n",
       "      <td>16</td>\n",
       "      <td>2</td>\n",
       "    </tr>\n",
       "    <tr>\n",
       "      <th>3</th>\n",
       "      <td>1</td>\n",
       "      <td>1506825426267738</td>\n",
       "      <td>1506825426000</td>\n",
       "      <td>2</td>\n",
       "      <td>96663</td>\n",
       "      <td>1506827047951</td>\n",
       "      <td>4</td>\n",
       "      <td>1</td>\n",
       "      <td>17</td>\n",
       "      <td>1</td>\n",
       "      <td>16</td>\n",
       "      <td>2</td>\n",
       "    </tr>\n",
       "    <tr>\n",
       "      <th>4</th>\n",
       "      <td>2</td>\n",
       "      <td>1506825435299739</td>\n",
       "      <td>1506825435000</td>\n",
       "      <td>2</td>\n",
       "      <td>119592</td>\n",
       "      <td>1506827090575</td>\n",
       "      <td>4</td>\n",
       "      <td>1</td>\n",
       "      <td>17</td>\n",
       "      <td>1</td>\n",
       "      <td>24</td>\n",
       "      <td>2</td>\n",
       "    </tr>\n",
       "  </tbody>\n",
       "</table>\n",
       "</div>"
      ],
      "text/plain": [
       "  user_id        session_id  session_start session_size click_article_id  \\\n",
       "0       0  1506825423271737  1506825423000            2           157541   \n",
       "1       0  1506825423271737  1506825423000            2            68866   \n",
       "2       1  1506825426267738  1506825426000            2           235840   \n",
       "3       1  1506825426267738  1506825426000            2            96663   \n",
       "4       2  1506825435299739  1506825435000            2           119592   \n",
       "\n",
       "  click_timestamp click_environment click_deviceGroup click_os click_country  \\\n",
       "0   1506826828020                 4                 3       20             1   \n",
       "1   1506826858020                 4                 3       20             1   \n",
       "2   1506827017951                 4                 1       17             1   \n",
       "3   1506827047951                 4                 1       17             1   \n",
       "4   1506827090575                 4                 1       17             1   \n",
       "\n",
       "  click_region click_referrer_type  \n",
       "0           20                   2  \n",
       "1           20                   2  \n",
       "2           16                   2  \n",
       "3           16                   2  \n",
       "4           24                   2  "
      ]
     },
     "execution_count": 58,
     "metadata": {},
     "output_type": "execute_result"
    }
   ],
   "source": [
    "clicks.head()"
   ]
  },
  {
   "cell_type": "code",
   "execution_count": 59,
   "id": "3f539902",
   "metadata": {},
   "outputs": [
    {
     "data": {
      "text/plain": [
       "(364047, 250)"
      ]
     },
     "execution_count": 59,
     "metadata": {},
     "output_type": "execute_result"
    }
   ],
   "source": [
    "emb_matrix.shape"
   ]
  },
  {
   "cell_type": "markdown",
   "id": "e1630268",
   "metadata": {},
   "source": [
    "## 1.3. ITEM-FEATURE MATRIX\n",
    "The Item-Feature Matrix is the given Embedding Matrix. It contains 364047 articles described  by 250 features.\n",
    "But What we can do with it?\n",
    "We could compute similarity between articles, to say if anybody choose an article i, here are 5 others that he could read. But there is no personalization. Thus, no usefull!!\n",
    "We need another matrix: the `User-Item Rating` matrix."
   ]
  },
  {
   "cell_type": "code",
   "execution_count": 62,
   "id": "42148609",
   "metadata": {},
   "outputs": [
    {
     "name": "stdout",
     "output_type": "stream",
     "text": [
      "For any User who reads this Article (the article: 0),\n",
      "Here are 5 other articles he might like : [77607, 77964, 77609, 77973, 83768]\n"
     ]
    }
   ],
   "source": [
    "# RECOMMENDATION WITH NO PERSONALIZATION\n",
    "article_id=0\n",
    "any_top5=recommend_article(emb_matrix, article_id, 5)\n",
    "print(\"For any User who reads this Article (the article: {}),\\nHere are 5 other articles he might like : {}\"\n",
    "      .format(article_id, any_top5))\n"
   ]
  },
  {
   "cell_type": "code",
   "execution_count": 60,
   "id": "93942ff8",
   "metadata": {},
   "outputs": [
    {
     "name": "stdout",
     "output_type": "stream",
     "text": [
      "(364047, 250)\n"
     ]
    },
    {
     "data": {
      "text/plain": [
       "(0.9984167, -0.99869525)"
      ]
     },
     "execution_count": 60,
     "metadata": {},
     "output_type": "execute_result"
    }
   ],
   "source": [
    "print(emb_matrix.shape)\n",
    "np.max(emb_matrix), np.min(emb_matrix)"
   ]
  },
  {
   "cell_type": "markdown",
   "id": "c2b67cae",
   "metadata": {},
   "source": [
    "## 1.4. USER-ITEM RATING MATRIX\n",
    "\n",
    "In our case, it is good that we have metadata. This give us the possibility to implement both methods of recommendation systems: the `Content Based Filtering` and the `Collaborative Filtering`. \n",
    "\n",
    "We do not have a User-Item Rating matrix with `explicit rating`. We need therefore to build our rating based on the metadata. It is the `implicit rating`. It i s calculated by infering rating based on user behaviour regarding it uses of an Article. Does he click? How many clicks? How many clicks in a session? How much time does he spend on a session? How many books he read during a session? Does the length (in term of words) of the article count? How many clicks per category of items (category is a proxy for taste regarding a them)? \n",
    "\n",
    "##### How to measure rating?\n",
    "Let's first work the data.\n",
    "\n",
    "we have two datasets : clicks and article_metadata.\n",
    "\n",
    "Those two metadata user-article could be merged using article_id and click_article_id respectively.\n"
   ]
  },
  {
   "cell_type": "code",
   "execution_count": 9,
   "id": "518b0d08",
   "metadata": {},
   "outputs": [
    {
     "data": {
      "text/html": [
       "<div>\n",
       "<style scoped>\n",
       "    .dataframe tbody tr th:only-of-type {\n",
       "        vertical-align: middle;\n",
       "    }\n",
       "\n",
       "    .dataframe tbody tr th {\n",
       "        vertical-align: top;\n",
       "    }\n",
       "\n",
       "    .dataframe thead th {\n",
       "        text-align: right;\n",
       "    }\n",
       "</style>\n",
       "<table border=\"1\" class=\"dataframe\">\n",
       "  <thead>\n",
       "    <tr style=\"text-align: right;\">\n",
       "      <th></th>\n",
       "      <th>user_id</th>\n",
       "      <th>session_id</th>\n",
       "      <th>session_start</th>\n",
       "      <th>session_size</th>\n",
       "      <th>click_article_id</th>\n",
       "      <th>click_timestamp</th>\n",
       "      <th>click_environment</th>\n",
       "      <th>click_deviceGroup</th>\n",
       "      <th>click_os</th>\n",
       "      <th>click_country</th>\n",
       "      <th>click_region</th>\n",
       "      <th>click_referrer_type</th>\n",
       "    </tr>\n",
       "  </thead>\n",
       "  <tbody>\n",
       "    <tr>\n",
       "      <th>0</th>\n",
       "      <td>0</td>\n",
       "      <td>1506825423271737</td>\n",
       "      <td>1506825423000</td>\n",
       "      <td>2</td>\n",
       "      <td>157541</td>\n",
       "      <td>1506826828020</td>\n",
       "      <td>4</td>\n",
       "      <td>3</td>\n",
       "      <td>20</td>\n",
       "      <td>1</td>\n",
       "      <td>20</td>\n",
       "      <td>2</td>\n",
       "    </tr>\n",
       "    <tr>\n",
       "      <th>1</th>\n",
       "      <td>0</td>\n",
       "      <td>1506825423271737</td>\n",
       "      <td>1506825423000</td>\n",
       "      <td>2</td>\n",
       "      <td>68866</td>\n",
       "      <td>1506826858020</td>\n",
       "      <td>4</td>\n",
       "      <td>3</td>\n",
       "      <td>20</td>\n",
       "      <td>1</td>\n",
       "      <td>20</td>\n",
       "      <td>2</td>\n",
       "    </tr>\n",
       "    <tr>\n",
       "      <th>2</th>\n",
       "      <td>1</td>\n",
       "      <td>1506825426267738</td>\n",
       "      <td>1506825426000</td>\n",
       "      <td>2</td>\n",
       "      <td>235840</td>\n",
       "      <td>1506827017951</td>\n",
       "      <td>4</td>\n",
       "      <td>1</td>\n",
       "      <td>17</td>\n",
       "      <td>1</td>\n",
       "      <td>16</td>\n",
       "      <td>2</td>\n",
       "    </tr>\n",
       "    <tr>\n",
       "      <th>3</th>\n",
       "      <td>1</td>\n",
       "      <td>1506825426267738</td>\n",
       "      <td>1506825426000</td>\n",
       "      <td>2</td>\n",
       "      <td>96663</td>\n",
       "      <td>1506827047951</td>\n",
       "      <td>4</td>\n",
       "      <td>1</td>\n",
       "      <td>17</td>\n",
       "      <td>1</td>\n",
       "      <td>16</td>\n",
       "      <td>2</td>\n",
       "    </tr>\n",
       "    <tr>\n",
       "      <th>4</th>\n",
       "      <td>2</td>\n",
       "      <td>1506825435299739</td>\n",
       "      <td>1506825435000</td>\n",
       "      <td>2</td>\n",
       "      <td>119592</td>\n",
       "      <td>1506827090575</td>\n",
       "      <td>4</td>\n",
       "      <td>1</td>\n",
       "      <td>17</td>\n",
       "      <td>1</td>\n",
       "      <td>24</td>\n",
       "      <td>2</td>\n",
       "    </tr>\n",
       "  </tbody>\n",
       "</table>\n",
       "</div>"
      ],
      "text/plain": [
       "  user_id        session_id  session_start session_size click_article_id  \\\n",
       "0       0  1506825423271737  1506825423000            2           157541   \n",
       "1       0  1506825423271737  1506825423000            2            68866   \n",
       "2       1  1506825426267738  1506825426000            2           235840   \n",
       "3       1  1506825426267738  1506825426000            2            96663   \n",
       "4       2  1506825435299739  1506825435000            2           119592   \n",
       "\n",
       "  click_timestamp click_environment click_deviceGroup click_os click_country  \\\n",
       "0   1506826828020                 4                 3       20             1   \n",
       "1   1506826858020                 4                 3       20             1   \n",
       "2   1506827017951                 4                 1       17             1   \n",
       "3   1506827047951                 4                 1       17             1   \n",
       "4   1506827090575                 4                 1       17             1   \n",
       "\n",
       "  click_region click_referrer_type  \n",
       "0           20                   2  \n",
       "1           20                   2  \n",
       "2           16                   2  \n",
       "3           16                   2  \n",
       "4           24                   2  "
      ]
     },
     "execution_count": 9,
     "metadata": {},
     "output_type": "execute_result"
    }
   ],
   "source": [
    "clicks.head()"
   ]
  },
  {
   "cell_type": "code",
   "execution_count": null,
   "id": "fbe07e34",
   "metadata": {},
   "outputs": [],
   "source": [
    "clicks.describe()"
   ]
  },
  {
   "cell_type": "code",
   "execution_count": 18,
   "id": "cdd52c1c",
   "metadata": {},
   "outputs": [
    {
     "name": "stdout",
     "output_type": "stream",
     "text": [
      "322897\n",
      "46033\n",
      "2983198\n",
      "72\n",
      "1048594\n",
      "646874\n"
     ]
    }
   ],
   "source": [
    "print(len(clicks.user_id.unique()))\n",
    "print(len(clicks.click_article_id.unique()))\n",
    "print(len(clicks.click_timestamp.unique()))\n",
    "print(len(clicks.session_size.unique()))\n",
    "print(len(clicks.session_id.unique()))\n",
    "print(len(clicks.session_start.unique()))"
   ]
  },
  {
   "cell_type": "markdown",
   "id": "84a75f65",
   "metadata": {},
   "source": [
    "###### clicks dataset\n",
    "- **user_id**:  we have many users (322 897). Nothing wrong about this number\n",
    "- **click_article_id**: 46 033 articles\n",
    "\n",
    "\n",
    "\n"
   ]
  },
  {
   "cell_type": "markdown",
   "id": "b03fc7d7",
   "metadata": {},
   "source": [
    "###### articles_metadata\n",
    "- **artile_id** is unique and count 364047 articles.\n",
    "- **category_id** has 461 categories. it an important feature that describe an article type or theme.\n",
    "- **word_count**, we can think of this feature with reading duration, the more the word_count, the longer the duration in reading the article. But how this could serve our rating?   don't know yet, but let's keep it.\n",
    "- **created_ts**: this feature could be used with other feature to compute a certain identity of an article (new, old, how many clicks, is it still beeing clicked on? \n",
    "\n",
    "\n"
   ]
  },
  {
   "cell_type": "code",
   "execution_count": 11,
   "id": "5d28d1e4",
   "metadata": {},
   "outputs": [],
   "source": [
    "clicks_df=clicks.copy()\n",
    "articles_df=articles_metadata.copy()"
   ]
  },
  {
   "cell_type": "code",
   "execution_count": 12,
   "id": "46633955",
   "metadata": {},
   "outputs": [],
   "source": [
    "#clicks_df.drop_duplicates(subset=['click_article_id']).shape"
   ]
  },
  {
   "cell_type": "code",
   "execution_count": 13,
   "id": "08871f74",
   "metadata": {},
   "outputs": [],
   "source": [
    "#df=pd.DataFrame(gp_user_article['click_article_id'].count())"
   ]
  },
  {
   "cell_type": "code",
   "execution_count": 14,
   "id": "f3b0a9de",
   "metadata": {},
   "outputs": [],
   "source": [
    "# category effect\n",
    "dict_art_cat = articles_df.set_index('article_id')['category_id'].to_dict()"
   ]
  },
  {
   "cell_type": "code",
   "execution_count": 15,
   "id": "05df4fca",
   "metadata": {},
   "outputs": [],
   "source": [
    "# consider for now only one click_articles??"
   ]
  },
  {
   "cell_type": "code",
   "execution_count": 16,
   "id": "cb623c30",
   "metadata": {},
   "outputs": [],
   "source": [
    "# category effect\n",
    "dict_art_cat = articles_df.set_index('article_id')['category_id'].to_dict()\n",
    "# add a column using map from on \n",
    "clicks_df['category_id'] = clicks_df['click_article_id'].map(dict_art_cat).astype(int)"
   ]
  },
  {
   "cell_type": "code",
   "execution_count": 17,
   "id": "c88f36c2",
   "metadata": {},
   "outputs": [],
   "source": [
    "clicks_df['total_click_by_art'] = clicks_df.groupby(['user_id', \n",
    "                                                     'click_article_id'])['click_article_id'].transform('count')\n",
    "clicks_df['total_click_by_cat'] = clicks_df.groupby(['user_id',\n",
    "                                                     'category_id'])['click_article_id'].transform('count')\n"
   ]
  },
  {
   "cell_type": "code",
   "execution_count": 18,
   "id": "d2439f88",
   "metadata": {},
   "outputs": [
    {
     "data": {
      "text/plain": [
       "(33, 1)"
      ]
     },
     "execution_count": 18,
     "metadata": {},
     "output_type": "execute_result"
    }
   ],
   "source": [
    "np.max(clicks_df['total_click_by_art']), np.min(clicks_df['total_click_by_art'])"
   ]
  },
  {
   "cell_type": "code",
   "execution_count": 19,
   "id": "b78f8bb0",
   "metadata": {},
   "outputs": [],
   "source": [
    "# duration effect\n",
    "dict_art_cat = articles_df.set_index('article_id')['words_count'].to_dict()\n",
    "# add a column using map from on \n",
    "clicks_df['words_count_by_art'] = clicks_df['click_article_id'].map(dict_art_cat).astype(int)\n",
    "\n",
    "clicks_df['duration'] = abs(clicks_df.click_timestamp - clicks_df.session_start) \n",
    "clicks_df['duration_art_wc'] = clicks_df['words_count_by_art']* clicks_df['duration']\n"
   ]
  },
  {
   "cell_type": "code",
   "execution_count": 20,
   "id": "516b3896",
   "metadata": {},
   "outputs": [],
   "source": [
    "clicks_df['total_duration_by_session'] = clicks_df.groupby(['user_id',\n",
    "                                                            'session_id'])['duration_art_wc'].transform('sum')"
   ]
  },
  {
   "cell_type": "markdown",
   "id": "b60d389c",
   "metadata": {},
   "source": [
    "We created a **rating** as a composite of three factors or effects:\n",
    "- **article effect** takes into account the fact that a user can click many times on an article\n",
    "- **category_effect** takes into account a user taste on a theme, a subject. It is the ratio between the explicit article effect and the total clicks of the user per category\n",
    "- **duration_effect** takes into account the time spent reading an article. This time spent on an article is off-setted by the word count of the subsequent article. It is to say, if we spend more time on an article, it is not only because we liked it. The duration is distributed per session. "
   ]
  },
  {
   "cell_type": "code",
   "execution_count": 21,
   "id": "1c6dfb31",
   "metadata": {},
   "outputs": [],
   "source": [
    "clicks_df[\"category_effect\"]=clicks_df['total_click_by_art'] / clicks_df['total_click_by_cat'] \n",
    "clicks_df[\"duration_effect\"]=clicks_df['duration_art_wc'] / clicks_df['total_duration_by_session'] \n",
    "\n",
    "clicks_df['rating'] = clicks_df[\"category_effect\"] * clicks_df[\"duration_effect\"] "
   ]
  },
  {
   "cell_type": "code",
   "execution_count": 22,
   "id": "bdac5559",
   "metadata": {},
   "outputs": [],
   "source": [
    "# start the compute from category and comeback to article?\n",
    "# but how?\n",
    "clicks_df=clicks_df.sort_values(['user_id', 'click_article_id'])"
   ]
  },
  {
   "cell_type": "code",
   "execution_count": 23,
   "id": "88e6d5ac",
   "metadata": {},
   "outputs": [
    {
     "data": {
      "text/html": [
       "<div>\n",
       "<style scoped>\n",
       "    .dataframe tbody tr th:only-of-type {\n",
       "        vertical-align: middle;\n",
       "    }\n",
       "\n",
       "    .dataframe tbody tr th {\n",
       "        vertical-align: top;\n",
       "    }\n",
       "\n",
       "    .dataframe thead th {\n",
       "        text-align: right;\n",
       "    }\n",
       "</style>\n",
       "<table border=\"1\" class=\"dataframe\">\n",
       "  <thead>\n",
       "    <tr style=\"text-align: right;\">\n",
       "      <th></th>\n",
       "      <th>user_id</th>\n",
       "      <th>session_id</th>\n",
       "      <th>session_start</th>\n",
       "      <th>session_size</th>\n",
       "      <th>click_article_id</th>\n",
       "      <th>click_timestamp</th>\n",
       "      <th>click_environment</th>\n",
       "      <th>click_deviceGroup</th>\n",
       "      <th>click_os</th>\n",
       "      <th>click_country</th>\n",
       "      <th>...</th>\n",
       "      <th>category_id</th>\n",
       "      <th>total_click_by_art</th>\n",
       "      <th>total_click_by_cat</th>\n",
       "      <th>words_count_by_art</th>\n",
       "      <th>duration</th>\n",
       "      <th>duration_art_wc</th>\n",
       "      <th>total_duration_by_session</th>\n",
       "      <th>category_effect</th>\n",
       "      <th>duration_effect</th>\n",
       "      <th>rating</th>\n",
       "    </tr>\n",
       "  </thead>\n",
       "  <tbody>\n",
       "    <tr>\n",
       "      <th>1</th>\n",
       "      <td>0</td>\n",
       "      <td>1506825423271737</td>\n",
       "      <td>1506825423000</td>\n",
       "      <td>2</td>\n",
       "      <td>68866</td>\n",
       "      <td>1506826858020</td>\n",
       "      <td>4</td>\n",
       "      <td>3</td>\n",
       "      <td>20</td>\n",
       "      <td>1</td>\n",
       "      <td>...</td>\n",
       "      <td>136</td>\n",
       "      <td>1</td>\n",
       "      <td>1</td>\n",
       "      <td>226</td>\n",
       "      <td>1435020</td>\n",
       "      <td>324314520</td>\n",
       "      <td>717720120</td>\n",
       "      <td>1.0</td>\n",
       "      <td>0.451868</td>\n",
       "      <td>0.451868</td>\n",
       "    </tr>\n",
       "    <tr>\n",
       "      <th>1535241</th>\n",
       "      <td>0</td>\n",
       "      <td>1507514030209212</td>\n",
       "      <td>1507514030000</td>\n",
       "      <td>2</td>\n",
       "      <td>87205</td>\n",
       "      <td>1507514086617</td>\n",
       "      <td>4</td>\n",
       "      <td>3</td>\n",
       "      <td>20</td>\n",
       "      <td>1</td>\n",
       "      <td>...</td>\n",
       "      <td>186</td>\n",
       "      <td>1</td>\n",
       "      <td>2</td>\n",
       "      <td>137</td>\n",
       "      <td>56617</td>\n",
       "      <td>7756529</td>\n",
       "      <td>10418229</td>\n",
       "      <td>0.5</td>\n",
       "      <td>0.744515</td>\n",
       "      <td>0.372258</td>\n",
       "    </tr>\n",
       "    <tr>\n",
       "      <th>1535240</th>\n",
       "      <td>0</td>\n",
       "      <td>1507514030209212</td>\n",
       "      <td>1507514030000</td>\n",
       "      <td>2</td>\n",
       "      <td>87224</td>\n",
       "      <td>1507514056617</td>\n",
       "      <td>4</td>\n",
       "      <td>3</td>\n",
       "      <td>20</td>\n",
       "      <td>1</td>\n",
       "      <td>...</td>\n",
       "      <td>186</td>\n",
       "      <td>1</td>\n",
       "      <td>2</td>\n",
       "      <td>100</td>\n",
       "      <td>26617</td>\n",
       "      <td>2661700</td>\n",
       "      <td>10418229</td>\n",
       "      <td>0.5</td>\n",
       "      <td>0.255485</td>\n",
       "      <td>0.127742</td>\n",
       "    </tr>\n",
       "    <tr>\n",
       "      <th>1287361</th>\n",
       "      <td>0</td>\n",
       "      <td>1507340000920377</td>\n",
       "      <td>1507340000000</td>\n",
       "      <td>2</td>\n",
       "      <td>96755</td>\n",
       "      <td>1507340033155</td>\n",
       "      <td>4</td>\n",
       "      <td>3</td>\n",
       "      <td>20</td>\n",
       "      <td>1</td>\n",
       "      <td>...</td>\n",
       "      <td>209</td>\n",
       "      <td>1</td>\n",
       "      <td>1</td>\n",
       "      <td>211</td>\n",
       "      <td>33155</td>\n",
       "      <td>6995705</td>\n",
       "      <td>23731780</td>\n",
       "      <td>1.0</td>\n",
       "      <td>0.294782</td>\n",
       "      <td>0.294782</td>\n",
       "    </tr>\n",
       "  </tbody>\n",
       "</table>\n",
       "<p>4 rows × 22 columns</p>\n",
       "</div>"
      ],
      "text/plain": [
       "        user_id        session_id  session_start session_size  \\\n",
       "1             0  1506825423271737  1506825423000            2   \n",
       "1535241       0  1507514030209212  1507514030000            2   \n",
       "1535240       0  1507514030209212  1507514030000            2   \n",
       "1287361       0  1507340000920377  1507340000000            2   \n",
       "\n",
       "        click_article_id click_timestamp click_environment click_deviceGroup  \\\n",
       "1                  68866   1506826858020                 4                 3   \n",
       "1535241            87205   1507514086617                 4                 3   \n",
       "1535240            87224   1507514056617                 4                 3   \n",
       "1287361            96755   1507340033155                 4                 3   \n",
       "\n",
       "        click_os click_country  ... category_id total_click_by_art  \\\n",
       "1             20             1  ...         136                  1   \n",
       "1535241       20             1  ...         186                  1   \n",
       "1535240       20             1  ...         186                  1   \n",
       "1287361       20             1  ...         209                  1   \n",
       "\n",
       "         total_click_by_cat  words_count_by_art  duration  duration_art_wc  \\\n",
       "1                         1                 226   1435020        324314520   \n",
       "1535241                   2                 137     56617          7756529   \n",
       "1535240                   2                 100     26617          2661700   \n",
       "1287361                   1                 211     33155          6995705   \n",
       "\n",
       "        total_duration_by_session category_effect  duration_effect    rating  \n",
       "1                       717720120             1.0         0.451868  0.451868  \n",
       "1535241                  10418229             0.5         0.744515  0.372258  \n",
       "1535240                  10418229             0.5         0.255485  0.127742  \n",
       "1287361                  23731780             1.0         0.294782  0.294782  \n",
       "\n",
       "[4 rows x 22 columns]"
      ]
     },
     "execution_count": 23,
     "metadata": {},
     "output_type": "execute_result"
    }
   ],
   "source": [
    "clicks_df.head(4)"
   ]
  },
  {
   "cell_type": "code",
   "execution_count": 123,
   "id": "67ccfaba",
   "metadata": {},
   "outputs": [],
   "source": [
    "user_article_matrix_df=clicks_df[['user_id', 'click_article_id','rating']]"
   ]
  },
  {
   "cell_type": "code",
   "execution_count": 124,
   "id": "3d9ac96d",
   "metadata": {},
   "outputs": [
    {
     "data": {
      "text/plain": [
       "Index(['user_id', 'click_article_id', 'rating'], dtype='object')"
      ]
     },
     "execution_count": 124,
     "metadata": {},
     "output_type": "execute_result"
    }
   ],
   "source": [
    "user_article_matrix_df.columns"
   ]
  },
  {
   "cell_type": "code",
   "execution_count": 131,
   "id": "1e879b0a",
   "metadata": {},
   "outputs": [],
   "source": [
    "user_article_matrix_df.columns=['user_id', 'article_id', 'rating']"
   ]
  },
  {
   "cell_type": "code",
   "execution_count": 132,
   "id": "bd7365a4",
   "metadata": {},
   "outputs": [
    {
     "data": {
      "text/html": [
       "<div>\n",
       "<style scoped>\n",
       "    .dataframe tbody tr th:only-of-type {\n",
       "        vertical-align: middle;\n",
       "    }\n",
       "\n",
       "    .dataframe tbody tr th {\n",
       "        vertical-align: top;\n",
       "    }\n",
       "\n",
       "    .dataframe thead th {\n",
       "        text-align: right;\n",
       "    }\n",
       "</style>\n",
       "<table border=\"1\" class=\"dataframe\">\n",
       "  <thead>\n",
       "    <tr style=\"text-align: right;\">\n",
       "      <th></th>\n",
       "      <th>user_id</th>\n",
       "      <th>article_id</th>\n",
       "      <th>rating</th>\n",
       "    </tr>\n",
       "  </thead>\n",
       "  <tbody>\n",
       "    <tr>\n",
       "      <th>2988128</th>\n",
       "      <td>322894</td>\n",
       "      <td>168401</td>\n",
       "      <td>0.55816</td>\n",
       "    </tr>\n",
       "    <tr>\n",
       "      <th>2988139</th>\n",
       "      <td>322895</td>\n",
       "      <td>63746</td>\n",
       "      <td>0.912882</td>\n",
       "    </tr>\n",
       "    <tr>\n",
       "      <th>2988138</th>\n",
       "      <td>322895</td>\n",
       "      <td>289197</td>\n",
       "      <td>0.087118</td>\n",
       "    </tr>\n",
       "    <tr>\n",
       "      <th>2988177</th>\n",
       "      <td>322896</td>\n",
       "      <td>30760</td>\n",
       "      <td>0.284493</td>\n",
       "    </tr>\n",
       "    <tr>\n",
       "      <th>2988178</th>\n",
       "      <td>322896</td>\n",
       "      <td>157507</td>\n",
       "      <td>0.715507</td>\n",
       "    </tr>\n",
       "  </tbody>\n",
       "</table>\n",
       "</div>"
      ],
      "text/plain": [
       "        user_id article_id    rating\n",
       "2988128  322894     168401   0.55816\n",
       "2988139  322895      63746  0.912882\n",
       "2988138  322895     289197  0.087118\n",
       "2988177  322896      30760  0.284493\n",
       "2988178  322896     157507  0.715507"
      ]
     },
     "execution_count": 132,
     "metadata": {},
     "output_type": "execute_result"
    }
   ],
   "source": [
    "user_article_matrix_df.tail()"
   ]
  },
  {
   "cell_type": "code",
   "execution_count": 133,
   "id": "9cf54733",
   "metadata": {},
   "outputs": [],
   "source": [
    "df=user_article_matrix_df.copy()"
   ]
  },
  {
   "cell_type": "code",
   "execution_count": 134,
   "id": "09540d08",
   "metadata": {},
   "outputs": [
    {
     "data": {
      "text/html": [
       "<div>\n",
       "<style scoped>\n",
       "    .dataframe tbody tr th:only-of-type {\n",
       "        vertical-align: middle;\n",
       "    }\n",
       "\n",
       "    .dataframe tbody tr th {\n",
       "        vertical-align: top;\n",
       "    }\n",
       "\n",
       "    .dataframe thead th {\n",
       "        text-align: right;\n",
       "    }\n",
       "</style>\n",
       "<table border=\"1\" class=\"dataframe\">\n",
       "  <thead>\n",
       "    <tr style=\"text-align: right;\">\n",
       "      <th></th>\n",
       "      <th>user_id</th>\n",
       "      <th>article_id</th>\n",
       "      <th>rating</th>\n",
       "    </tr>\n",
       "  </thead>\n",
       "  <tbody>\n",
       "    <tr>\n",
       "      <th>1116766</th>\n",
       "      <td>27183</td>\n",
       "      <td>331019</td>\n",
       "      <td>1.0</td>\n",
       "    </tr>\n",
       "    <tr>\n",
       "      <th>130395</th>\n",
       "      <td>33014</td>\n",
       "      <td>284844</td>\n",
       "      <td>1.0</td>\n",
       "    </tr>\n",
       "    <tr>\n",
       "      <th>1107762</th>\n",
       "      <td>90625</td>\n",
       "      <td>206315</td>\n",
       "      <td>1.0</td>\n",
       "    </tr>\n",
       "    <tr>\n",
       "      <th>319684</th>\n",
       "      <td>91089</td>\n",
       "      <td>261612</td>\n",
       "      <td>1.0</td>\n",
       "    </tr>\n",
       "    <tr>\n",
       "      <th>1149595</th>\n",
       "      <td>91577</td>\n",
       "      <td>206315</td>\n",
       "      <td>1.0</td>\n",
       "    </tr>\n",
       "    <tr>\n",
       "      <th>1015172</th>\n",
       "      <td>108937</td>\n",
       "      <td>207720</td>\n",
       "      <td>1.0</td>\n",
       "    </tr>\n",
       "    <tr>\n",
       "      <th>437909</th>\n",
       "      <td>115288</td>\n",
       "      <td>272143</td>\n",
       "      <td>1.0</td>\n",
       "    </tr>\n",
       "    <tr>\n",
       "      <th>681318</th>\n",
       "      <td>150865</td>\n",
       "      <td>207994</td>\n",
       "      <td>1.0</td>\n",
       "    </tr>\n",
       "    <tr>\n",
       "      <th>759814</th>\n",
       "      <td>150981</td>\n",
       "      <td>166377</td>\n",
       "      <td>1.0</td>\n",
       "    </tr>\n",
       "    <tr>\n",
       "      <th>975027</th>\n",
       "      <td>183243</td>\n",
       "      <td>42329</td>\n",
       "      <td>1.0</td>\n",
       "    </tr>\n",
       "    <tr>\n",
       "      <th>1109431</th>\n",
       "      <td>197778</td>\n",
       "      <td>206315</td>\n",
       "      <td>1.0</td>\n",
       "    </tr>\n",
       "    <tr>\n",
       "      <th>1405363</th>\n",
       "      <td>224927</td>\n",
       "      <td>199766</td>\n",
       "      <td>1.0</td>\n",
       "    </tr>\n",
       "    <tr>\n",
       "      <th>1630598</th>\n",
       "      <td>243928</td>\n",
       "      <td>214283</td>\n",
       "      <td>1.0</td>\n",
       "    </tr>\n",
       "    <tr>\n",
       "      <th>2629797</th>\n",
       "      <td>304187</td>\n",
       "      <td>202416</td>\n",
       "      <td>1.0</td>\n",
       "    </tr>\n",
       "    <tr>\n",
       "      <th>2938727</th>\n",
       "      <td>320276</td>\n",
       "      <td>194983</td>\n",
       "      <td>1.0</td>\n",
       "    </tr>\n",
       "  </tbody>\n",
       "</table>\n",
       "</div>"
      ],
      "text/plain": [
       "        user_id article_id rating\n",
       "1116766   27183     331019    1.0\n",
       "130395    33014     284844    1.0\n",
       "1107762   90625     206315    1.0\n",
       "319684    91089     261612    1.0\n",
       "1149595   91577     206315    1.0\n",
       "1015172  108937     207720    1.0\n",
       "437909   115288     272143    1.0\n",
       "681318   150865     207994    1.0\n",
       "759814   150981     166377    1.0\n",
       "975027   183243      42329    1.0\n",
       "1109431  197778     206315    1.0\n",
       "1405363  224927     199766    1.0\n",
       "1630598  243928     214283    1.0\n",
       "2629797  304187     202416    1.0\n",
       "2938727  320276     194983    1.0"
      ]
     },
     "execution_count": 134,
     "metadata": {},
     "output_type": "execute_result"
    }
   ],
   "source": [
    "# We have article that have a raying of 1\n",
    "# it is not uncommon, It is just that it is not helpful for our modelisation!!!\n",
    "# We are going to discard those 15 lines\n",
    "df.loc[df.rating==1]"
   ]
  },
  {
   "cell_type": "code",
   "execution_count": 135,
   "id": "f2e1e890",
   "metadata": {},
   "outputs": [],
   "source": [
    "df=df.loc[df.rating!=1]"
   ]
  },
  {
   "cell_type": "markdown",
   "id": "cd6e559f",
   "metadata": {},
   "source": [
    "# 2. CONTENT BASED FILTERING\n",
    "\n",
    "We already have the Embedding matrix. \n",
    "\n",
    "The embedding matrix represent articles, in terms of user preferences in a lower dimension. This vectoral representation helps us to take into account articles similarity. \n",
    "\n",
    "This similarity can be measured by using cosine similarity method instead of pearson or jaccard. Why? because our vectors values are between -1 and 1. They implcit opinion about items in term of use.\n",
    " "
   ]
  },
  {
   "cell_type": "markdown",
   "id": "bbef4ef3",
   "metadata": {},
   "source": [
    "\n",
    "- Adapt the embedding matrix to the user matrix: this matrix contains 364K articles in a base vector dimension of 250. \n",
    "- Let's consider naively that the matrix is ordered by article names, emb_matrix[0], is article0 and so \n",
    "- Since we have 46K articles, let's take 46K first articles.\n",
    "- We therefore have the same number of articles for both the user-article matrix and the article feature matrix.\n",
    "\n",
    "\n",
    "We are going to use finally a sample of 500 Articles. Nothing to lose, since there is no training, only matrix multiplication. "
   ]
  },
  {
   "cell_type": "markdown",
   "id": "9a2162e8",
   "metadata": {},
   "source": [
    "Since We already have an `Article-Features Matrix`, whcih helps to describe Articles and gives them some meaning in a given space, here 250, we are going to adapt that matrix and then compute the `User-Feature Matrix`. \n",
    "\n",
    "And then Having a User-Profile (User-Features Matrix) and an Article Embedding Features, we are going to do our recommendation by doing vector product in term of similarity (the dot product is sufficient).\n"
   ]
  },
  {
   "cell_type": "code",
   "execution_count": 136,
   "id": "831876f6",
   "metadata": {},
   "outputs": [
    {
     "name": "stdout",
     "output_type": "stream",
     "text": [
      "46033\n"
     ]
    }
   ],
   "source": [
    "# sample from here\n",
    "sample_num_art=500\n",
    "article_list=user_article_matrix_df.article_id.unique().tolist()\n",
    "print(len(article_list))"
   ]
  },
  {
   "cell_type": "code",
   "execution_count": 137,
   "id": "ce9ee4af",
   "metadata": {},
   "outputs": [
    {
     "data": {
      "text/html": [
       "<div>\n",
       "<style scoped>\n",
       "    .dataframe tbody tr th:only-of-type {\n",
       "        vertical-align: middle;\n",
       "    }\n",
       "\n",
       "    .dataframe tbody tr th {\n",
       "        vertical-align: top;\n",
       "    }\n",
       "\n",
       "    .dataframe thead th {\n",
       "        text-align: right;\n",
       "    }\n",
       "</style>\n",
       "<table border=\"1\" class=\"dataframe\">\n",
       "  <thead>\n",
       "    <tr style=\"text-align: right;\">\n",
       "      <th></th>\n",
       "      <th>user_id</th>\n",
       "      <th>article_id</th>\n",
       "      <th>rating</th>\n",
       "    </tr>\n",
       "  </thead>\n",
       "  <tbody>\n",
       "    <tr>\n",
       "      <th>1</th>\n",
       "      <td>0</td>\n",
       "      <td>68866</td>\n",
       "      <td>0.451868</td>\n",
       "    </tr>\n",
       "    <tr>\n",
       "      <th>1535241</th>\n",
       "      <td>0</td>\n",
       "      <td>87205</td>\n",
       "      <td>0.372258</td>\n",
       "    </tr>\n",
       "    <tr>\n",
       "      <th>1535240</th>\n",
       "      <td>0</td>\n",
       "      <td>87224</td>\n",
       "      <td>0.127742</td>\n",
       "    </tr>\n",
       "    <tr>\n",
       "      <th>1287361</th>\n",
       "      <td>0</td>\n",
       "      <td>96755</td>\n",
       "      <td>0.294782</td>\n",
       "    </tr>\n",
       "    <tr>\n",
       "      <th>0</th>\n",
       "      <td>0</td>\n",
       "      <td>157541</td>\n",
       "      <td>0.274066</td>\n",
       "    </tr>\n",
       "  </tbody>\n",
       "</table>\n",
       "</div>"
      ],
      "text/plain": [
       "        user_id article_id    rating\n",
       "1             0      68866  0.451868\n",
       "1535241       0      87205  0.372258\n",
       "1535240       0      87224  0.127742\n",
       "1287361       0      96755  0.294782\n",
       "0             0     157541  0.274066"
      ]
     },
     "execution_count": 137,
     "metadata": {},
     "output_type": "execute_result"
    }
   ],
   "source": [
    "user_article_matrix_df.head()"
   ]
  },
  {
   "cell_type": "code",
   "execution_count": 138,
   "id": "802ff6e6",
   "metadata": {},
   "outputs": [
    {
     "name": "stdout",
     "output_type": "stream",
     "text": [
      "Before Sampling : 2,988,181 rows\n",
      "After Sampling : 1,342,852 rows\n",
      "The Article-Features Martix After Sampling : 500\n"
     ]
    }
   ],
   "source": [
    "# sample user_art\n",
    "user_article_matrix_df=user_article_matrix_df.reset_index(drop=True)\n",
    "\n",
    "print(\"Before Sampling : {:,} rows\".format(user_article_matrix_df.shape[0]))\n",
    "\n",
    "#user_article_matrix_df.head()\n",
    "# take only 500 articles\n",
    "user_article_matrix_df=user_article_matrix_df.loc[\n",
    "    user_article_matrix_df.article_id.isin(article_list[:sample_num_art])]\n",
    "\n",
    "print(\"After Sampling : {:,} rows\".format(user_article_matrix_df.shape[0]))\n",
    "\n",
    "\n",
    "# adapt the article_feature matrix for the sample features, here for the 500 articles\n",
    "article_feature_matrix = emb_matrix[[x for x in user_article_matrix_df.article_id.unique().tolist()]]\n",
    "\n",
    "print(\"The Article-Features Martix After Sampling : {}\".format(article_feature_matrix.shape[0]))"
   ]
  },
  {
   "cell_type": "code",
   "execution_count": 74,
   "id": "329911a9",
   "metadata": {},
   "outputs": [],
   "source": [
    "#user_article_matrix_df.article_id.max(),\n",
    "# user_article_matrix_df.article_id.min()"
   ]
  },
  {
   "cell_type": "code",
   "execution_count": 68,
   "id": "1292308c",
   "metadata": {},
   "outputs": [],
   "source": [
    "user_article_matrix_df['rating']=pd.to_numeric(user_article_matrix_df.rating)"
   ]
  },
  {
   "cell_type": "code",
   "execution_count": 69,
   "id": "d43e70dd",
   "metadata": {},
   "outputs": [
    {
     "data": {
      "text/plain": [
       "(1342852, 3)"
      ]
     },
     "execution_count": 69,
     "metadata": {},
     "output_type": "execute_result"
    }
   ],
   "source": [
    "user_article_matrix_df.shape"
   ]
  },
  {
   "cell_type": "code",
   "execution_count": 70,
   "id": "8d0f3d56",
   "metadata": {},
   "outputs": [],
   "source": [
    "# USER_ARTICLE_MATRIX WITH RATING AS VALUE\n",
    "user_articles_pivot= pd.pivot_table(user_article_matrix_df, values='rating', \n",
    "                                   index='user_id', columns='article_id', fill_value=0)\n"
   ]
  },
  {
   "cell_type": "code",
   "execution_count": 139,
   "id": "d88666d8",
   "metadata": {},
   "outputs": [
    {
     "data": {
      "text/plain": [
       "(280897, 500)"
      ]
     },
     "execution_count": 139,
     "metadata": {},
     "output_type": "execute_result"
    }
   ],
   "source": [
    "user_articles_pivot.shape"
   ]
  },
  {
   "cell_type": "code",
   "execution_count": 141,
   "id": "337b82ea",
   "metadata": {},
   "outputs": [],
   "source": [
    "# CAST AS TENSORS\n",
    "users_articles=tf.cast(user_articles_pivot.values.tolist(), dtype=tf.float64)\n",
    "articles_feats=tf.cast(article_feature_matrix.tolist(), dtype=tf.float64)"
   ]
  },
  {
   "cell_type": "code",
   "execution_count": null,
   "id": "a6c8c0fc",
   "metadata": {},
   "outputs": [],
   "source": []
  },
  {
   "cell_type": "code",
   "execution_count": 142,
   "id": "9e2888a2",
   "metadata": {},
   "outputs": [
    {
     "data": {
      "text/plain": [
       "(TensorShape([280897, 500]), TensorShape([500, 250]))"
      ]
     },
     "execution_count": 142,
     "metadata": {},
     "output_type": "execute_result"
    }
   ],
   "source": [
    "users_articles.shape, articles_feats.shape"
   ]
  },
  {
   "cell_type": "markdown",
   "id": "59deeff6",
   "metadata": {},
   "source": [
    "We have two matrices : \n",
    "* `User - Article Matrix`: each row, each user has it's interaction with articles. If no interaction, no rating, we put 0.\n",
    "* `Article - Features Matrix`: with only 500 articles (since we sampled our data) represented through 250 features.\n",
    "\n",
    "Now we can compute our User-Feature Matrix (the user-profie matrix). Then, a simple matrix multiplication will do to make a recommendation for a user."
   ]
  },
  {
   "cell_type": "code",
   "execution_count": 143,
   "id": "ad07669f",
   "metadata": {},
   "outputs": [],
   "source": [
    "users_list = user_article_matrix_df.user_id.unique().tolist()\n",
    "articles_list = [x for x in range(article_feature_matrix.shape[0])]\n",
    "features_list = [x for x in range(article_feature_matrix.shape[1])]\n",
    "num_feats=len(features_list)"
   ]
  },
  {
   "cell_type": "code",
   "execution_count": 144,
   "id": "93c796d8",
   "metadata": {},
   "outputs": [
    {
     "name": "stdout",
     "output_type": "stream",
     "text": [
      "280897\n",
      "500\n",
      "250\n"
     ]
    }
   ],
   "source": [
    "print(len(users_list))\n",
    "print(len(articles_list))\n",
    "print(len(features_list))"
   ]
  },
  {
   "cell_type": "code",
   "execution_count": 146,
   "id": "3c757eb8",
   "metadata": {},
   "outputs": [],
   "source": [
    "# compute user feature matrix\n",
    "users_feats = tf.matmul(users_articles, articles_feats)\n",
    "#users_feats"
   ]
  },
  {
   "cell_type": "code",
   "execution_count": 147,
   "id": "08872a1b",
   "metadata": {},
   "outputs": [
    {
     "data": {
      "text/plain": [
       "TensorShape([280897, 250])"
      ]
     },
     "execution_count": 147,
     "metadata": {},
     "output_type": "execute_result"
    }
   ],
   "source": [
    "users_feats.shape"
   ]
  },
  {
   "cell_type": "code",
   "execution_count": 149,
   "id": "712d6f5d",
   "metadata": {},
   "outputs": [],
   "source": [
    "# normalize user features matrix = user profile\n",
    "users_feats = users_feats/tf.reduce_sum(users_feats,axis=1,keepdims=True)\n",
    "#users_feats"
   ]
  },
  {
   "cell_type": "code",
   "execution_count": 151,
   "id": "d7f0a6b9",
   "metadata": {},
   "outputs": [],
   "source": [
    "# now lets fill the matrix of ratings\n",
    "# dot prd as similarity matrix\n",
    "users_articles_ratings = tf.matmul(users_feats, tf.transpose(articles_feats))\n",
    "#users_articles_ratings"
   ]
  },
  {
   "cell_type": "code",
   "execution_count": 153,
   "id": "5d6428ec",
   "metadata": {},
   "outputs": [
    {
     "data": {
      "text/plain": [
       "TensorShape([280897, 500])"
      ]
     },
     "execution_count": 153,
     "metadata": {},
     "output_type": "execute_result"
    }
   ],
   "source": [
    "users_articles_ratings.shape"
   ]
  },
  {
   "cell_type": "markdown",
   "id": "fba6d95e",
   "metadata": {},
   "source": [
    "The computation above finds the similarity measure between each user and each articles in our database. To focus only on the ratings for new articles, we apply a mask to the all_users_ratings matrix.\n",
    "\n",
    "If a user has already rated an article, we ignore that rating. This way, we only focus on ratings for previously unseen/unrated articles."
   ]
  },
  {
   "cell_type": "code",
   "execution_count": 154,
   "id": "94cbced3",
   "metadata": {},
   "outputs": [],
   "source": [
    "#users_articles_ratings,# users_ratings_mask\n",
    "users_articles_ratings_mask= tf.where(tf.equal(users_articles, tf.zeros_like(users_articles)),\n",
    "                                  users_articles_ratings,\n",
    "                                  tf.zeros_like(tf.cast(users_articles, tf.float64)))"
   ]
  },
  {
   "cell_type": "code",
   "execution_count": 156,
   "id": "a8f315a3",
   "metadata": {},
   "outputs": [
    {
     "data": {
      "text/plain": [
       "<tf.Tensor: shape=(280897, 5), dtype=int32, numpy=\n",
       "array([[  4, 150, 258, 290,  91],\n",
       "       [102,  91, 211, 258, 313],\n",
       "       [269, 211, 326, 425, 103],\n",
       "       ...,\n",
       "       [150,  91, 292, 258, 485],\n",
       "       [199, 251, 252, 253, 367],\n",
       "       [  4, 411, 474,  84,  67]], dtype=int32)>"
      ]
     },
     "execution_count": 156,
     "metadata": {},
     "output_type": "execute_result"
    }
   ],
   "source": [
    "num_recommendations=5\n",
    "top_articles = tf.nn.top_k(users_articles_ratings_mask, num_recommendations)[1]\n",
    "top_articles"
   ]
  },
  {
   "cell_type": "code",
   "execution_count": 157,
   "id": "e20ef30c",
   "metadata": {},
   "outputs": [
    {
     "name": "stdout",
     "output_type": "stream",
     "text": [
      "For User 0, We recommend those 5 articles : [157541, 209236, 206120, 202370, 205845]\n",
      "\n",
      "For User 1, We recommend those 5 articles : [282785, 205845, 283327, 206120, 234267]\n",
      "\n",
      "For User 2, We recommend those 5 articles : [286108, 283327, 286128, 284177, 282917]\n",
      "\n",
      "For User 3, We recommend those 5 articles : [286108, 124228, 31441, 124176, 123826]\n",
      "\n",
      "For User 4, We recommend those 5 articles : [124748, 123826, 119534, 124177, 124176]\n",
      "\n"
     ]
    }
   ],
   "source": [
    "# features list\n",
    "features=article_list[:500]\n",
    "# user list for recommendation\n",
    "users= users_list[:5]\n",
    "# number of users to loop over\n",
    "num_users= len(users)\n",
    "\n",
    "for i in range(num_users):\n",
    "    feature_names = [features[int(index)] for index in top_articles[i]]\n",
    "    print('For User {}, We recommend those 5 articles : {}'.format(users[i],feature_names))\n",
    "    print()"
   ]
  },
  {
   "cell_type": "markdown",
   "id": "37db0820",
   "metadata": {},
   "source": [
    "# 3. COLLABORATIVE FILTERING"
   ]
  },
  {
   "cell_type": "code",
   "execution_count": 186,
   "id": "812c5ca0",
   "metadata": {},
   "outputs": [],
   "source": [
    "from surprise import NormalPredictor\n",
    "from surprise import Dataset\n",
    "from surprise import Reader\n",
    "from surprise.model_selection import train_test_split\n",
    "from surprise import SVD\n",
    "from surprise import accuracy\n",
    "\n",
    "from collections import defaultdict\n",
    "import random\n",
    "\n",
    "import pickle"
   ]
  },
  {
   "cell_type": "code",
   "execution_count": 159,
   "id": "c13b2816",
   "metadata": {},
   "outputs": [
    {
     "data": {
      "text/html": [
       "<div>\n",
       "<style scoped>\n",
       "    .dataframe tbody tr th:only-of-type {\n",
       "        vertical-align: middle;\n",
       "    }\n",
       "\n",
       "    .dataframe tbody tr th {\n",
       "        vertical-align: top;\n",
       "    }\n",
       "\n",
       "    .dataframe thead th {\n",
       "        text-align: right;\n",
       "    }\n",
       "</style>\n",
       "<table border=\"1\" class=\"dataframe\">\n",
       "  <thead>\n",
       "    <tr style=\"text-align: right;\">\n",
       "      <th></th>\n",
       "      <th>user_id</th>\n",
       "      <th>article_id</th>\n",
       "      <th>rating</th>\n",
       "    </tr>\n",
       "  </thead>\n",
       "  <tbody>\n",
       "    <tr>\n",
       "      <th>1</th>\n",
       "      <td>0</td>\n",
       "      <td>68866</td>\n",
       "      <td>0.451868</td>\n",
       "    </tr>\n",
       "    <tr>\n",
       "      <th>1535241</th>\n",
       "      <td>0</td>\n",
       "      <td>87205</td>\n",
       "      <td>0.372258</td>\n",
       "    </tr>\n",
       "    <tr>\n",
       "      <th>1535240</th>\n",
       "      <td>0</td>\n",
       "      <td>87224</td>\n",
       "      <td>0.127742</td>\n",
       "    </tr>\n",
       "    <tr>\n",
       "      <th>1287361</th>\n",
       "      <td>0</td>\n",
       "      <td>96755</td>\n",
       "      <td>0.294782</td>\n",
       "    </tr>\n",
       "    <tr>\n",
       "      <th>0</th>\n",
       "      <td>0</td>\n",
       "      <td>157541</td>\n",
       "      <td>0.274066</td>\n",
       "    </tr>\n",
       "  </tbody>\n",
       "</table>\n",
       "</div>"
      ],
      "text/plain": [
       "        user_id article_id    rating\n",
       "1             0      68866  0.451868\n",
       "1535241       0      87205  0.372258\n",
       "1535240       0      87224  0.127742\n",
       "1287361       0      96755  0.294782\n",
       "0             0     157541  0.274066"
      ]
     },
     "execution_count": 159,
     "metadata": {},
     "output_type": "execute_result"
    }
   ],
   "source": [
    "df.head()"
   ]
  },
  {
   "cell_type": "code",
   "execution_count": 160,
   "id": "f6642c9b",
   "metadata": {},
   "outputs": [
    {
     "data": {
      "text/html": [
       "<div>\n",
       "<style scoped>\n",
       "    .dataframe tbody tr th:only-of-type {\n",
       "        vertical-align: middle;\n",
       "    }\n",
       "\n",
       "    .dataframe tbody tr th {\n",
       "        vertical-align: top;\n",
       "    }\n",
       "\n",
       "    .dataframe thead th {\n",
       "        text-align: right;\n",
       "    }\n",
       "</style>\n",
       "<table border=\"1\" class=\"dataframe\">\n",
       "  <thead>\n",
       "    <tr style=\"text-align: right;\">\n",
       "      <th></th>\n",
       "      <th>user_id</th>\n",
       "      <th>article_id</th>\n",
       "      <th>rating</th>\n",
       "    </tr>\n",
       "  </thead>\n",
       "  <tbody>\n",
       "    <tr>\n",
       "      <th>0</th>\n",
       "      <td>0</td>\n",
       "      <td>68866</td>\n",
       "      <td>0.451868</td>\n",
       "    </tr>\n",
       "    <tr>\n",
       "      <th>1</th>\n",
       "      <td>0</td>\n",
       "      <td>87205</td>\n",
       "      <td>0.372258</td>\n",
       "    </tr>\n",
       "    <tr>\n",
       "      <th>2</th>\n",
       "      <td>0</td>\n",
       "      <td>87224</td>\n",
       "      <td>0.127742</td>\n",
       "    </tr>\n",
       "    <tr>\n",
       "      <th>3</th>\n",
       "      <td>0</td>\n",
       "      <td>96755</td>\n",
       "      <td>0.294782</td>\n",
       "    </tr>\n",
       "    <tr>\n",
       "      <th>4</th>\n",
       "      <td>0</td>\n",
       "      <td>157541</td>\n",
       "      <td>0.274066</td>\n",
       "    </tr>\n",
       "  </tbody>\n",
       "</table>\n",
       "</div>"
      ],
      "text/plain": [
       "  user_id article_id    rating\n",
       "0       0      68866  0.451868\n",
       "1       0      87205  0.372258\n",
       "2       0      87224  0.127742\n",
       "3       0      96755  0.294782\n",
       "4       0     157541  0.274066"
      ]
     },
     "execution_count": 160,
     "metadata": {},
     "output_type": "execute_result"
    }
   ],
   "source": [
    "#df=clicks_df[['user_id', 'click_article_id', 'rating']]\n",
    "df.columns=['user_id', 'article_id', 'rating']\n",
    "df=df.reset_index(drop=True)\n",
    "df.head()"
   ]
  },
  {
   "cell_type": "code",
   "execution_count": 161,
   "id": "8eeaec40",
   "metadata": {},
   "outputs": [],
   "source": [
    "model_svd=SVD(n_factors=100, n_epochs=20, biased=True,verbose=True)"
   ]
  },
  {
   "cell_type": "code",
   "execution_count": 163,
   "id": "e8b76723",
   "metadata": {},
   "outputs": [
    {
     "name": "stdout",
     "output_type": "stream",
     "text": [
      "Size of test set : 298817\n"
     ]
    }
   ],
   "source": [
    "# A reader is still needed but only the rating_scale param is requiered.\n",
    "reader = Reader(rating_scale=(0, 1))\n",
    "\n",
    "# Split our Dataframe 75% train / 10% test\n",
    "data = Dataset.load_from_df(df, reader)\n",
    "train_set, test_set = train_test_split(data, test_size=.10)\n",
    "print(f'Size of test set : {len(test_set)}')"
   ]
  },
  {
   "cell_type": "code",
   "execution_count": 209,
   "id": "50854026",
   "metadata": {},
   "outputs": [],
   "source": [
    "#test_set"
   ]
  },
  {
   "cell_type": "code",
   "execution_count": 210,
   "id": "f3ec8ffa",
   "metadata": {},
   "outputs": [],
   "source": [
    "\n"
   ]
  },
  {
   "cell_type": "code",
   "execution_count": 211,
   "id": "1e45d562",
   "metadata": {},
   "outputs": [
    {
     "data": {
      "text/plain": [
       "(298817, 298817)"
      ]
     },
     "execution_count": 211,
     "metadata": {},
     "output_type": "execute_result"
    }
   ],
   "source": [
    "len(test_set_user_list), len(test_set_article_list)"
   ]
  },
  {
   "cell_type": "code",
   "execution_count": 212,
   "id": "001a34e4",
   "metadata": {},
   "outputs": [
    {
     "data": {
      "text/html": [
       "<div>\n",
       "<style scoped>\n",
       "    .dataframe tbody tr th:only-of-type {\n",
       "        vertical-align: middle;\n",
       "    }\n",
       "\n",
       "    .dataframe tbody tr th {\n",
       "        vertical-align: top;\n",
       "    }\n",
       "\n",
       "    .dataframe thead th {\n",
       "        text-align: right;\n",
       "    }\n",
       "</style>\n",
       "<table border=\"1\" class=\"dataframe\">\n",
       "  <thead>\n",
       "    <tr style=\"text-align: right;\">\n",
       "      <th></th>\n",
       "      <th>user_id</th>\n",
       "      <th>article_id</th>\n",
       "      <th>rating</th>\n",
       "    </tr>\n",
       "  </thead>\n",
       "  <tbody>\n",
       "    <tr>\n",
       "      <th>0</th>\n",
       "      <td>0</td>\n",
       "      <td>68866</td>\n",
       "      <td>0.451868</td>\n",
       "    </tr>\n",
       "    <tr>\n",
       "      <th>1</th>\n",
       "      <td>0</td>\n",
       "      <td>87205</td>\n",
       "      <td>0.372258</td>\n",
       "    </tr>\n",
       "    <tr>\n",
       "      <th>2</th>\n",
       "      <td>0</td>\n",
       "      <td>87224</td>\n",
       "      <td>0.127742</td>\n",
       "    </tr>\n",
       "    <tr>\n",
       "      <th>3</th>\n",
       "      <td>0</td>\n",
       "      <td>96755</td>\n",
       "      <td>0.294782</td>\n",
       "    </tr>\n",
       "    <tr>\n",
       "      <th>4</th>\n",
       "      <td>0</td>\n",
       "      <td>157541</td>\n",
       "      <td>0.274066</td>\n",
       "    </tr>\n",
       "  </tbody>\n",
       "</table>\n",
       "</div>"
      ],
      "text/plain": [
       "  user_id article_id    rating\n",
       "0       0      68866  0.451868\n",
       "1       0      87205  0.372258\n",
       "2       0      87224  0.127742\n",
       "3       0      96755  0.294782\n",
       "4       0     157541  0.274066"
      ]
     },
     "execution_count": 212,
     "metadata": {},
     "output_type": "execute_result"
    }
   ],
   "source": [
    "df.head()"
   ]
  },
  {
   "cell_type": "code",
   "execution_count": 219,
   "id": "68bda130",
   "metadata": {},
   "outputs": [],
   "source": [
    "art_df_list=df.article_id.unique()\n",
    "art_df_list=list(art_df_list)"
   ]
  },
  {
   "cell_type": "code",
   "execution_count": 222,
   "id": "0afd70f3",
   "metadata": {},
   "outputs": [],
   "source": []
  },
  {
   "cell_type": "code",
   "execution_count": 232,
   "id": "ef4fb71f",
   "metadata": {},
   "outputs": [
    {
     "name": "stdout",
     "output_type": "stream",
     "text": [
      "The article 59929 is not in the set\n"
     ]
    }
   ],
   "source": []
  },
  {
   "cell_type": "code",
   "execution_count": 217,
   "id": "e4c09443",
   "metadata": {},
   "outputs": [
    {
     "data": {
      "text/plain": [
       "True"
      ]
     },
     "execution_count": 217,
     "metadata": {},
     "output_type": "execute_result"
    }
   ],
   "source": [
    "157541 in test_set_article_list"
   ]
  },
  {
   "cell_type": "code",
   "execution_count": 230,
   "id": "b346cbd5",
   "metadata": {},
   "outputs": [
    {
     "name": "stdout",
     "output_type": "stream",
     "text": [
      "Is the User 4 in test_set ?: False\n",
      "Is the User 0 in test_set ?: True\n"
     ]
    }
   ],
   "source": [
    "test_set_article_list=[]\n",
    "for  u in range(len(test_set)):\n",
    "    test_set_article_list.append(test_set[u][1])\n",
    "    \n",
    "art_df_list=df.article_id.unique()\n",
    "art_df_list=list(art_df_list)\n",
    "\n",
    "for i in art_df_list:\n",
    "    if i not in test_set_article_list:\n",
    "        print(\"The article {} is not in the set\".format(i))\n",
    "        break\n",
    "        \n",
    "        \n",
    "test_set_user_list=[]\n",
    "for  u in range(len(test_set)):\n",
    "    test_set_user_list.append(test_set[u][0])\n",
    "    \n",
    "\n",
    "print(\"Is the User 4 in test_set ?:\", 4 in test_set_user_list)\n",
    "print(\"Is the User 0 in test_set ?:\",0 in test_set_user_list)"
   ]
  },
  {
   "cell_type": "code",
   "execution_count": 207,
   "id": "c9a4b862",
   "metadata": {},
   "outputs": [
    {
     "name": "stdout",
     "output_type": "stream",
     "text": [
      "True\n"
     ]
    }
   ],
   "source": []
  },
  {
   "cell_type": "code",
   "execution_count": 164,
   "id": "6c266812",
   "metadata": {},
   "outputs": [
    {
     "data": {
      "text/html": [
       "<div>\n",
       "<style scoped>\n",
       "    .dataframe tbody tr th:only-of-type {\n",
       "        vertical-align: middle;\n",
       "    }\n",
       "\n",
       "    .dataframe tbody tr th {\n",
       "        vertical-align: top;\n",
       "    }\n",
       "\n",
       "    .dataframe thead th {\n",
       "        text-align: right;\n",
       "    }\n",
       "</style>\n",
       "<table border=\"1\" class=\"dataframe\">\n",
       "  <thead>\n",
       "    <tr style=\"text-align: right;\">\n",
       "      <th></th>\n",
       "      <th>user_id</th>\n",
       "      <th>article_id</th>\n",
       "      <th>rating</th>\n",
       "    </tr>\n",
       "  </thead>\n",
       "  <tbody>\n",
       "    <tr>\n",
       "      <th>0</th>\n",
       "      <td>0</td>\n",
       "      <td>68866</td>\n",
       "      <td>0.451868</td>\n",
       "    </tr>\n",
       "    <tr>\n",
       "      <th>1945</th>\n",
       "      <td>64</td>\n",
       "      <td>68866</td>\n",
       "      <td>0.109652</td>\n",
       "    </tr>\n",
       "    <tr>\n",
       "      <th>2207</th>\n",
       "      <td>65</td>\n",
       "      <td>68866</td>\n",
       "      <td>0.272638</td>\n",
       "    </tr>\n",
       "    <tr>\n",
       "      <th>2426</th>\n",
       "      <td>77</td>\n",
       "      <td>68866</td>\n",
       "      <td>0.502664</td>\n",
       "    </tr>\n",
       "    <tr>\n",
       "      <th>2749</th>\n",
       "      <td>94</td>\n",
       "      <td>68866</td>\n",
       "      <td>0.028716</td>\n",
       "    </tr>\n",
       "  </tbody>\n",
       "</table>\n",
       "</div>"
      ],
      "text/plain": [
       "     user_id article_id    rating\n",
       "0          0      68866  0.451868\n",
       "1945      64      68866  0.109652\n",
       "2207      65      68866  0.272638\n",
       "2426      77      68866  0.502664\n",
       "2749      94      68866  0.028716"
      ]
     },
     "execution_count": 164,
     "metadata": {},
     "output_type": "execute_result"
    }
   ],
   "source": [
    "df[df.article_id==68866].head()"
   ]
  },
  {
   "cell_type": "code",
   "execution_count": 165,
   "id": "ace8d8cc",
   "metadata": {},
   "outputs": [
    {
     "name": "stdout",
     "output_type": "stream",
     "text": [
      "Processing epoch 0\n",
      "Processing epoch 1\n",
      "Processing epoch 2\n",
      "Processing epoch 3\n",
      "Processing epoch 4\n",
      "Processing epoch 5\n",
      "Processing epoch 6\n",
      "Processing epoch 7\n",
      "Processing epoch 8\n",
      "Processing epoch 9\n",
      "Processing epoch 10\n",
      "Processing epoch 11\n",
      "Processing epoch 12\n",
      "Processing epoch 13\n",
      "Processing epoch 14\n",
      "Processing epoch 15\n",
      "Processing epoch 16\n",
      "Processing epoch 17\n",
      "Processing epoch 18\n",
      "Processing epoch 19\n"
     ]
    }
   ],
   "source": [
    "# TRAINING\n",
    "model=model_svd.fit(train_set)"
   ]
  },
  {
   "cell_type": "code",
   "execution_count": 166,
   "id": "913838b7",
   "metadata": {},
   "outputs": [
    {
     "name": "stdout",
     "output_type": "stream",
     "text": [
      "RMSE: 0.1911\n",
      "MSE: 0.0365\n",
      "MAE:  0.1532\n",
      "Prediction rating for User 0 with Article 68866 : 0.4302732036706051\n",
      "Current rating : [0.4518676723177274]\n"
     ]
    }
   ],
   "source": [
    "# RESULT FROM TRAINING\n",
    "\n",
    "predict = model.test(test_set)\n",
    "\n",
    "#Print our Results\n",
    "accuracy.rmse(predict)\n",
    "accuracy.mse(predict)\n",
    "accuracy.mae(predict);\n",
    "\n",
    "print(f'Prediction rating for User 0 with Article 68866 : {model.predict(0, 68866).est}')\n",
    "print(f'Current rating : {df[(df[\"user_id\"] == 0) & (df[\"article_id\"] == 68866)][\"rating\"].values}')"
   ]
  },
  {
   "cell_type": "code",
   "execution_count": 172,
   "id": "e6848758",
   "metadata": {},
   "outputs": [
    {
     "data": {
      "text/plain": [
       "[(62219, 214631, 0.7032677619579284),\n",
       " (59198, 353786, 0.36632330773005894),\n",
       " (72464, 254808, 0.0006922561790897257),\n",
       " (33613, 97520, 0.030660400212837047),\n",
       " (215366, 233997, 0.02264145682736778)]"
      ]
     },
     "execution_count": 172,
     "metadata": {},
     "output_type": "execute_result"
    }
   ],
   "source": [
    "# let's say we have 62219 that is no in the training set\n",
    "test_set[:5]"
   ]
  },
  {
   "cell_type": "markdown",
   "id": "82c392a3",
   "metadata": {},
   "source": [
    "###### model.predict \n",
    "Compute the rating prediction for given user and item.\n",
    "The ``predict`` method converts raw ids to inner ids and then calls the\n",
    "``estimate`` method which is defined in every derived class. \n",
    "\n",
    "If the prediction is impossible (e.g. because the user and/or the item is\n",
    "unknown), the prediction is set according to\n",
    ":meth:`default_prediction()"
   ]
  },
  {
   "cell_type": "code",
   "execution_count": 177,
   "id": "535fffdc",
   "metadata": {},
   "outputs": [
    {
     "data": {
      "text/plain": [
       "0.24987237936747725"
      ]
     },
     "execution_count": 177,
     "metadata": {},
     "output_type": "execute_result"
    }
   ],
   "source": [
    "# Compute the rating prediction for given user and item.\n",
    "model.predict(47000, 323).est"
   ]
  },
  {
   "cell_type": "code",
   "execution_count": null,
   "id": "171709e2",
   "metadata": {},
   "outputs": [],
   "source": [
    "# How to manage new User, \n",
    "# That is not in our database?\n",
    "# That has no history of behaviour?\n"
   ]
  },
  {
   "cell_type": "code",
   "execution_count": 178,
   "id": "9987d9c9",
   "metadata": {},
   "outputs": [],
   "source": [
    "art_list=df.article_id.unique().tolist()"
   ]
  },
  {
   "cell_type": "code",
   "execution_count": 253,
   "id": "8a7b5c4d",
   "metadata": {},
   "outputs": [],
   "source": [
    "def reco_to_user_5_art(userId):\n",
    "    \"\"\"\n",
    "    Arguments:\n",
    "        userId: the user id from 0 to 46047\n",
    "    Returns:\n",
    "        a list of five articles to recommend to the User\n",
    "    \n",
    "    \"\"\"\n",
    "    reco_dict = {}\n",
    "    # Please do not propose me articles that I already digested\n",
    "    user_digest = df[df.user_id==userId].article_id.tolist()\n",
    "    for art in art_list:\n",
    "        if art not in user_digest:\n",
    "            reco_dict[art]=model.predict(userId, art).est\n",
    "    \n",
    "    return list({k: v for k, v in sorted(reco_dict.items(),\n",
    "                                         key=lambda item: item[1], reverse=True)}.keys())[:5]\n",
    "    "
   ]
  },
  {
   "cell_type": "code",
   "execution_count": 233,
   "id": "46b027db",
   "metadata": {},
   "outputs": [
    {
     "name": "stdout",
     "output_type": "stream",
     "text": [
      "The article 59929 is not in the set\n",
      "Is the User 4 in test_set ?: False\n",
      "Is the User 0 in test_set ?: True\n"
     ]
    }
   ],
   "source": [
    "# TEST SCENARIOS\n",
    "\n",
    "test_set_article_list=[]\n",
    "for  u in range(len(test_set)):\n",
    "    test_set_article_list.append(test_set[u][1])\n",
    "    \n",
    "art_df_list=df.article_id.unique()\n",
    "art_df_list=list(art_df_list)\n",
    "\n",
    "for i in art_df_list:\n",
    "    if i not in test_set_article_list:\n",
    "        print(\"The article {} is not in the set\".format(i))\n",
    "        break\n",
    "        \n",
    "        \n",
    "test_set_user_list=[]\n",
    "for  u in range(len(test_set)):\n",
    "    test_set_user_list.append(test_set[u][0])\n",
    "    \n",
    "\n",
    "print(\"Is the User 4 in test_set ?:\", 4 in test_set_user_list)\n",
    "print(\"Is the User 0 in test_set ?:\",0 in test_set_user_list)\n"
   ]
  },
  {
   "cell_type": "code",
   "execution_count": 187,
   "id": "c991b561",
   "metadata": {},
   "outputs": [],
   "source": [
    "# USER ALREADY KNOWN BY THE MODEL"
   ]
  },
  {
   "cell_type": "raw",
   "id": "e28084f1",
   "metadata": {},
   "source": [
    "userId=4\n",
    "articleId=59929\n",
    "print(f'Prediction rating : {model.predict(userId, articleId).est}')\n",
    "print(f'Current rating : {df[(df[\"user_id\"] == userId) & (df[\"article_id\"] == articleId)][\"rating\"].values}')"
   ]
  },
  {
   "cell_type": "code",
   "execution_count": 250,
   "id": "801f4238",
   "metadata": {},
   "outputs": [],
   "source": [
    "#reco_to_user_art(4, 59929)"
   ]
  },
  {
   "cell_type": "code",
   "execution_count": 249,
   "id": "240b4e87",
   "metadata": {},
   "outputs": [
    {
     "data": {
      "text/plain": [
       "[83890, 207122, 37968, 100929, 70439]"
      ]
     },
     "execution_count": 249,
     "metadata": {},
     "output_type": "execute_result"
    }
   ],
   "source": [
    "reco_to_user_5_art(4)"
   ]
  },
  {
   "cell_type": "code",
   "execution_count": 188,
   "id": "5937656f",
   "metadata": {},
   "outputs": [],
   "source": [
    "# USER UNKNOWN BY THE MODEL"
   ]
  },
  {
   "cell_type": "code",
   "execution_count": 251,
   "id": "99f4757e",
   "metadata": {},
   "outputs": [
    {
     "data": {
      "text/plain": [
       "[207122, 307561, 358085, 356647, 38708]"
      ]
     },
     "execution_count": 251,
     "metadata": {},
     "output_type": "execute_result"
    }
   ],
   "source": [
    "reco_to_user_5_art(0)"
   ]
  },
  {
   "cell_type": "code",
   "execution_count": 252,
   "id": "ed25d302",
   "metadata": {},
   "outputs": [
    {
     "data": {
      "text/plain": [
       "[207122, 119193, 48403, 183176, 38708]"
      ]
     },
     "execution_count": 252,
     "metadata": {},
     "output_type": "execute_result"
    }
   ],
   "source": [
    "reco_to_user_5_art(322899)"
   ]
  },
  {
   "cell_type": "code",
   "execution_count": null,
   "id": "6e94cc6a",
   "metadata": {},
   "outputs": [],
   "source": [
    "# AN ARTICLE UNKNOWN TO THE MODEL"
   ]
  },
  {
   "cell_type": "markdown",
   "id": "e75a203b",
   "metadata": {},
   "source": [
    "- We use article metadata to represente in a dimension.\n",
    "- use Similarity \n",
    "- Lui affecter les même rating que le produit il est le plus similaire."
   ]
  },
  {
   "cell_type": "code",
   "execution_count": null,
   "id": "722dbd4a",
   "metadata": {},
   "outputs": [],
   "source": []
  },
  {
   "cell_type": "code",
   "execution_count": 107,
   "id": "72db55ca",
   "metadata": {},
   "outputs": [
    {
     "data": {
      "text/plain": [
       "322897"
      ]
     },
     "execution_count": 107,
     "metadata": {},
     "output_type": "execute_result"
    }
   ],
   "source": [
    "len(df.user_id.unique().tolist())"
   ]
  },
  {
   "cell_type": "code",
   "execution_count": 185,
   "id": "f9cd9f26",
   "metadata": {},
   "outputs": [
    {
     "data": {
      "text/plain": [
       "[207122, 119193, 48403, 183176, 38708]"
      ]
     },
     "execution_count": 185,
     "metadata": {},
     "output_type": "execute_result"
    }
   ],
   "source": [
    "reco_to_user_5_art(322899)"
   ]
  },
  {
   "cell_type": "code",
   "execution_count": 129,
   "id": "a93904ad",
   "metadata": {},
   "outputs": [
    {
     "data": {
      "text/plain": [
       "[207122, 119193, 163469, 96210, 183176]"
      ]
     },
     "execution_count": 129,
     "metadata": {},
     "output_type": "execute_result"
    }
   ],
   "source": [
    "# new\n",
    "reco_to_user_5_art(322897)"
   ]
  },
  {
   "cell_type": "markdown",
   "id": "179ea84f",
   "metadata": {},
   "source": [
    "# 4. DEPLOYMENT ON AZURE CLOUD SERVICES\n",
    "\n",
    "Many ways to deploy our algo to the cloud.\n",
    "Here we consider using the Collaborative Fitering algorithm which is more flexible in term of portability or usability.\n",
    "\n",
    "We are then going to explore two case: \n",
    "* Create an inference for our Collaborative Filtering Model and then DEploy it on Azure Cloud Serivice, and then. use it in a serverless architecture with Azure Functions.\n",
    "* Create a DataBase, CosmosDB Table Storage, upload our recommendation for like 50 Users, and then use it in a serverless architecture with Azure Functions.\n",
    "\n",
    "\n"
   ]
  },
  {
   "cell_type": "markdown",
   "id": "65ca57e9",
   "metadata": {},
   "source": [
    "## 4.1 Azure Functions - HTTP Trigger to call an inference function "
   ]
  },
  {
   "cell_type": "markdown",
   "id": "6e3fc3e7",
   "metadata": {},
   "source": [
    "## 4.1.1 Create an inference model of the Collaborative Filetering "
   ]
  },
  {
   "cell_type": "code",
   "execution_count": 2,
   "id": "2f284bdf",
   "metadata": {},
   "outputs": [
    {
     "name": "stderr",
     "output_type": "stream",
     "text": [
      "Failure while loading azureml_run_type_providers. Failed to load entrypoint azureml.scriptrun = azureml.core.script_run:ScriptRun._from_run_dto with exception (azure-mgmt-resource 20.0.0 (/Users/kindi/opt/anaconda3/lib/python3.8/site-packages), Requirement.parse('azure-mgmt-resource<15.0.0,>=1.2.1')).\n"
     ]
    }
   ],
   "source": [
    "# import Azure SDK libraries\n",
    "import azureml\n",
    "from azureml.core import Workspace\n",
    "from azureml.core import Model\n",
    "from azureml.core import Experiment\n",
    "from azureml.core.webservice import Webservice\n",
    "from azureml.core.image import ContainerImage\n",
    "from azureml.core.webservice import AciWebservice\n",
    "from azureml.core.conda_dependencies import CondaDependencies"
   ]
  },
  {
   "cell_type": "code",
   "execution_count": 3,
   "id": "a24ef5d5",
   "metadata": {},
   "outputs": [],
   "source": [
    "import os\n",
    "from azureml.core import Experiment\n",
    "from azureml.core.compute import ComputeTarget, AmlCompute\n",
    "from azureml.core.compute_target import ComputeTargetException"
   ]
  },
  {
   "cell_type": "code",
   "execution_count": null,
   "id": "de67fb5c",
   "metadata": {},
   "outputs": [],
   "source": []
  },
  {
   "cell_type": "code",
   "execution_count": 5,
   "id": "a6038452",
   "metadata": {},
   "outputs": [
    {
     "name": "stdout",
     "output_type": "stream",
     "text": [
      "Deploying KeyVault with name openclaskeyvault5ee933da.\n",
      "Deploying AppInsights with name openclasinsightsf06c7f5c.\n",
      "Deployed AppInsights with name openclasinsightsf06c7f5c. Took 9.04 seconds.\n",
      "Deploying StorageAccount with name openclasstorage858184905.\n",
      "Deployed KeyVault with name openclaskeyvault5ee933da. Took 25.25 seconds.\n",
      "Deployed StorageAccount with name openclasstorage858184905. Took 28.17 seconds.\n",
      "Deploying Workspace with name openclassroomrecommend.\n",
      "Deployed Workspace with name openclassroomrecommend. Took 72.81 seconds.\n"
     ]
    }
   ],
   "source": [
    "ws = Workspace.create(name='openclassroomrecommend',\n",
    "                      subscription_id=\"b7ff1da8-65bd-4db1-b5db-e88f05415e38\",\n",
    "                      resource_group='kba-grp',\n",
    "                      create_resource_group=True,\n",
    "                      location='eastus2'\n",
    "                     )\n",
    "#ws.write_config()"
   ]
  },
  {
   "cell_type": "code",
   "execution_count": 6,
   "id": "782edb7d",
   "metadata": {},
   "outputs": [],
   "source": [
    "ws.write_config()"
   ]
  },
  {
   "cell_type": "code",
   "execution_count": 7,
   "id": "ca28f50d",
   "metadata": {},
   "outputs": [
    {
     "name": "stdout",
     "output_type": "stream",
     "text": [
      "Workspace name: openclassroomrecommend\n",
      "Azure region: eastus2\n",
      "Subscription id: b7ff1da8-65bd-4db1-b5db-e88f05415e38\n",
      "Resource group: kba-grp\n"
     ]
    }
   ],
   "source": [
    "# reuse the Workspac we have already crated\n",
    "ws = Workspace.from_config()\n",
    "print('Workspace name: ' + ws.name, \n",
    "      'Azure region: ' + ws.location, \n",
    "      'Subscription id: ' + ws.subscription_id, \n",
    "      'Resource group: ' + ws.resource_group, sep='\\n')"
   ]
  },
  {
   "cell_type": "code",
   "execution_count": 166,
   "id": "3fff4950",
   "metadata": {},
   "outputs": [],
   "source": [
    "#article_list =  df.article_id.unique().tolist()"
   ]
  },
  {
   "cell_type": "code",
   "execution_count": 168,
   "id": "6bf34e15",
   "metadata": {},
   "outputs": [],
   "source": [
    "from azureml.core import Environment\n",
    "from azureml.core.conda_dependencies import CondaDependencies"
   ]
  },
  {
   "cell_type": "raw",
   "id": "ddd0b3a5",
   "metadata": {},
   "source": [
    "system_env = Environment(\"SystemManageDeps\")\n",
    "\n",
    "system_env.python.user_managed_dependencies = True\n",
    "system_env.docker.enabled = True"
   ]
  },
  {
   "cell_type": "code",
   "execution_count": null,
   "id": "0404d370",
   "metadata": {},
   "outputs": [],
   "source": [
    "#Environment.get(workspace=ws,name='SystemManageDeps',version=1)"
   ]
  },
  {
   "cell_type": "code",
   "execution_count": 161,
   "id": "356bab0b",
   "metadata": {},
   "outputs": [
    {
     "name": "stdout",
     "output_type": "stream",
     "text": [
      "Overwriting conda_dependencies.yml\n"
     ]
    }
   ],
   "source": [
    "%%writefile conda_dependencies.yml\n",
    "\n",
    "channels:\n",
    "- conda-forge\n",
    "dependencies:\n",
    " - python=3.8\n",
    " - pip=21.0.1\n",
    " - pip:\n",
    "    - azureml-defaults\n",
    "    - surprise==0.1\n",
    "    - collections2\n",
    "  "
   ]
  },
  {
   "cell_type": "code",
   "execution_count": 216,
   "id": "f6668971",
   "metadata": {},
   "outputs": [
    {
     "name": "stdout",
     "output_type": "stream",
     "text": [
      "[207122, 38708, 85043, 164213, 307561]\n"
     ]
    }
   ],
   "source": [
    "def reco_to_user_5_art(userId):\n",
    "    reco_dict = {}\n",
    "    #user_digest = df[df.user_id==userId].article_id.tolist()\n",
    "    #user_digest_list=user_digest[userId]\n",
    "    user_digest_list=[68866, 87205, 87224, 96755, 157541, 160158, 233470, 313996]\n",
    "    for art in art_list:\n",
    "        if art not in user_digest_list:\n",
    "            \n",
    "            reco_dict[art]=model.predict(userId, art).est\n",
    "    \n",
    "    return list({k: v for k, v in sorted(reco_dict.items(),\n",
    "                                         key=lambda item: item[1], reverse=True)}.keys())[:5]\n",
    "\n",
    "with open(os.path.join(model_root, \"list_user_digest_50.txt\"), 'rb') as file:\n",
    "    user_digest= pickle.load(file)\n",
    "    \n",
    "with open(os.path.join(model_root, \"list_articles.txt\"), 'rb') as file:\n",
    "    art_list = pickle.load(file)\n",
    "    \n",
    "user_digest=[68866, 87205, 87224, 96755, 157541, 160158, 233470, 313996]\n",
    "print(reco_to_user_5_art(0))"
   ]
  },
  {
   "cell_type": "code",
   "execution_count": 298,
   "id": "b0d819a0",
   "metadata": {
    "scrolled": true
   },
   "outputs": [],
   "source": [
    "#df.head()\n",
    "#user_digest[]\n",
    "#art_list"
   ]
  },
  {
   "cell_type": "code",
   "execution_count": 233,
   "id": "92098aca",
   "metadata": {},
   "outputs": [
    {
     "name": "stdout",
     "output_type": "stream",
     "text": [
      "Overwriting score.py\n"
     ]
    }
   ],
   "source": [
    "%%writefile score.py\n",
    "import os\n",
    "import json\n",
    "import pickle\n",
    "import surprise\n",
    "from surprise import SVD\n",
    "from collections import defaultdict\n",
    "\n",
    "\n",
    "from azureml.core.model import Model\n",
    "\n",
    "\n",
    "def reco_to_user_5_art(userId):\n",
    "    reco_dict = {}\n",
    "    user_digest_list=user_digest[userId]\n",
    "    \n",
    "    for art in art_list:\n",
    "        if art not in user_digest_list:\n",
    "            \n",
    "            reco_dict[art]=model.predict(userId, art).est\n",
    "    \n",
    "    return list({k: v for k, v in sorted(reco_dict.items(),\n",
    "                                         key=lambda item: item[1], reverse=True)}.keys())[:5]\n",
    "\n",
    "\n",
    "def init():\n",
    "    global model\n",
    "    global art_list\n",
    "    global user_digest\n",
    "    model_root = Model.get_model_path('recoarticles')\n",
    "    # read the model\n",
    "    with open(os.path.join(model_root,'model_reco_svd.pkl'), 'rb') as file:\n",
    "        model = pickle.load(file)\n",
    "        \n",
    "    print(\"The model from pickle : \", model)\n",
    "    \n",
    "    with open(os.path.join(model_root, \"list_articles.txt\"), 'rb') as file:\n",
    "        art_list = pickle.load(file)\n",
    "    \n",
    "    with open(os.path.join(model_root, \"list_user_digest_50.txt\"), 'rb') as file:\n",
    "        user_digest= pickle.load(file)\n",
    " \n",
    "    \n",
    "def run(raw_data):\n",
    "    \n",
    "    userid= json.loads(raw_data)['userId']\n",
    "    reco_5_art_list=reco_to_user_5_art(userid)\n",
    "    \n",
    "    return json.dumps(reco_5_art_list)"
   ]
  },
  {
   "cell_type": "code",
   "execution_count": 171,
   "id": "08e38a31",
   "metadata": {},
   "outputs": [
    {
     "name": "stdout",
     "output_type": "stream",
     "text": [
      "list_articles.txt       list_user_digest_50.txt model_reco_svd.pkl\r\n"
     ]
    }
   ],
   "source": [
    "#!ls \n",
    "#model_root='./outputs/model/'\n",
    "\n",
    "!ls $model_root"
   ]
  },
  {
   "cell_type": "code",
   "execution_count": 160,
   "id": "e8691bc9",
   "metadata": {},
   "outputs": [
    {
     "name": "stdout",
     "output_type": "stream",
     "text": [
      "{\"userId\": 0}\n"
     ]
    },
    {
     "data": {
      "text/plain": [
       "'[207122, 38708, 85043, 164213, 307561]'"
      ]
     },
     "execution_count": 160,
     "metadata": {},
     "output_type": "execute_result"
    }
   ],
   "source": [
    "init\n",
    "with open(os.path.join(model_root, \"list_articles.txt\"), 'rb') as file:\n",
    "    art_list = pickle.load(file)\n",
    "    \n",
    "with open(os.path.join(model_root, \"list_user_digest_50.txt\"), 'rb') as file:\n",
    "    user_digest= pickle.load(file)\n",
    "        \n",
    "raw_data={\"userId\":0}\n",
    "raw_data=json.dumps(raw_data)\n",
    "print(raw_data)\n",
    "run(raw_data)"
   ]
  },
  {
   "cell_type": "code",
   "execution_count": 207,
   "id": "84aa1139",
   "metadata": {},
   "outputs": [],
   "source": [
    "reco_env = Environment.from_conda_specification(name = 'recoenv', file_path = './conda_dependencies.yml')"
   ]
  },
  {
   "cell_type": "code",
   "execution_count": null,
   "id": "fe258ab4",
   "metadata": {},
   "outputs": [],
   "source": [
    "#reco_env = Environment.get(workspace=ws,name='SystemManageDeps',version=1)\n",
    "#reco_env\n",
    "#https://towardsdatascience.com/reproducible-environments-by-azure-machine-learning-34a74772c38b"
   ]
  },
  {
   "cell_type": "code",
   "execution_count": null,
   "id": "90eb8262",
   "metadata": {},
   "outputs": [],
   "source": []
  },
  {
   "cell_type": "code",
   "execution_count": 174,
   "id": "29159912",
   "metadata": {},
   "outputs": [],
   "source": [
    "# instantiate the experiment, the entry point for the Azure ML\n",
    "exp = Experiment(workspace=ws, name='recommendarticlesforuser')"
   ]
  },
  {
   "cell_type": "code",
   "execution_count": 226,
   "id": "4219988a",
   "metadata": {},
   "outputs": [
    {
     "name": "stderr",
     "output_type": "stream",
     "text": [
      "'enabled' is deprecated. Please use the azureml.core.runconfig.DockerConfiguration object with the 'use_docker' param instead.\n"
     ]
    }
   ],
   "source": [
    "from azureml.core import Environment\n",
    "\n",
    "reco_env = Environment.from_conda_specification(name = 'recoenv', file_path = './conda_dependencies.yml')\n",
    "# Specify a GPU base image??\n",
    "reco_env.docker.enabled = True\n",
    "reco_env.docker.base_image = 'mcr.microsoft.com/azureml/openmpi3.1.2-cuda10.0-cudnn7-ubuntu18.04'"
   ]
  },
  {
   "cell_type": "code",
   "execution_count": 234,
   "id": "c484334f",
   "metadata": {},
   "outputs": [
    {
     "name": "stderr",
     "output_type": "stream",
     "text": [
      "'enabled' is deprecated. Please use the azureml.core.runconfig.DockerConfiguration object with the 'use_docker' param instead.\n"
     ]
    },
    {
     "name": "stdout",
     "output_type": "stream",
     "text": [
      "Registering model recoarticles\n",
      "Model is registered\n",
      "inference_config is set\n",
      "ACI Created\n"
     ]
    },
    {
     "data": {
      "text/plain": [
       "' \\nservice = Model.deploy(workspace=ws, \\n                           name=\\'recommendarticlesforusers\\', \\n                           models=[model_regis], \\n                           inference_config=inference_config, \\n                           deployment_config=aciconfig)\\n\\n\\nprint(\"Model deployment started!\")\\nservice.wait_for_deployment(True)\\n\\nprint(service.state)\\n# if things go wrong !!!!!\\n#print(service.get_logs())\\nprint(service.scoring_uri)\\n'"
      ]
     },
     "execution_count": 234,
     "metadata": {},
     "output_type": "execute_result"
    }
   ],
   "source": [
    "from azureml.core.webservice import AciWebservice\n",
    "from azureml.core.model import InferenceConfig\n",
    "from azureml.core.model import Model\n",
    "from azureml.core import Dataset, Run, Environment\n",
    "\n",
    "# ENV CREATION\n",
    "reco_env = Environment.from_conda_specification(name = 'recoenv', file_path = './conda_dependencies.yml')\n",
    "# Specify a GPU base image??\n",
    "reco_env.docker.enabled = True\n",
    "reco_env.docker.base_image = 'mcr.microsoft.com/azureml/openmpi3.1.2-cuda10.0-cudnn7-ubuntu18.04'\n",
    "\n",
    "# MODEL CREATION\n",
    "model_regis = Model.register(ws, model_name='recoarticles', model_path='outputs/model')\n",
    "print(\"Model is registered\")\n",
    "\n",
    "# INFERENC CONFIG CREATION\n",
    "inference_config = InferenceConfig(entry_script=\"score.py\", environment=reco_env)\n",
    "print(\"inference_config is set\")\n",
    "\n",
    "# ACI CONFIG CREATION\n",
    "aciconfig = AciWebservice.deploy_configuration(cpu_cores=2,\n",
    "                                               auth_enabled=True, # this flag generates API keys to secure access\n",
    "                                               memory_gb=2,\n",
    "                                               tags={'name': 'recommendation', 'framework': 'classique'},\n",
    "                                               description='recommendation systems in play')\n",
    "print(\"ACI Created\")"
   ]
  },
  {
   "cell_type": "code",
   "execution_count": 235,
   "id": "b2596964",
   "metadata": {},
   "outputs": [
    {
     "name": "stdout",
     "output_type": "stream",
     "text": [
      "Model deployment started!\n"
     ]
    }
   ],
   "source": [
    "# MODEL DEPLOY INSTANTIATION\n",
    "service = Model.deploy(workspace=ws, \n",
    "                           name='recommendarticlesforusers', \n",
    "                           models=[model_regis], \n",
    "                           inference_config=inference_config, \n",
    "                           deployment_config=aciconfig)\n",
    "\n",
    "\n",
    "print(\"Model deployment started!\")\n"
   ]
  },
  {
   "cell_type": "code",
   "execution_count": 236,
   "id": "fa1286c7",
   "metadata": {},
   "outputs": [
    {
     "name": "stdout",
     "output_type": "stream",
     "text": [
      "Tips: You can try get_logs(): https://aka.ms/debugimage#dockerlog or local deployment: https://aka.ms/debugimage#debug-locally to debug if deployment takes longer than 10 minutes.\n",
      "Running\n",
      "2022-01-10 01:30:50+01:00 Creating Container Registry if not exists.\n",
      "2022-01-10 01:30:50+01:00 Registering the environment.\n",
      "2022-01-10 01:30:51+01:00 Use the existing image.\n",
      "2022-01-10 01:30:51+01:00 Generating deployment configuration.\n",
      "2022-01-10 01:30:52+01:00 Submitting deployment to compute.\n",
      "2022-01-10 01:30:55+01:00 Checking the status of deployment recommendarticlesforusers..\n",
      "2022-01-10 01:34:19+01:00 Checking the status of inference endpoint recommendarticlesforusers.\n",
      "Succeeded\n",
      "ACI service creation operation finished, operation \"Succeeded\"\n"
     ]
    }
   ],
   "source": [
    "# SERVICE DEPLOY EXECUTION\n",
    "service.wait_for_deployment(True)"
   ]
  },
  {
   "cell_type": "code",
   "execution_count": 259,
   "id": "da03705f",
   "metadata": {
    "scrolled": false
   },
   "outputs": [
    {
     "name": "stdout",
     "output_type": "stream",
     "text": [
      "http://118795b5-6f88-4795-a8c9-afdb53f2b858.eastus2.azurecontainer.io/score\n"
     ]
    }
   ],
   "source": [
    "print(service.scoring_uri)"
   ]
  },
  {
   "cell_type": "code",
   "execution_count": 248,
   "id": "e8a0efcb",
   "metadata": {},
   "outputs": [],
   "source": [
    "# TEST\n",
    "import json\n",
    "\n",
    "# prepare the input \n",
    "\n",
    "test_samples = json.dumps({\"userId\": 0 })\n",
    "#test_samples = bytes(test_samples, encoding='utf8')\n",
    "\n",
    "\n",
    "# predict using the deployed model\n",
    "pred = service.run(test_samples)\n"
   ]
  },
  {
   "cell_type": "code",
   "execution_count": 249,
   "id": "25b0a98c",
   "metadata": {
    "scrolled": true
   },
   "outputs": [
    {
     "name": "stdout",
     "output_type": "stream",
     "text": [
      "[207122, 249782, 356647, 192079, 85224]\n"
     ]
    }
   ],
   "source": [
    "print(pred)"
   ]
  },
  {
   "cell_type": "code",
   "execution_count": 264,
   "id": "0afe7293",
   "metadata": {},
   "outputs": [
    {
     "data": {
      "text/plain": [
       "bytes"
      ]
     },
     "execution_count": 264,
     "metadata": {},
     "output_type": "execute_result"
    }
   ],
   "source": [
    "#service.get_logs()\n",
    "type(result)"
   ]
  },
  {
   "cell_type": "markdown",
   "id": "30012cab",
   "metadata": {},
   "source": []
  },
  {
   "cell_type": "code",
   "execution_count": 271,
   "id": "43b63c98",
   "metadata": {},
   "outputs": [],
   "source": [
    "import urllib.request\n",
    "import json\n",
    "import os\n",
    "import ssl\n",
    "import ast\n",
    "\n",
    "\n",
    "def query_inference_url(userId):\n",
    "    def allowSelfSignedHttps(allowed):\n",
    "    # bypass the server certificate verification on client side\n",
    "        if allowed and not os.environ.get('PYTHONHTTPSVERIFY', '') and getattr(ssl, \n",
    "                                                                           '_create_unverified_context', None):\n",
    "            ssl._create_default_https_context = ssl._create_unverified_context\n",
    "\n",
    "    allowSelfSignedHttps(True) # this line is needed if you use self-signed certificate in your scoring service.\n",
    "\n",
    "    # Request data goes here\n",
    "    data={}\n",
    "    data[\"userId\"]=userId\n",
    "    #data = {\"userId\":0}\n",
    "    \n",
    "    body = str.encode(json.dumps(data))\n",
    "    \n",
    "    #body = json.dumps(data)\n",
    "    \n",
    "    url = 'http://118795b5-6f88-4795-a8c9-afdb53f2b858.eastus2.azurecontainer.io/score'\n",
    "    api_key = 'D659AM1lPUtvre2EKcveZE9qL7uv6Yo3' # Replace this with the API key for the web service\n",
    "    headers = {'Content-Type':'application/json', 'Authorization':('Bearer '+ api_key)}\n",
    "    \n",
    "    req = urllib.request.Request(url, body, headers)\n",
    "    response = urllib.request.urlopen(req)\n",
    "\n",
    "    result = response.read()\n",
    "    result=ast.literal_eval(result.decode(\"utf8\"))\n",
    "    return result\n",
    "        "
   ]
  },
  {
   "cell_type": "code",
   "execution_count": 277,
   "id": "d9792f88",
   "metadata": {},
   "outputs": [
    {
     "data": {
      "text/plain": [
       "'[207122, 356647, 37980, 61582, 138215]'"
      ]
     },
     "execution_count": 277,
     "metadata": {},
     "output_type": "execute_result"
    }
   ],
   "source": [
    "query_inference_url(49)"
   ]
  },
  {
   "cell_type": "code",
   "execution_count": 51,
   "id": "fd65d37e",
   "metadata": {},
   "outputs": [
    {
     "name": "stdout",
     "output_type": "stream",
     "text": [
      "curl: (7) Failed to connect to localhost port 7071: Connection refused\r\n"
     ]
    }
   ],
   "source": [
    "# LOCAL TESTING\n",
    "!curl -X POST -H 'Content-type: application/json' \\\n",
    "     --data '{\"userId\":1}'\\\n",
    "      http://localhost:7071/api/HttpTriggerFunctionOC"
   ]
  },
  {
   "cell_type": "code",
   "execution_count": 45,
   "id": "09002c71",
   "metadata": {},
   "outputs": [
    {
     "name": "stdout",
     "output_type": "stream",
     "text": [
      "\"[207122, 249782, 356647, 192079, 85224]\""
     ]
    }
   ],
   "source": [
    "# AFTER CONFIG OF HTTP TRIGGER FUNCTION\n",
    "!curl -X POST -H 'Content-type: application/json' \\\n",
    "     --data '{\"userId\":0}'\\\n",
    "      https://pythonfuncapplication.azurewebsites.net/api/HttpTriggerFunctionOC"
   ]
  },
  {
   "cell_type": "code",
   "execution_count": null,
   "id": "b072f136",
   "metadata": {},
   "outputs": [],
   "source": []
  },
  {
   "cell_type": "markdown",
   "id": "763a3b57",
   "metadata": {},
   "source": [
    "## 4.2 Azure Functions - HTTP Trigger to query CosmosDB Table Storage\n"
   ]
  },
  {
   "cell_type": "code",
   "execution_count": 334,
   "id": "a2b4f206",
   "metadata": {},
   "outputs": [],
   "source": [
    "from azure.cosmosdb.table.models import Entity\n",
    "from azure.cosmosdb.table.tableservice import TableService\n",
    "from azure.cosmosdb.table.tablebatch import TableBatch"
   ]
  },
  {
   "cell_type": "code",
   "execution_count": 329,
   "id": "126150a9",
   "metadata": {
    "scrolled": true
   },
   "outputs": [],
   "source": [
    "from azure.cosmosdb.table import TableService\n",
    "\n",
    "the_connection_string = \"DefaultEndpointsProtocol=https;AccountName=cosmosdbtablestorage;AccountKey=2tXvzLhzW9UgOmv2zoOe6RiInKkP7rUGWwo7r265PkK1g5xHU7doQjlVZtbmJXZUtGd500BdQvx22gc9MZmRBA==;TableEndpoint=https://cosmosdbtablestorage.table.cosmos.azure.com:443/;\"\n",
    "\n",
    "table_service= TableService(endpoint_suffix = \"table.cosmos.azure.com\", \n",
    "                            connection_string= the_connection_string)\n",
    "\n"
   ]
  },
  {
   "cell_type": "code",
   "execution_count": 331,
   "id": "6d28eeb3",
   "metadata": {},
   "outputs": [
    {
     "data": {
      "text/plain": [
       "True"
      ]
     },
     "execution_count": 331,
     "metadata": {},
     "output_type": "execute_result"
    }
   ],
   "source": [
    "# create table\n",
    "table_service.create_table('myrecotable')"
   ]
  },
  {
   "cell_type": "code",
   "execution_count": 358,
   "id": "1191462a",
   "metadata": {},
   "outputs": [],
   "source": [
    "#for u in range(10):\n",
    " #   print(\"{} : {}\".format(u, reco_to_user_5_art(u)))"
   ]
  },
  {
   "cell_type": "code",
   "execution_count": 338,
   "id": "1359abdf",
   "metadata": {},
   "outputs": [
    {
     "data": {
      "text/plain": [
       "'W/\"datetime\\'2022-01-10T14%3A37%3A04.6614029Z\\'\"'"
      ]
     },
     "execution_count": 338,
     "metadata": {},
     "output_type": "execute_result"
    }
   ],
   "source": [
    "# Example of inserting an entity value to a key/pair allocation\n",
    "\n",
    "task= {'PartitionKey': 'userId', 'RowKey': str(0),\n",
    "        'listValue': str([207122, 238178, 74254, 219410, 174386]), \n",
    "         'priority': 400}\n",
    "table_service.insert_entity('myrecotable', task)"
   ]
  },
  {
   "cell_type": "code",
   "execution_count": 359,
   "id": "71883f53",
   "metadata": {},
   "outputs": [
    {
     "data": {
      "text/plain": [
       "'[207122, 38708, 85043, 164213, 307561]'"
      ]
     },
     "execution_count": 359,
     "metadata": {},
     "output_type": "execute_result"
    }
   ],
   "source": [
    "table_service.get_entity('myrecotable','userId', '0').listValue"
   ]
  },
  {
   "cell_type": "code",
   "execution_count": 343,
   "id": "e26de06e",
   "metadata": {},
   "outputs": [],
   "source": [
    "# clean\n",
    "table_service.delete_entity('myrecotable', 'userId','0')"
   ]
  },
  {
   "cell_type": "raw",
   "id": "cdfa7e86",
   "metadata": {},
   "source": [
    "# INSET BATCH OF 50 USER RECOZ\n",
    "batch = TableBatch()\n",
    "\n",
    "for u in range(50):\n",
    "    print(\"{} : {}\".format(u, reco_to_user_5_art(u)))\n",
    "    task= {'PartitionKey': 'userId', 'RowKey': str(u),\n",
    "           'listValue': str(reco_to_user_5_art(u)), 'priority': 400}\n",
    "    batch.insert_entity(task)\n",
    "\n",
    "\n",
    "table_service.commit_batch('myrecotable', batch)"
   ]
  },
  {
   "cell_type": "code",
   "execution_count": 372,
   "id": "d687b3f3",
   "metadata": {},
   "outputs": [
    {
     "data": {
      "text/plain": [
       "'[150028, 207122, 227545, 226632, 38708]'"
      ]
     },
     "execution_count": 372,
     "metadata": {},
     "output_type": "execute_result"
    }
   ],
   "source": [
    "table_service.get_entity('myrecotable', 'userId', '1').listValue"
   ]
  },
  {
   "cell_type": "code",
   "execution_count": 362,
   "id": "eb9d583a",
   "metadata": {},
   "outputs": [],
   "source": [
    "# function def to retrieve from DB\n",
    "def get_article_list(userid):\n",
    "    task = table_service.get_entity('myrecotable', 'userId', str(userid))\n",
    "    return ast.literal_eval(task.listValue)"
   ]
  },
  {
   "cell_type": "code",
   "execution_count": 373,
   "id": "fbeb1eae",
   "metadata": {},
   "outputs": [
    {
     "data": {
      "text/plain": [
       "[150028, 207122, 227545, 226632, 38708]"
      ]
     },
     "execution_count": 373,
     "metadata": {},
     "output_type": "execute_result"
    }
   ],
   "source": [
    "get_article_list(1)"
   ]
  },
  {
   "cell_type": "code",
   "execution_count": 36,
   "id": "936e29af",
   "metadata": {},
   "outputs": [
    {
     "name": "stdout",
     "output_type": "stream",
     "text": [
      "[150028, 207122, 227545, 226632, 38708]"
     ]
    }
   ],
   "source": [
    "# AFTER CONFIG OF HTTP TRIGGER FUNCTION\n",
    "\n",
    "!curl -X POST -H 'Content-type: application/json' \\\n",
    "     --data '{\"userId\":1}'\\\n",
    "     https://pythonfuncapplicationcosmos.azurewebsites.net/api/HttpCosmosDBTable"
   ]
  },
  {
   "cell_type": "code",
   "execution_count": null,
   "id": "1c985ca8",
   "metadata": {},
   "outputs": [],
   "source": []
  },
  {
   "attachments": {},
   "cell_type": "markdown",
   "id": "96c6af72",
   "metadata": {},
   "source": [
    "# BookShelf Application \n",
    "\n",
    "Integrate a URL call the app confoguration files\n",
    "\n",
    "It accepts a json format input like :\n",
    "```json\n",
    "{userId:__some_user_id__}\n",
    "````\n",
    "\n",
    "\n",
    "[BookShel Github Link](https://github.com/OpenClassrooms-Student-Center/bookshelf)\n",
    "\n",
    "### BookShelf Application with an example of a User connection "
   ]
  },
  {
   "attachments": {
    "image.png": {
     "image/png": "[encoded data removed]"
    }
   },
   "cell_type": "markdown",
   "id": "84d765db",
   "metadata": {},
   "source": [
    "![image.png](attachment:image.png)"
   ]
  }
 ],
 "metadata": {
  "kernelspec": {
   "display_name": "Python 3",
   "language": "python",
   "name": "python3"
  },
  "language_info": {
   "codemirror_mode": {
    "name": "ipython",
    "version": 3
   },
   "file_extension": ".py",
   "mimetype": "text/x-python",
   "name": "python",
   "nbconvert_exporter": "python",
   "pygments_lexer": "ipython3",
   "version": "3.8.8"
  }
 },
 "nbformat": 4,
 "nbformat_minor": 5
}
