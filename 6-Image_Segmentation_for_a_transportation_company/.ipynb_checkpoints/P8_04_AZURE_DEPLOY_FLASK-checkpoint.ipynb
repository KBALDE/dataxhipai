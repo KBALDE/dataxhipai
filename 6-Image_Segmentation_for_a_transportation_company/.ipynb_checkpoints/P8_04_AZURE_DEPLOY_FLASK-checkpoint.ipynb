{
 "cells": [
  {
   "cell_type": "markdown",
   "id": "228aeea3",
   "metadata": {},
   "source": [
    "# AZURE DEPLOYEMNT PROCESS\n",
    "\n",
    "\n",
    "In this project, we created a Notebook on Azure ML Services with a compute machine to build and run our model. And that instead of doing it from our local machine.\n",
    "\n",
    "After training the model we deployed and got back an edpoint to use in other services like Flask"
   ]
  },
  {
   "cell_type": "code",
   "execution_count": null,
   "id": "0b4d3696",
   "metadata": {},
   "outputs": [],
   "source": [
    "# IMPORT SOME LIBS"
   ]
  },
  {
   "cell_type": "code",
   "execution_count": 46,
   "id": "dfe424f4",
   "metadata": {
    "gather": {
     "logged": 1639408808389
    }
   },
   "outputs": [],
   "source": [
    "import sys\n",
    "\n",
    "if not sys.warnoptions:\n",
    "    import warnings\n",
    "    warnings.simplefilter(\"ignore\")\n"
   ]
  },
  {
   "cell_type": "markdown",
   "id": "83c16ff1",
   "metadata": {},
   "source": [
    "## WORKSPACE CREATION OR INSTANTIATION"
   ]
  },
  {
   "cell_type": "code",
   "execution_count": 47,
   "id": "dc05c700",
   "metadata": {
    "gather": {
     "logged": 1639408825607
    }
   },
   "outputs": [],
   "source": [
    "# import Azure SDK libraries\n",
    "\n",
    "\n",
    "import sys\n",
    "\n",
    "if not sys.warnoptions:\n",
    "    import warnings\n",
    "    warnings.simplefilter(\"ignore\")\n",
    "    \n",
    "    \n",
    "import azureml\n",
    "from azureml.core import Workspace\n",
    "from azureml.core import Model\n",
    "from azureml.core import Experiment\n",
    "from azureml.core.webservice import Webservice\n",
    "from azureml.core.image import ContainerImage\n",
    "from azureml.core.webservice import AciWebservice\n",
    "from azureml.core.conda_dependencies import CondaDependencies"
   ]
  },
  {
   "cell_type": "code",
   "execution_count": 48,
   "id": "347ddd56",
   "metadata": {
    "gather": {
     "logged": 1639414152760
    }
   },
   "outputs": [
    {
     "name": "stdout",
     "output_type": "stream",
     "text": [
      "Workspace name: airparadisopenclassroom\n",
      "Azure region: eastus2\n",
      "Subscription id: b7ff1da8-65bd-4db1-b5db-e88f05415e38\n",
      "Resource group: kba-grp\n"
     ]
    }
   ],
   "source": [
    "ws = Workspace.from_config()\n",
    "print('Workspace name: ' + ws.name, \n",
    "      'Azure region: ' + ws.location, \n",
    "      'Subscription id: ' + ws.subscription_id, \n",
    "      'Resource group: ' + ws.resource_group, sep='\\n')"
   ]
  },
  {
   "cell_type": "markdown",
   "id": "b5cfb260",
   "metadata": {},
   "source": [
    "## PREPARE THE MODEL FOR TRAINING"
   ]
  },
  {
   "cell_type": "code",
   "execution_count": 49,
   "id": "b8796960",
   "metadata": {
    "gather": {
     "logged": 1639408869357
    }
   },
   "outputs": [],
   "source": [
    "# MODEL TO TRAIN IN PY\n",
    "\n",
    "import pandas as pd \n",
    "import numpy as np\n",
    "import os\n",
    "import matplotlib.pyplot as plt\n",
    "\n",
    "import tensorflow as tf\n",
    "from tensorflow import keras\n",
    "from tensorflow.keras import layers\n",
    "\n",
    "from tensorflow.keras.models import model_from_json\n",
    "\n",
    "from tensorflow.keras.callbacks import Callback\n",
    "from azureml.core import Dataset, Run"
   ]
  },
  {
   "cell_type": "code",
   "execution_count": 50,
   "id": "dfd2e335-7f6f-4ed8-aa2b-b4ff035fa809",
   "metadata": {
    "gather": {
     "logged": 1639408941550
    },
    "jupyter": {
     "outputs_hidden": false,
     "source_hidden": false
    },
    "nteract": {
     "transient": {
      "deleting": false
     }
    }
   },
   "outputs": [],
   "source": [
    "# LIBS\n",
    "\n",
    "from tensorflow.keras.layers import Input\n",
    "from tensorflow.keras.layers import Conv2D\n",
    "from tensorflow.keras.layers import MaxPooling2D\n",
    "from tensorflow.keras.layers import Dropout \n",
    "from tensorflow.keras.layers import Conv2DTranspose\n",
    "from tensorflow.keras.layers import concatenate\n",
    "\n",
    "from tensorflow.keras.preprocessing import image\n",
    "from tensorflow.keras.preprocessing.image import ImageDataGenerator\n",
    "\n",
    "from tensorflow.keras.callbacks import  EarlyStopping\n",
    "\n",
    "import imageio\n",
    "import os"
   ]
  },
  {
   "cell_type": "code",
   "execution_count": 104,
   "id": "50258c16-dd6c-4fb8-ae45-dbfb7df0d337",
   "metadata": {
    "gather": {
     "logged": 1639408954451
    },
    "jupyter": {
     "outputs_hidden": false,
     "source_hidden": false
    },
    "nteract": {
     "transient": {
      "deleting": false
     }
    }
   },
   "outputs": [],
   "source": [
    "# IMPORT MODEL AND UTILS FUNCTIONS\n",
    "from utils_unet_model import *\n",
    "\n",
    "from utils_funct_vgg import *\n"
   ]
  },
  {
   "cell_type": "code",
   "execution_count": 119,
   "id": "b5b5825a",
   "metadata": {},
   "outputs": [],
   "source": [
    "# SOME FUCNTIONS CREATED ALONG THE WAY \n",
    "\n",
    "def readDataImagesProd(image_list):\n",
    "    target_size=(224, 224)\n",
    "    img_list=[]\n",
    "    for i in range(len(image_list)):\n",
    "        img = imageio.imread(image_list[i])\n",
    "        img = img[:,:, :3]                 # RETRIEVE the three first channels \n",
    "        img = tf.image.convert_image_dtype(img, tf.float32)\n",
    "        img = tf.image.resize(img, target_size )\n",
    "        img_list.append(img)\n",
    "        \n",
    "    img_array= np.asarray(img_list)    \n",
    "\n",
    "    return img_array\n",
    "\n",
    "\n",
    "def read_raw_image_file(image_file):\n",
    "    target_size=(224, 224)\n",
    "    \n",
    "    img = imageio.imread(image_file)\n",
    "    img = img[:,:, :3]                 # RETRIEVE the three first channels \n",
    "    img = tf.image.convert_image_dtype(img, tf.float32)\n",
    "    img = tf.image.resize(img, target_size )  \n",
    "    img_array= np.asarray(img)    \n",
    "\n",
    "    return img_array"
   ]
  },
  {
   "cell_type": "code",
   "execution_count": 105,
   "id": "28674b4a-1971-488f-b2e8-1c07d74bce71",
   "metadata": {
    "gather": {
     "logged": 1639408959250
    },
    "jupyter": {
     "outputs_hidden": false,
     "source_hidden": false
    },
    "nteract": {
     "transient": {
      "deleting": false
     }
    }
   },
   "outputs": [],
   "source": [
    "# GET LIST OF IMAGE FILES  FROM DIRECTORIES\n",
    "val_image_list, val_mask_list = getFilesPathsList(main_path, val_path_image, val_path_mask )\n",
    "\n",
    "test_image_list , test_mask_list  = getFilesPathsList(main_path, test_path_image, test_path_mask)\n",
    "\n",
    "train_image_list, train_mask_list  = getFilesPathsList(main_path, train_path_image, train_path_mask )\n",
    "\n",
    "# add 1025 images files list to the train set from test sets\n",
    "train_image_list , test_image_list  = train_image_list + test_image_list[:1025] , test_image_list[1025:]\n",
    "train_mask_list , test_mask_list  = train_mask_list + test_mask_list[:1025] , test_mask_list[1025:]\n"
   ]
  },
  {
   "cell_type": "code",
   "execution_count": null,
   "id": "7a828e2e",
   "metadata": {},
   "outputs": [],
   "source": [
    "# GET DATA PREDICT API"
   ]
  },
  {
   "cell_type": "code",
   "execution_count": 106,
   "id": "a78a4d41",
   "metadata": {},
   "outputs": [],
   "source": [
    "val_image, val_mask = readDataImages(val_image_list[:3], \n",
    "                             val_mask_list[:3])\n"
   ]
  },
  {
   "cell_type": "code",
   "execution_count": 145,
   "id": "a9b0c647",
   "metadata": {},
   "outputs": [
    {
     "data": {
      "text/plain": [
       "['./gtFine/val_images/frankfurt_000000_000294_gtFine_color.png',\n",
       " './gtFine/val_images/frankfurt_000000_000576_gtFine_color.png',\n",
       " './gtFine/val_images/frankfurt_000000_001016_gtFine_color.png']"
      ]
     },
     "execution_count": 145,
     "metadata": {},
     "output_type": "execute_result"
    }
   ],
   "source": [
    "val_image_list[:3]"
   ]
  },
  {
   "cell_type": "code",
   "execution_count": 139,
   "id": "3e7a88a0",
   "metadata": {},
   "outputs": [
    {
     "name": "stdout",
     "output_type": "stream",
     "text": [
      "frankfurt_000000_000294_gtFine_color\n",
      "frankfurt_000000_000576_gtFine_color\n",
      "frankfurt_000000_001016_gtFine_color\n"
     ]
    }
   ],
   "source": [
    "import os\n",
    "os.path.basename\n",
    "for i in val_image_list[:3]:\n",
    "    print(os.path.basename(i).split('.')[0])"
   ]
  },
  {
   "cell_type": "code",
   "execution_count": 181,
   "id": "5077e360",
   "metadata": {},
   "outputs": [],
   "source": [
    "img_id=[os.path.basename(x).split('.')[0]  for x  in sorted(val_image_list[:3])]\n",
    "\n",
    "def get_img_path_file(img_id):\n",
    "    \"\"\"\n",
    "    could change the path_root to be transportable folder\n",
    "    containing the images\n",
    "    \"\"\"\n",
    "    path_root='./gtFine/val_images/'\n",
    "    return path_root+img_id+'.png'\n",
    "\n",
    "\n",
    "def read_raw_image_file(image_file):\n",
    "    \n",
    "    target_size=(224, 224)\n",
    "    \n",
    "    img = imageio.imread(image_file)\n",
    "    img = img[:,:, :3]                 # RETRIEVE the three first channels \n",
    "    img = tf.image.convert_image_dtype(img, tf.float32)\n",
    "    img = tf.image.resize(img, target_size )  \n",
    "    img_array= np.asarray(img)    \n",
    "\n",
    "    return img_array\n",
    "    \n",
    "\n",
    "img_array=read_raw_image_file(get_img_path_file(img_id[2]))\n",
    "\n",
    "print(img_array.shape)\n",
    "# convert to tensor and add a dim\n",
    "sample_img=tf.constant(img_array)[tf.newaxis, ...]\n",
    "print(sample_img.shape)"
   ]
  },
  {
   "cell_type": "code",
   "execution_count": 182,
   "id": "2fe2eb6b",
   "metadata": {},
   "outputs": [
    {
     "data": {
      "text/plain": [
       "'./gtFine/val_images/frankfurt_000000_000294_gtFine_color.png'"
      ]
     },
     "execution_count": 182,
     "metadata": {},
     "output_type": "execute_result"
    }
   ],
   "source": [
    "get_img_path_file(img_id[0])"
   ]
  },
  {
   "cell_type": "code",
   "execution_count": 174,
   "id": "3e813ffb",
   "metadata": {},
   "outputs": [
    {
     "name": "stdout",
     "output_type": "stream",
     "text": [
      "./gtFine/val_images/frankfurt_000000_000294_gtFine_color.png\r\n"
     ]
    }
   ],
   "source": [
    "!ls './gtFine/val_images/frankfurt_000000_000294_gtFine_color.png'"
   ]
  },
  {
   "cell_type": "code",
   "execution_count": 183,
   "id": "0ce58240",
   "metadata": {},
   "outputs": [],
   "source": [
    "# read img_path_file\n",
    "img_ray= read_raw_image_file(get_img_path_file(img_id[0]))"
   ]
  },
  {
   "cell_type": "code",
   "execution_count": 184,
   "id": "9f63d1ce",
   "metadata": {},
   "outputs": [
    {
     "data": {
      "text/plain": [
       "(224, 224, 3)"
      ]
     },
     "execution_count": 184,
     "metadata": {},
     "output_type": "execute_result"
    }
   ],
   "source": [
    "img_ray.shape"
   ]
  },
  {
   "cell_type": "code",
   "execution_count": 185,
   "id": "e2d71842",
   "metadata": {},
   "outputs": [],
   "source": [
    "img_array=read_raw_image_file(get_img_path_file(img_id[2]))"
   ]
  },
  {
   "cell_type": "code",
   "execution_count": 186,
   "id": "cf685b82",
   "metadata": {},
   "outputs": [
    {
     "name": "stdout",
     "output_type": "stream",
     "text": [
      "(224, 224, 3)\n",
      "(1, 224, 224, 3)\n"
     ]
    }
   ],
   "source": [
    "print(img_ray.shape)\n",
    "# convert to tensor and add a dim\n",
    "sample_img=tf.constant(img_array)[tf.newaxis, ...]\n",
    "print(sample_img.shape)"
   ]
  },
  {
   "cell_type": "code",
   "execution_count": 116,
   "id": "28b21a96",
   "metadata": {},
   "outputs": [],
   "source": [
    "val_image1=readDataImagesProd(val_image_list[:3])"
   ]
  },
  {
   "cell_type": "code",
   "execution_count": 120,
   "id": "26d1d0c8",
   "metadata": {},
   "outputs": [],
   "source": [
    "val_data_image= tf.data.Dataset.from_tensor_slices(val_image1)"
   ]
  },
  {
   "cell_type": "code",
   "execution_count": 122,
   "id": "f45d6bbe",
   "metadata": {},
   "outputs": [
    {
     "name": "stdout",
     "output_type": "stream",
     "text": [
      "(1, 224, 224, 3)\n",
      "(1, 224, 224, 3)\n",
      "(1, 224, 224, 3)\n"
     ]
    }
   ],
   "source": [
    "for i in val_data_image.batch(1):\n",
    "    print(i.shape)"
   ]
  },
  {
   "cell_type": "code",
   "execution_count": 125,
   "id": "9c87b659",
   "metadata": {},
   "outputs": [
    {
     "data": {
      "text/plain": [
       "TensorShape([1, 224, 224, 3])"
      ]
     },
     "execution_count": 125,
     "metadata": {},
     "output_type": "execute_result"
    }
   ],
   "source": [
    "tf.constant(val_image1[0])[tf.newaxis, ...].shape"
   ]
  },
  {
   "cell_type": "code",
   "execution_count": 109,
   "id": "87b9f551",
   "metadata": {},
   "outputs": [],
   "source": [
    "val_image, val_mask = stackDataSets(val_image, val_mask)"
   ]
  },
  {
   "cell_type": "code",
   "execution_count": null,
   "id": "df4527ec",
   "metadata": {},
   "outputs": [],
   "source": []
  },
  {
   "cell_type": "code",
   "execution_count": 110,
   "id": "1ee2fd36",
   "metadata": {},
   "outputs": [],
   "source": [
    "val_data_unet= tf.data.Dataset.from_tensor_slices((val_image, val_mask))"
   ]
  },
  {
   "cell_type": "code",
   "execution_count": null,
   "id": "86060b1e",
   "metadata": {},
   "outputs": [],
   "source": []
  },
  {
   "cell_type": "code",
   "execution_count": 111,
   "id": "fdf28ef8",
   "metadata": {},
   "outputs": [
    {
     "name": "stdout",
     "output_type": "stream",
     "text": [
      "(224, 224, 3) (224, 224, 1)\n"
     ]
    }
   ],
   "source": [
    "for i, j in val_data_unet.take(1):\n",
    "    print(i.shape, j.shape)"
   ]
  },
  {
   "cell_type": "code",
   "execution_count": null,
   "id": "5ddefc98",
   "metadata": {},
   "outputs": [],
   "source": [
    "# END GET DATA PREDICT API"
   ]
  },
  {
   "cell_type": "code",
   "execution_count": 10,
   "id": "516c45ee-72a3-43af-9248-0ae02f59e912",
   "metadata": {
    "gather": {
     "logged": 1639409770287
    },
    "jupyter": {
     "outputs_hidden": false,
     "source_hidden": false
    },
    "nteract": {
     "transient": {
      "deleting": false
     }
    }
   },
   "outputs": [],
   "source": [
    "# READ FROM RAW\n",
    "val_image, val_mask = readDataImages(val_image_list, \n",
    "                             val_mask_list)\n",
    "\n",
    "test_image, test_mask = readDataImages(test_image_list, \n",
    "                             test_mask_list)\n",
    "\n",
    "train_image, train_mask = readDataImages(train_image_list, \n",
    "                             train_mask_list)"
   ]
  },
  {
   "cell_type": "code",
   "execution_count": 11,
   "id": "5008c44d-30d9-41a4-828c-4f25bc21d5aa",
   "metadata": {
    "gather": {
     "logged": 1639410279463
    },
    "jupyter": {
     "outputs_hidden": false,
     "source_hidden": false
    },
    "nteract": {
     "transient": {
      "deleting": false
     }
    }
   },
   "outputs": [],
   "source": [
    "# SEG GEN\n",
    "val_image, val_mask = stackDataSets(val_image, val_mask)\n",
    "\n",
    "train_image, train_mask= stackDataSets(train_image, train_mask)"
   ]
  },
  {
   "cell_type": "code",
   "execution_count": 11,
   "id": "957f6817-b2b7-4ebb-b67c-ca6af3b7525c",
   "metadata": {
    "gather": {
     "logged": 1639401696603
    },
    "jupyter": {
     "outputs_hidden": false,
     "source_hidden": false
    },
    "nteract": {
     "transient": {
      "deleting": false
     }
    }
   },
   "outputs": [],
   "source": [
    "# AUGMENT AND MERGE \n",
    "# I usually off it for testing \n",
    "# A good way double up the data\n",
    "# I used ALBUMENTION \n",
    "# And USE ROTATTION AND HORIZONTAL_FLIP\n",
    "val_image, val_mask = augConcat(val_image.numpy(), val_mask.numpy()) \n",
    "\n",
    "train_image, train_mask = augConcat(train_image.numpy(), train_mask.numpy() ) \n"
   ]
  },
  {
   "cell_type": "code",
   "execution_count": 12,
   "id": "75c9b207-3902-43e1-89c4-72642a4dd624",
   "metadata": {
    "gather": {
     "logged": 1639410281012
    },
    "jupyter": {
     "outputs_hidden": false,
     "source_hidden": false
    },
    "nteract": {
     "transient": {
      "deleting": false
     }
    }
   },
   "outputs": [],
   "source": [
    "# create TF Datasets\n",
    "\n",
    "val_data_unet= tf.data.Dataset.from_tensor_slices((val_image, val_mask))\n",
    "\n",
    "\n",
    "test_data_unet= tf.data.Dataset.from_tensor_slices((test_image, test_mask))\n",
    "\n",
    "\n",
    "train_data_unet=tf.data.Dataset.from_tensor_slices((train_image, train_mask))\n",
    "\n"
   ]
  },
  {
   "cell_type": "code",
   "execution_count": 13,
   "id": "29d2bdad-6ed6-450c-ac10-f42317f4cabf",
   "metadata": {
    "gather": {
     "logged": 1639410285436
    },
    "jupyter": {
     "outputs_hidden": false,
     "source_hidden": false
    },
    "nteract": {
     "transient": {
      "deleting": false
     }
    }
   },
   "outputs": [
    {
     "name": "stdout",
     "output_type": "stream",
     "text": [
      "(224, 224, 3)\n"
     ]
    },
    {
     "data": {
      "text/plain": [
       "(500, 4000)"
      ]
     },
     "execution_count": 13,
     "metadata": {},
     "output_type": "execute_result"
    }
   ],
   "source": [
    "for i, j in val_data_unet.take(1):\n",
    "    print(i.shape)\n",
    "len(list(val_data_unet)), len(list(train_data_unet))"
   ]
  },
  {
   "cell_type": "markdown",
   "id": "ac5be43c-fd13-499e-8b10-9cab10a1e9b8",
   "metadata": {
    "nteract": {
     "transient": {
      "deleting": false
     }
    }
   },
   "source": [
    "# TRAINING\n",
    "I changed the batch size to one for inference constraint.\n",
    "I was getting an error with the query after return. And instead increasing the service workload, I just decreased the batch size. The performance didn't change so...\n"
   ]
  },
  {
   "cell_type": "code",
   "execution_count": null,
   "id": "3b8a223b-f021-47b2-8521-4857089301c8",
   "metadata": {
    "jupyter": {
     "outputs_hidden": false,
     "source_hidden": false
    },
    "nteract": {
     "transient": {
      "deleting": false
     }
    }
   },
   "outputs": [],
   "source": [
    "# model\n",
    "img_height = 224\n",
    "img_width = 224\n",
    "num_channels = 3\n",
    "\n",
    "unet = unet_model((img_height, img_width, num_channels), n_classes=8)\n",
    "\n",
    "unet.compile(optimizer='adam',\n",
    "              loss=tf.keras.losses.SparseCategoricalCrossentropy(from_logits=True),\n",
    "              metrics=['accuracy'])\n"
   ]
  },
  {
   "cell_type": "code",
   "execution_count": 108,
   "id": "65c0d94b-97ea-45e9-95cc-f57dda72fd07",
   "metadata": {
    "gather": {
     "logged": 1639426890563
    },
    "jupyter": {
     "outputs_hidden": false,
     "source_hidden": false
    },
    "nteract": {
     "transient": {
      "deleting": false
     }
    }
   },
   "outputs": [
    {
     "name": "stdout",
     "output_type": "stream",
     "text": [
      "(TensorSpec(shape=(None, 224, 224, 3), dtype=tf.float32, name=None), TensorSpec(shape=(None, 224, 224, 1), dtype=tf.float64, name=None))\n",
      "4000\n",
      "Epoch 1/20\n",
      "20/20 - 3s - loss: 0.0947 - accuracy: 0.9711 - val_loss: 0.1137 - val_accuracy: 0.9635 - 3s/epoch - 145ms/step\n",
      "Epoch 2/20\n",
      "20/20 - 2s - loss: 0.0626 - accuracy: 0.9809 - val_loss: 0.0960 - val_accuracy: 0.9702 - 2s/epoch - 121ms/step\n",
      "Epoch 3/20\n",
      "20/20 - 2s - loss: 0.0891 - accuracy: 0.9739 - val_loss: 0.1049 - val_accuracy: 0.9678 - 2s/epoch - 119ms/step\n",
      "Epoch 4/20\n",
      "Restoring model weights from the end of the best epoch: 1.\n",
      "20/20 - 2s - loss: 0.0648 - accuracy: 0.9798 - val_loss: 0.0743 - val_accuracy: 0.9757 - 2s/epoch - 122ms/step\n",
      "Epoch 00004: early stopping\n"
     ]
    }
   ],
   "source": [
    "# TRAINING\n",
    "\n",
    "EPOCHS = 20\n",
    "VAL_SUBSPLITS = 5\n",
    "BUFFER_SIZE = 250\n",
    "BATCH_SIZE = 1\n",
    "\n",
    "steps_per_epoch=20\n",
    "validation_steps=20\n",
    "\n",
    "\n",
    "#train_data_unet1 = train_data_unet.batch(BATCH_SIZE)\n",
    "#val_data_unet1 = val_data_unet.batch(BATCH_SIZE)\n",
    "\n",
    "train_data_unet1 = train_data_unet.cache().shuffle(BUFFER_SIZE).batch(BATCH_SIZE)\n",
    "val_data_unet1 = val_data_unet.cache().shuffle(BUFFER_SIZE).batch(BATCH_SIZE)\n",
    "\n",
    "\n",
    "\n",
    "print(train_data_unet1.element_spec)\n",
    "\n",
    "print(len(list(train_data_unet1)))\n",
    "\n",
    "model_history = unet.fit(train_data_unet1, \n",
    "          epochs=EPOCHS, \n",
    "          validation_data=val_data_unet1, \n",
    "          steps_per_epoch=steps_per_epoch, \n",
    "          validation_steps=validation_steps,\n",
    "          verbose=2,\n",
    "          callbacks=[EarlyStopping(\n",
    "              patience=7,\n",
    "              min_delta=0.05,\n",
    "              baseline=0.8,\n",
    "              mode='min',\n",
    "              monitor='val_loss',\n",
    "              restore_best_weights=True,\n",
    "              verbose=1)\n",
    "          ])"
   ]
  },
  {
   "cell_type": "code",
   "execution_count": 19,
   "id": "642c152e-2d66-4583-83a7-36cdf54a8efc",
   "metadata": {
    "gather": {
     "logged": 1639411898519
    },
    "jupyter": {
     "outputs_hidden": false,
     "source_hidden": false
    },
    "nteract": {
     "transient": {
      "deleting": false
     }
    }
   },
   "outputs": [],
   "source": [
    "def show_predictions_unet(dataset=None, num=1):\n",
    "    \"\"\"\n",
    "    Displays the first image of each of the num batches\n",
    "    \"\"\"\n",
    "    if dataset:\n",
    "        for image, mask in dataset.take(num):\n",
    "            pred_mask = unet.predict(image)\n",
    "            display([image[0], mask[0], create_mask(pred_mask)])\n",
    "    else:\n",
    "        display([sample_image, sample_mask,\n",
    "             create_mask(unet.predict(sample_image[tf.newaxis, ...]))])"
   ]
  },
  {
   "cell_type": "code",
   "execution_count": 112,
   "id": "d2954902-a84f-47af-8669-b28f6eb36263",
   "metadata": {
    "gather": {
     "logged": 1639427108191
    },
    "jupyter": {
     "outputs_hidden": false,
     "source_hidden": false
    },
    "nteract": {
     "transient": {
      "deleting": false
     }
    }
   },
   "outputs": [
    {
     "name": "stdout",
     "output_type": "stream",
     "text": [
      "(1, 224, 224, 3) (1, 224, 224, 1)\n",
      "(224, 224, 3)\n"
     ]
    }
   ],
   "source": [
    "# AZURE LOCAL PREDICTION\n",
    "for image, mask in val_data_unet1.take(1):\n",
    "    sample_image, sample_mask = image[0], mask[0]\n",
    "    print(image.shape, mask.shape)\n",
    "    print(sample_image.shape)\n",
    "    #print(sample_mask.shape)\n",
    "#pred_mask = unet.predict(sample_image[tf.newaxis, ...])\n",
    "#display([sample_image, sample_mask])"
   ]
  },
  {
   "cell_type": "code",
   "execution_count": 114,
   "id": "fd9eb12f-6f39-44f9-8f3d-47818feddfcc",
   "metadata": {
    "gather": {
     "logged": 1639427204933
    },
    "jupyter": {
     "outputs_hidden": false,
     "source_hidden": false
    },
    "nteract": {
     "transient": {
      "deleting": false
     }
    }
   },
   "outputs": [],
   "source": [
    "pred_mask = unet.predict(sample_image[tf.newaxis, ...])"
   ]
  },
  {
   "cell_type": "code",
   "execution_count": 116,
   "id": "0e25aff1-e8bf-48e4-9602-69fc62db08d2",
   "metadata": {
    "gather": {
     "logged": 1639427223464
    },
    "jupyter": {
     "outputs_hidden": false,
     "source_hidden": false
    },
    "nteract": {
     "transient": {
      "deleting": false
     }
    }
   },
   "outputs": [
    {
     "data": {
      "text/plain": [
       "(1, 224, 224, 8)"
      ]
     },
     "execution_count": 116,
     "metadata": {},
     "output_type": "execute_result"
    }
   ],
   "source": [
    "pred_mask.shape"
   ]
  },
  {
   "cell_type": "code",
   "execution_count": 128,
   "id": "650ac9bd",
   "metadata": {},
   "outputs": [],
   "source": [
    "sample_im=tf.constant(val_image1[0])[tf.newaxis, ...]"
   ]
  },
  {
   "cell_type": "code",
   "execution_count": 130,
   "id": "2e253cb8",
   "metadata": {},
   "outputs": [],
   "source": [
    "#pred_mask_test = unet.predict(sample_im)"
   ]
  },
  {
   "cell_type": "code",
   "execution_count": null,
   "id": "f542046a",
   "metadata": {},
   "outputs": [],
   "source": []
  },
  {
   "cell_type": "code",
   "execution_count": 111,
   "id": "a4a93ae5-6969-4727-a483-4a0c89c0006a",
   "metadata": {
    "gather": {
     "logged": 1639427059541
    },
    "jupyter": {
     "outputs_hidden": false,
     "source_hidden": false
    },
    "nteract": {
     "transient": {
      "deleting": false
     }
    }
   },
   "outputs": [
    {
     "data": {
      "image/png": "[encoded data removed]",
      "text/plain": [
       "<Figure size 1080x1080 with 3 Axes>"
      ]
     },
     "metadata": {
      "needs_background": "light"
     },
     "output_type": "display_data"
    }
   ],
   "source": [
    "show_predictions_unet(val_data_unet1, 1)"
   ]
  },
  {
   "cell_type": "markdown",
   "id": "1bdebd15",
   "metadata": {},
   "source": [
    "# PREPARE FOR DEPLOYMENT"
   ]
  },
  {
   "cell_type": "code",
   "execution_count": 22,
   "id": "0c9e8890-a8b2-41e5-b3a5-dba62a946065",
   "metadata": {
    "gather": {
     "logged": 1639412084668
    },
    "jupyter": {
     "outputs_hidden": false,
     "source_hidden": false
    },
    "nteract": {
     "transient": {
      "deleting": false
     }
    }
   },
   "outputs": [
    {
     "name": "stdout",
     "output_type": "stream",
     "text": [
      "model saved in ./outputs/model folder\n"
     ]
    }
   ],
   "source": [
    "# SAVE THE MODEL\n",
    "\n",
    "os.makedirs('./outputs/model', exist_ok=True)\n",
    "\n",
    "# serialize DNN architecture to JSON\n",
    "model_json = unet.to_json()\n",
    "# save model JSON\n",
    "with open('./outputs/model/model.json', 'w') as f:\n",
    "    f.write(model_json)\n",
    "# save model weights\n",
    "unet.save_weights('./outputs/model/model.h5')\n",
    "print(\"model saved in ./outputs/model folder\")"
   ]
  },
  {
   "cell_type": "code",
   "execution_count": null,
   "id": "41129f43",
   "metadata": {},
   "outputs": [],
   "source": []
  },
  {
   "cell_type": "raw",
   "id": "1304e41b",
   "metadata": {
    "jupyter": {
     "outputs_hidden": false,
     "source_hidden": false
    },
    "nteract": {
     "transient": {
      "deleting": false
     }
    }
   },
   "source": [
    "#CREATE THE YML FILE FOR DEPS\n",
    "%%writefile conda_dependencies.yml\n",
    "\n",
    "channels:\n",
    "- conda-forge\n",
    "dependencies:\n",
    " - python=3.8\n",
    " - pip=21.0.1\n",
    " - pip:\n",
    "    - h5py<=2.10.0\n",
    "    - azureml-defaults\n",
    "    - azureml-dataprep[pandas]\n",
    "    - tensorflow\n",
    "    - keras<=2.3.1\n",
    "    - matplotlib"
   ]
  },
  {
   "cell_type": "raw",
   "id": "91d51371",
   "metadata": {
    "gather": {
     "logged": 1639419121907
    },
    "jupyter": {
     "outputs_hidden": false,
     "source_hidden": false
    },
    "nteract": {
     "transient": {
      "deleting": false
     }
    }
   },
   "source": [
    "# CREATE PYTHON ENV\n",
    "from azureml.core import Environment\n",
    "\n",
    "keras_env = Environment.from_conda_specification(name = 'deeplearning_env', file_path = './conda_dependencies.yml')\n",
    "\n",
    "# Specify a GPU base image\n",
    "keras_env.docker.enabled = True\n",
    "keras_env.docker.base_image = 'mcr.microsoft.com/azureml/openmpi3.1.2-cuda10.0-cudnn7-ubuntu18.04'"
   ]
  },
  {
   "cell_type": "markdown",
   "id": "5d57ce0a",
   "metadata": {
    "jupyter": {
     "outputs_hidden": false,
     "source_hidden": false
    },
    "nteract": {
     "transient": {
      "deleting": false
     }
    }
   },
   "source": [
    "Many aspect of tyhe model deployement to consider. it is to folllow those steps or at least have some requirement or consideration for a model to be deplyed successfully on Azure :\n",
    "\n",
    "1- **Create an Experiment**: this is the entry point for any Azure ML model training and deployment. And in the Experiment, we are going to register our work, the Model.\n",
    "\n",
    "2- **Model Register**: smart and intuitive design. It is to say we can have many experiments in training and testing and only register one model or some models. Not all experiments are good to be considered or to be learned from. In general we choose to forget some bad experiences right? lol. And then when a model is registered, we are allowed to deploy it, to put itin use. \n",
    "\n",
    "3- **Deployment**: the model can then be deployed as service. A stand alone running app. Therefore, it needs to be encapsulated in such a way that it has everything it needs to run. In this process Azure propose us to use its ACI or AKS services to create image containers with Kubernetes or Docker. Here we use docker to create an instance contaner from a docker image.\n",
    "\n",
    "At the end after deployement, we have a URI to ready to be used outside Azure in other service like Flask.\n"
   ]
  },
  {
   "cell_type": "code",
   "execution_count": 12,
   "id": "14d3acf3-845c-4471-a6e1-c7de67db29f6",
   "metadata": {
    "gather": {
     "logged": 1639403108357
    },
    "jupyter": {
     "outputs_hidden": false,
     "source_hidden": false
    },
    "nteract": {
     "transient": {
      "deleting": false
     }
    }
   },
   "outputs": [],
   "source": [
    "import os\n",
    "from azureml.core import Experiment\n",
    "from azureml.core.compute import ComputeTarget, AmlCompute\n",
    "from azureml.core.compute_target import ComputeTargetException\n",
    "\n",
    "# CREATE AN EXPERIMENT\n",
    "\n",
    "# instantiate the experiment, the entry point for the Azure ML\n",
    "exp = Experiment(workspace=ws, name='compute_paradis')"
   ]
  },
  {
   "cell_type": "code",
   "execution_count": 21,
   "id": "a5e570d9-34e2-487f-ada8-c72e60f84668",
   "metadata": {
    "gather": {
     "logged": 1639403301017
    },
    "jupyter": {
     "outputs_hidden": false,
     "source_hidden": false
    },
    "nteract": {
     "transient": {
      "deleting": false
     }
    }
   },
   "outputs": [],
   "source": [
    "# created but not used, since I decide to train manually and not through scripting\n",
    "script_folder = './air_paradis'\n",
    "os.makedirs(script_folder, exist_ok=True)"
   ]
  },
  {
   "cell_type": "code",
   "execution_count": 19,
   "id": "cc3d8bb3-5d3f-4cd4-9aa7-9501c4d39dae",
   "metadata": {
    "gather": {
     "logged": 1639403182598
    },
    "jupyter": {
     "outputs_hidden": false,
     "source_hidden": false
    },
    "nteract": {
     "transient": {
      "deleting": false
     }
    }
   },
   "outputs": [],
   "source": [
    "# reuse the fat compute servce that you created from the start \n",
    "compute_target = ComputeTarget(workspace=ws, name='computeparadis')"
   ]
  },
  {
   "cell_type": "code",
   "execution_count": 20,
   "id": "7c2c54f4-045d-4ac9-b2c4-0349ee95a13f",
   "metadata": {
    "gather": {
     "logged": 1639403192503
    },
    "jupyter": {
     "outputs_hidden": false,
     "source_hidden": false
    },
    "nteract": {
     "transient": {
      "deleting": false
     }
    }
   },
   "outputs": [
    {
     "data": {
      "text/html": [
       "<table style=\"width:100%\"><tr><th>Name</th><th>Workspace</th><th>State</th><th>Location</th><th>VmSize</th><th>Application URI</th><th>SSH</th><th>Docs</th></tr><tr><td><a href=\"https://ml.azure.com/compute/computeparadis/details?wsid=/subscriptions/b7ff1da8-65bd-4db1-b5db-e88f05415e38/resourcegroups/kba-grp/workspaces/airparadisopenclassroom\" target=\"_blank\" rel=\"noopener\">computeparadis</a></td><td><a href=\"https://ml.azure.com?wsid=/subscriptions/b7ff1da8-65bd-4db1-b5db-e88f05415e38/resourcegroups/kba-grp/workspaces/airparadisopenclassroom&amp;tid=861804f8-2a75-405f-8138-f951a8a0fcde\" target=\"_blank\" rel=\"noopener\">airparadisopenclassroom</a></td><td>Running</td><td>eastus2</td><td>STANDARD_NC6</td><td><a href=\"https://computeparadis.eastus2.instances.azureml.ms/tree/\" target=\"_blank\" rel=\"noopener\">Jupyter</a>  <a href=\"https://computeparadis.eastus2.instances.azureml.ms/lab\" target=\"_blank\" rel=\"noopener\">JupyterLab</a>  <a href=\"https://computeparadis-8787.eastus2.instances.azureml.ms\" target=\"_blank\" rel=\"noopener\">RStudio</a></td><td>azureuser@20.94.97.98 -p 50001</td><td><a href=\"https://docs.microsoft.com/en-us/python/api/azureml-core/azureml.core.compute.computeinstance.ComputeInstance?view=azure-ml-py\" target=\"_blank\" rel=\"noopener\">Doc</a></td></tr></table>"
      ],
      "text/plain": [
       "{\n",
       "  \"id\": \"/subscriptions/b7ff1da8-65bd-4db1-b5db-e88f05415e38/resourceGroups/kba-grp/providers/Microsoft.MachineLearningServices/workspaces/airparadisopenclassroom/computes/computeparadis\",\n",
       "  \"name\": \"computeparadis\",\n",
       "  \"location\": \"eastus2\",\n",
       "  \"tags\": {},\n",
       "  \"properties\": {\n",
       "    \"description\": null,\n",
       "    \"computeType\": \"ComputeInstance\",\n",
       "    \"computeLocation\": \"eastus2\",\n",
       "    \"resourceId\": null,\n",
       "    \"provisioningErrors\": null,\n",
       "    \"provisioningState\": \"Succeeded\",\n",
       "    \"properties\": {\n",
       "      \"vmSize\": \"STANDARD_NC6\",\n",
       "      \"applications\": [\n",
       "        {\n",
       "          \"displayName\": \"Jupyter\",\n",
       "          \"endpointUri\": \"https://computeparadis.eastus2.instances.azureml.ms/tree/\"\n",
       "        },\n",
       "        {\n",
       "          \"displayName\": \"Jupyter Lab\",\n",
       "          \"endpointUri\": \"https://computeparadis.eastus2.instances.azureml.ms/lab\"\n",
       "        },\n",
       "        {\n",
       "          \"displayName\": \"RStudio\",\n",
       "          \"endpointUri\": \"https://computeparadis-8787.eastus2.instances.azureml.ms\"\n",
       "        }\n",
       "      ],\n",
       "      \"connectivityEndpoints\": {\n",
       "        \"publicIpAddress\": \"20.94.97.98\",\n",
       "        \"privateIpAddress\": \"10.0.0.5\"\n",
       "      },\n",
       "      \"sshSettings\": {\n",
       "        \"sshPublicAccess\": \"Enabled\",\n",
       "        \"adminUserName\": \"azureuser\",\n",
       "        \"adminPublicKey\": \"ssh-rsa AAAAB3NzaC1yc2EAAAADAQABAAABgQCZhBGXwWOJTVOpK1SfSG0MMlYgIJFTd7a1Uqh2zPMIF2KaVo53Eh4hDQ8dGFzoJmCiTkXWv3FfyS85W09paiD0IG4KM/ZSu2W6xIvinSOKM9jDYRV/LsgOsE2VlZeYiT9d2z8qAy53symjWWXabUGkDFlT/ev+1Nheo3po9LS4Rirs9uAIqa2fh8cpC0lgs1Wu39BN88pJh/v9grNP76lb2ctwXPODiBnrwEfiCSKhAx6iI9hj09fntlB6OfdxL7Uc1C3FUzkAXzKJA0bQeuMQmv0l/B8JSBOC23xLLyEYtNwRF2msp2pp+p3S3Dhjt79XM0ZStAgWFYc64QNahAP73BHGFTduixdmWYFNrIQuPszQ6JSGjauWPo9a3K/6GmNlwTRFDD8laJoNGNUTsaScFTe4sfYoi1EeaONW0mYOuzUB0rVRQ3dRKSm4DEkpAYovEZyhO5L5/kLZqe3rymVCoMeygeDjl8gyW6eIuq/meS2FDRchwjPrZHghskCMXFU= generated-by-azure\",\n",
       "        \"sshPort\": 50001\n",
       "      },\n",
       "      \"personalComputeInstanceSettings\": null,\n",
       "      \"subnet\": {\n",
       "        \"id\": null\n",
       "      },\n",
       "      \"errors\": []\n",
       "    },\n",
       "    \"status\": {\n",
       "      \"errors\": [],\n",
       "      \"creationTime\": \"2021-12-13T11:02:46.847481+00:00\",\n",
       "      \"createdBy\": {\n",
       "        \"userObjectId\": \"0526fe97-dfd8-4bae-9f7d-3cfa80697ad5\",\n",
       "        \"userTenantId\": \"861804f8-2a75-405f-8138-f951a8a0fcde\",\n",
       "        \"userName\": null\n",
       "      },\n",
       "      \"modifiedTime\": \"2021-12-13T11:07:21.507542+00:00\",\n",
       "      \"state\": \"Running\",\n",
       "      \"vmSize\": \"STANDARD_NC6\"\n",
       "    }\n",
       "  }\n",
       "}"
      ]
     },
     "execution_count": 20,
     "metadata": {},
     "output_type": "execute_result"
    }
   ],
   "source": [
    "compute_target"
   ]
  },
  {
   "cell_type": "code",
   "execution_count": 178,
   "id": "df8abcc9-19be-45a1-8461-0f6c78517643",
   "metadata": {
    "gather": {
     "logged": 1639431828185
    },
    "jupyter": {
     "outputs_hidden": false,
     "source_hidden": false
    },
    "nteract": {
     "transient": {
      "deleting": false
     }
    }
   },
   "outputs": [
    {
     "name": "stdout",
     "output_type": "stream",
     "text": [
      "Workspace.create(name='airparadisopenclassroom', subscription_id='b7ff1da8-65bd-4db1-b5db-e88f05415e38', resource_group='kba-grp')\n"
     ]
    }
   ],
   "source": [
    "# always check the workspace\n",
    "print(ws)"
   ]
  },
  {
   "cell_type": "code",
   "execution_count": 32,
   "id": "28221b8e-daba-44b8-ac39-146dd1d6ac28",
   "metadata": {
    "gather": {
     "logged": 1639414182262
    },
    "jupyter": {
     "outputs_hidden": false,
     "source_hidden": false
    },
    "nteract": {
     "transient": {
      "deleting": false
     }
    }
   },
   "outputs": [
    {
     "name": "stdout",
     "output_type": "stream",
     "text": [
      "Registering model air_paradis\n"
     ]
    }
   ],
   "source": [
    "# REGISTER THE MODEL\n",
    "from azureml.core import Model\n",
    "model_unet_regist = Model.register(workspace=ws,\n",
    "                       model_name='air_paradis',\n",
    "                       model_path='outputs/model', # local path\n",
    "                       description='Image segementation model')"
   ]
  },
  {
   "cell_type": "code",
   "execution_count": 28,
   "id": "0549ae0a-a6e1-4ced-8f8a-160d32ce53d4",
   "metadata": {
    "gather": {
     "logged": 1639415980867
    },
    "jupyter": {
     "outputs_hidden": false,
     "source_hidden": false
    },
    "nteract": {
     "transient": {
      "deleting": false
     }
    }
   },
   "outputs": [
    {
     "name": "stderr",
     "output_type": "stream",
     "text": [
      "UsageError: unrecognized arguments: # comment out if you feel like overwritting the inference file\n"
     ]
    }
   ],
   "source": [
    "%%writefile score.py # comment out if you feel like overwritting the inference file\n",
    "import os\n",
    "import json\n",
    "import numpy as np\n",
    "import pandas as pd\n",
    "\n",
    "from azureml.core.model import Model\n",
    "#from keras.models import model_from_json\n",
    "import tensorflow\n",
    "from tensorflow.keras.models import model_from_json\n",
    "\n",
    "\n",
    "def init():\n",
    "    global model\n",
    "    # model_root is to ref the model and then take the path from there\n",
    "    # the real path for local test is \"./outpust/model\"\n",
    "    model_root = Model.get_model_path('air_paradis')\n",
    "    json_file = open(os.path.join(model_root, 'model.json'), 'r')\n",
    "    model_json = json_file.read()\n",
    "    json_file.close()\n",
    "    # deserialize the model using keras lib model_from_json\n",
    "    model = model_from_json(model_json)\n",
    "    print(model)\n",
    "    # load weights into new model\n",
    "    model.load_weights(os.path.join(model_root, \"model.h5\"))\n",
    "    model.compile(optimizer='adam',\n",
    "              loss=tensorflow.keras.losses.SparseCategoricalCrossentropy(from_logits=True),\n",
    "              metrics=['accuracy'])   \n",
    "\n",
    "    #print(\"The model from json : \", model)\n",
    " \n",
    "    \n",
    "def run(raw_data):\n",
    "    data= np.array(json.loads(raw_data)['data'])\n",
    "    \n",
    "    y_hat=model.predict(data)\n",
    "    return json.dumps(y_hat.tolist())\n"
   ]
  },
  {
   "cell_type": "markdown",
   "id": "20cc5304",
   "metadata": {
    "gather": {
     "logged": 1639427437223
    },
    "jupyter": {
     "outputs_hidden": false,
     "source_hidden": false
    },
    "nteract": {
     "transient": {
      "deleting": false
     }
    }
   },
   "source": [
    "# DEPLOY THE MODEL "
   ]
  },
  {
   "cell_type": "code",
   "execution_count": 97,
   "id": "740807bd-966d-44b8-a4f0-d329eaec30e2",
   "metadata": {
    "gather": {
     "logged": 1639422346599
    },
    "jupyter": {
     "outputs_hidden": false,
     "source_hidden": false
    },
    "nteract": {
     "transient": {
      "deleting": false
     }
    }
   },
   "outputs": [
    {
     "name": "stdout",
     "output_type": "stream",
     "text": [
      "Tips: You can try get_logs(): https://aka.ms/debugimage#dockerlog or local deployment: https://aka.ms/debugimage#debug-locally to debug if deployment takes longer than 10 minutes.\n",
      "Running\n",
      "2021-12-13 19:02:09+00:00 Creating Container Registry if not exists.\n",
      "2021-12-13 19:02:09+00:00 Registering the environment.\n",
      "2021-12-13 19:02:10+00:00 Use the existing image.\n",
      "2021-12-13 19:02:10+00:00 Generating deployment configuration.\n",
      "2021-12-13 19:02:11+00:00 Submitting deployment to compute.\n",
      "2021-12-13 19:02:15+00:00 Checking the status of deployment airparadisservice..\n",
      "2021-12-13 19:05:44+00:00 Checking the status of inference endpoint airparadisservice.\n",
      "Succeeded\n",
      "ACI service creation operation finished, operation \"Succeeded\"\n",
      "Healthy\n",
      "http://4086ed70-8ad9-4c25-9f18-1a821627531d.eastus2.azurecontainer.io/score\n"
     ]
    }
   ],
   "source": [
    "# DEPLOY THE MODEL \n",
    "# # create config for the infernce file\n",
    "## configure an ACI an image to serve the model\n",
    "## and give that all to the service\n",
    "\n",
    "from azureml.core.webservice import AciWebservice\n",
    "from azureml.core.model import InferenceConfig\n",
    "from azureml.core.model import Model\n",
    "\n",
    "inference_config = InferenceConfig(entry_script=\"score.py\", environment=keras_env)\n",
    "\n",
    "aciconfig = AciWebservice.deploy_configuration(cpu_cores=2,\n",
    "                                               auth_enabled=True, # this flag generates API keys to secure access\n",
    "                                               memory_gb=2,\n",
    "                                               tags={'name': 'air_paradis_container', 'framework': 'Keras'},\n",
    "                                               description='image segmentation')\n",
    "\n",
    "service = Model.deploy(workspace=ws, \n",
    "                           name='airparadisservice', \n",
    "                           models=[model_unet_regist], \n",
    "                           inference_config=inference_config, \n",
    "                           deployment_config=aciconfig)\n",
    "\n",
    "service.wait_for_deployment(True)\n",
    "print(service.state)\n",
    "# if things go wrong !!!!!\n",
    "#print(service.get_logs())\n",
    "print(service.scoring_uri)"
   ]
  },
  {
   "cell_type": "code",
   "execution_count": 98,
   "id": "817e11b0-9690-44ba-a0df-3def49e8ddbe",
   "metadata": {
    "gather": {
     "logged": 1639423367331
    },
    "jupyter": {
     "outputs_hidden": false,
     "source_hidden": false
    },
    "nteract": {
     "transient": {
      "deleting": false
     }
    }
   },
   "outputs": [],
   "source": [
    "# TESTING THE URI USING SERVICE.RUN\n",
    "\n",
    "# prepare the input in Json\n",
    "input_samples = json.dumps({\"data\": sample_image.numpy().tolist()})\n",
    "input_samples = bytes(input_samples, encoding='utf8')"
   ]
  },
  {
   "cell_type": "code",
   "execution_count": null,
   "id": "4e47914c-5086-4b1b-9f6e-1eb05e7a1956",
   "metadata": {
    "jupyter": {
     "outputs_hidden": false,
     "source_hidden": false
    },
    "nteract": {
     "transient": {
      "deleting": false
     }
    }
   },
   "outputs": [],
   "source": [
    "# unit test in local using init and run from the score.py file\n",
    "#pred_json=run(input_samples)"
   ]
  },
  {
   "cell_type": "code",
   "execution_count": 127,
   "id": "409df76c-0a95-4195-aa00-26f7b7e6cb1c",
   "metadata": {
    "gather": {
     "logged": 1639427581607
    },
    "jupyter": {
     "outputs_hidden": false,
     "source_hidden": false
    },
    "nteract": {
     "transient": {
      "deleting": false
     }
    }
   },
   "outputs": [],
   "source": [
    "# do the prediction by using teh run method directly from the inference script\n",
    "pred=service.run(input_samples)"
   ]
  },
  {
   "cell_type": "code",
   "execution_count": 163,
   "id": "d5445ccc-4b64-419d-ac22-4882d1ab286a",
   "metadata": {
    "gather": {
     "logged": 1639430118492
    },
    "jupyter": {
     "outputs_hidden": false,
     "source_hidden": false
    },
    "nteract": {
     "transient": {
      "deleting": false
     }
    }
   },
   "outputs": [],
   "source": [
    "# get the content of a string\n",
    "import ast\n",
    "pred1 = ast.literal_eval(pred)\n",
    "print(len(pred1[0][0][0]))"
   ]
  },
  {
   "cell_type": "code",
   "execution_count": 169,
   "id": "ad975070-7509-4f3a-b919-e1b675827217",
   "metadata": {
    "gather": {
     "logged": 1639430435336
    },
    "jupyter": {
     "outputs_hidden": false,
     "source_hidden": false
    },
    "nteract": {
     "transient": {
      "deleting": false
     }
    }
   },
   "outputs": [],
   "source": [
    "# convert the pred to tensor\n",
    "pred3=tf.constant(pred1)"
   ]
  },
  {
   "cell_type": "code",
   "execution_count": 171,
   "id": "ccf79d22-e82a-434f-89e2-32b94e17fcbb",
   "metadata": {
    "gather": {
     "logged": 1639430461730
    },
    "jupyter": {
     "outputs_hidden": false,
     "source_hidden": false
    },
    "nteract": {
     "transient": {
      "deleting": false
     }
    }
   },
   "outputs": [],
   "source": [
    "pred_mask1= np.argmax(pred3, axis=3)"
   ]
  },
  {
   "cell_type": "code",
   "execution_count": 149,
   "id": "7b102233-1272-4e7f-ba71-ec9f707a9606",
   "metadata": {
    "gather": {
     "logged": 1639428431318
    },
    "jupyter": {
     "outputs_hidden": false,
     "source_hidden": false
    },
    "nteract": {
     "transient": {
      "deleting": false
     }
    }
   },
   "outputs": [],
   "source": [
    "pred_mask1 = tf.constant(pred_mask1)"
   ]
  },
  {
   "cell_type": "code",
   "execution_count": 176,
   "id": "2d599b2f-c476-4dcf-8d7d-f75b7b0853b0",
   "metadata": {
    "gather": {
     "logged": 1639430990608
    },
    "jupyter": {
     "outputs_hidden": false,
     "source_hidden": false
    },
    "nteract": {
     "transient": {
      "deleting": false
     }
    }
   },
   "outputs": [
    {
     "data": {
      "text/plain": [
       "(TensorShape([224, 224, 3]), (224, 224, 1))"
      ]
     },
     "execution_count": 176,
     "metadata": {},
     "output_type": "execute_result"
    }
   ],
   "source": [
    "sample_image.shape,  pred_mask1[...,tf.newaxis][0].shape"
   ]
  },
  {
   "cell_type": "code",
   "execution_count": 175,
   "id": "a0f10664-6a8c-4c7c-8080-7cfd494e1b26",
   "metadata": {
    "gather": {
     "logged": 1639430593958
    },
    "jupyter": {
     "outputs_hidden": false,
     "source_hidden": false
    },
    "nteract": {
     "transient": {
      "deleting": false
     }
    }
   },
   "outputs": [
    {
     "data": {
      "image/png": "[encoded data removed]",
      "text/plain": [
       "<Figure size 1080x1080 with 2 Axes>"
      ]
     },
     "metadata": {
      "needs_background": "light"
     },
     "output_type": "display_data"
    }
   ],
   "source": [
    "display([sample_image, pred_mask1[...,tf.newaxis][0]])"
   ]
  },
  {
   "cell_type": "markdown",
   "id": "179ccc3f",
   "metadata": {},
   "source": [
    "# PREPARE INPUT TRANSFORMATION AND FLASK LOCAL BUILD \n",
    "\n",
    "From now the model is already deployed on Asure and the URI got tested and is working well.\n",
    "Above we just give an input to the URI for scoring and it worked. Now let's build a tiny pipeline for Flask and other service web application. \n",
    "\n",
    "It is to go from a raw image and predict an annoatated image. The raw image got transformed along the way.\n"
   ]
  },
  {
   "cell_type": "code",
   "execution_count": 8,
   "id": "77f0f22b",
   "metadata": {},
   "outputs": [],
   "source": [
    "# FLASK LOCAL BUILD AND TEST"
   ]
  },
  {
   "cell_type": "code",
   "execution_count": 103,
   "id": "eca7ccfa",
   "metadata": {},
   "outputs": [],
   "source": [
    "# LIST OF NEEDED LIBS FOr FLASK\n",
    "import urllib.request\n",
    "import json\n",
    "import os\n",
    "import ssl\n",
    "import pandas as pd\n",
    "import numpy as np\n",
    "import matplotlib\n",
    "import tensorflow as tf\n",
    "import keras\n",
    "import imageio\n"
   ]
  },
  {
   "cell_type": "code",
   "execution_count": 247,
   "id": "b3d6b574",
   "metadata": {},
   "outputs": [],
   "source": [
    "# get this image for the index html"
   ]
  },
  {
   "cell_type": "code",
   "execution_count": 308,
   "id": "e69b3339",
   "metadata": {},
   "outputs": [],
   "source": [
    "url = 'http://4086ed70-8ad9-4c25-9f18-1a821627531d.eastus2.azurecontainer.io/score'\n",
    "api_key = 'EylgUu1MzEW2AboZEUxFjcWeNDqYwToF' # Replace this with the API key for the web service\n",
    "headers = {'Content-Type':'application/json', 'Authorization':('Bearer '+ api_key)}\n",
    "\n",
    "\n",
    "import urllib.request\n",
    "import json\n",
    "import os\n",
    "import ssl\n",
    "\n",
    "def allowSelfSignedHttps(allowed):\n",
    "    # bypass the server certificate verification on client side\n",
    "    if allowed and not os.environ.get('PYTHONHTTPSVERIFY', '') and getattr(ssl,\n",
    "                                                                           '_create_unverified_context', None):\n",
    "        ssl._create_default_https_context = ssl._create_unverified_context\n",
    "\n",
    "allowSelfSignedHttps(True) # this line is needed if you use self-signed certificate in your scoring service.\n",
    "\n",
    "#img_id=[os.path.basename(x).split('.')[0]  for x  in sorted(val_image_list[:3])]\n",
    "\n",
    "def get_img_path_file(img_id):\n",
    "    \"\"\"\n",
    "    could change the path_root to be transportable folder\n",
    "    containing the images\n",
    "    \"\"\"\n",
    "    img_id=str(img_id)\n",
    "    path_root='./static/images/'\n",
    "    return path_root+img_id+'.png'\n",
    "\n",
    "\n",
    "def read_raw_image_file(image_file):\n",
    "    \n",
    "    target_size=(224, 224)\n",
    "    \n",
    "    img = imageio.imread(image_file)\n",
    "    img = img[:,:, :3]                 # RETRIEVE the three first channels \n",
    "    img = tf.image.convert_image_dtype(img, tf.float32)\n",
    "    img = tf.image.resize(img, target_size )  \n",
    "    img_array= np.asarray(img)    \n",
    "\n",
    "    return img_array\n",
    "    \n",
    "\n",
    "\n",
    "def prediction_call_service(image_id):\n",
    "    \n",
    "    img_array=read_raw_image_file(get_img_path_file(image_id))\n",
    "    \n",
    "    # convert to tensor and add a dim\n",
    "    sample_image=tf.constant(img_array)[tf.newaxis, ...]\n",
    "    \n",
    "    data= {\"data\": sample_image.numpy().tolist()}\n",
    "    \n",
    "    body = str.encode(json.dumps(data))\n",
    "    \n",
    "    req = urllib.request.Request(url, body, headers)\n",
    "    \n",
    "    try:\n",
    "        response = urllib.request.urlopen(req)\n",
    "    \n",
    "        result = response.read()\n",
    "        pred = ast.literal_eval(ast.literal_eval(result.decode(\"utf-8\")))\n",
    "        pred_mask = np.argmax(tf.constant(pred), axis=3)[..., tf.newaxis]\n",
    "        \n",
    "        #print(\"Input Image and Predicted Mask\")\n",
    "\n",
    "        display_list=[sample_image[0], pred_mask[0]]\n",
    "        \n",
    "        fig = plt.figure(figsize=(15, 15))\n",
    "\n",
    "        title = ['Input Image', 'Predicted Mask']\n",
    "        \n",
    "\n",
    "        for i in range(len(display_list)):\n",
    "            plt.subplot(1, len(display_list), i+1)\n",
    "            plt.title(title[i])\n",
    "            plt.imshow(tf.keras.preprocessing.image.array_to_img(display_list[i]))\n",
    "            plt.axis('off')\n",
    "        plt.savefig('./static/images/image_pred.png') # saved here\n",
    "        plt.close()\n",
    "        return fig\n",
    "    \n",
    "\n",
    "        #display_prod([sample_image[0], pred_mask[0]]) # save an image somewhere\n",
    "\n",
    "        #print(result)\n",
    "    except urllib.error.HTTPError as error:\n",
    "        print(\"The request failed with status code: \" + str(error.code))\n",
    "    \n",
    "        # Print the headers - they include the requert ID and the timestamp, \n",
    "        # which are useful for debugging the failure\n",
    "        print(error.info())\n",
    "        print(json.loads(error.read().decode(\"utf8\", 'ignore')))\n",
    "\n",
    "\n",
    "#figz=prediction_call_service('frankfurt_000000_000294_gtFine_color')"
   ]
  },
  {
   "cell_type": "code",
   "execution_count": 279,
   "id": "49ce09e6",
   "metadata": {},
   "outputs": [
    {
     "name": "stdout",
     "output_type": "stream",
     "text": [
      "image_pred.png to.png\r\n"
     ]
    }
   ],
   "source": [
    "!ls ./static/images/"
   ]
  },
  {
   "cell_type": "code",
   "execution_count": null,
   "id": "177fe870",
   "metadata": {},
   "outputs": [],
   "source": []
  }
 ],
 "metadata": {
  "kernel_info": {
   "name": "azureml_py38_tensorflow"
  },
  "kernelspec": {
   "display_name": "Python 3",
   "language": "python",
   "name": "python3"
  },
  "language_info": {
   "codemirror_mode": {
    "name": "ipython",
    "version": 3
   },
   "file_extension": ".py",
   "mimetype": "text/x-python",
   "name": "python",
   "nbconvert_exporter": "python",
   "pygments_lexer": "ipython3",
   "version": "3.8.8"
  },
  "microsoft": {
   "host": {
    "AzureML": {
     "notebookHasBeenCompleted": true
    }
   }
  },
  "nteract": {
   "version": "nteract-front-end@1.0.0"
  }
 },
 "nbformat": 4,
 "nbformat_minor": 5
}
