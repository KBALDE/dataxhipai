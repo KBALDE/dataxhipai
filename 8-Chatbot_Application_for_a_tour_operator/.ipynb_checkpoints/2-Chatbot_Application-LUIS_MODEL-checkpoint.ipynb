{
 "cells": [
  {
   "cell_type": "markdown",
   "id": "685d9772",
   "metadata": {},
   "source": [
    "# Développez un chatbot pour réserver des vacances\n",
    "\n",
    "Il a identifié les deux outils suivants pour faciliter la réalisation de cette V1 :\n",
    "\n",
    "- Le code source du framework de développement Python de Microsoft Bot `“Microsoft Bot Framework SDK v4 for Python”`.\n",
    "- Le `service cognitif LUIS d’Azure` qui permet de faire une analyse sémantique d’un message saisi par l’utilisateur et le structurer pour traitement par le bot (il devrait te permettre d’identifier les cinq éléments demandés)\n"
   ]
  },
  {
   "cell_type": "markdown",
   "id": "00406204",
   "metadata": {},
   "source": [
    "Comme ce projet est itératif, nous avons limité les fonctionnalités de la V1 du chatbot. La V1 devra pouvoir identifier dans la demande de l’utilisateur les cinq éléments suivants :\n",
    "\n",
    "- Ville de départ\n",
    "- Ville de destination\n",
    "- Date aller souhaitée du vol\n",
    "- Date retour souhaitée du vol\n",
    "- Budget maximum pour le prix total des billets\n",
    " \n",
    "\n",
    "Si un des éléments est manquant, le chatbot devra pouvoir poser les questions pertinentes (en anglais) à l’utilisateur pour comprendre complètement sa demande. Lorsque le chatbot pense avoir compris tous les éléments de la demande de l’utilisateur, il doit pouvoir reformuler la demande de l’utilisateur et lui demander de valider sa compréhension.\n",
    "\n",
    "Il est conseillé d'utiliser une Azure Application Insight pour suivre l'activité du chatbot quand il sera en production.\n",
    "\n",
    "https://openclassrooms.com/fr/paths/188/projects/725/assignment\n",
    "\n",
    "\n",
    "https://medium.com/analytics-and-data/overview-of-the-different-approaches-to-putting-machinelearning-ml-models-in-production-c699b34abf86"
   ]
  },
  {
   "cell_type": "markdown",
   "id": "eca3f590",
   "metadata": {},
   "source": [
    "Our strategie of creating the chatbot using Luis is to go from Bot Builder sample example and follow thses setps :\n",
    "* 1. Import the json file to luis.ai\n",
    "* 2. Update entities name and intents\n",
    "* 3. Import utterances\n",
    "* 4. Train the model suing the SDK\n",
    "* 5. Update the bot application using Bot Framework SDK\n",
    "* 6. Test it using the DSK\n",
    "* 7. Configure the applicayion Insight\n",
    "* 8. Deploy the Bot Azure\n"
   ]
  },
  {
   "cell_type": "markdown",
   "id": "602ecddd",
   "metadata": {},
   "source": [
    "# 1.  Préparation d’exemples LUIS à partir du fichier frame.json"
   ]
  },
  {
   "cell_type": "markdown",
   "id": "0c93143b",
   "metadata": {},
   "source": [
    "## LUIS Concept\n",
    "\n",
    "Bot FrameWoirdks has LUIS Integration. \n",
    "`LUIS` as Languange Understanding Intellignet Service helps the ChatBot, in which it is integrated to understand `Utterances`. Utterances are what people say. Utterances are simply user input when interacting with a ChatBot. \n",
    "In LUIS, we need to define `Intents` and `Entities`. an intent is a goal. What is expected in user input like Schedule a meeting, buy a ticket, an so on. `Entities` are facts or parameters linked to intents. They help to refine an intent, make it more understandable by the BOT...?\n",
    "\n",
    "\n",
    "\n",
    "**Create a schema that matches your real-world scenario**\n",
    "\n",
    "Create an intent for each action your bot can perform. Use entities to collect data needed to complete that action.\n",
    "\n",
    "**Use a similar number of examples for each intent**\n",
    "\n",
    "When LUIS makes a prediction, it gets results from all models and picks the top scoring model. Example utterances assigned to one intent act as negative examples for all other intents.\n",
    "Intents with significantly more positive examples are more likely to receive positive predictions. This is called data imbalance.\n",
    "\n",
    "**Use examples with distinct vocabulary**\n",
    "\n",
    "Make sure the vocabulary for each intent is used only in that intent. Intents with overlapping vocabulary can confuse LUIS and cause the scores for the top intents to be very close.\n",
    "This causes unclear predictions.\n",
    "\n",
    "\n",
    "**Apply active learning to add user utterances**\n",
    "Use active learning to add real-world user utterances to your model. Real user utterances can reveal patterns of word choice and placement.LUIS is meant to learn quickly with few examples. User utterances will help you find examples with a variety of formats.\n",
    "\n",
    "\n",
    "**Add phrase lists and patterns**\n",
    "Phrase lists designate words or phrases as more significant to your app than other words.Patterns can improve your prediction accuracy when word order is important to differentiate between intents.Phrase lists and patterns are weighted more heavily than examples, so they should be added after adding user utterances to your example data.\n",
    "\n"
   ]
  },
  {
   "cell_type": "markdown",
   "id": "62232e65",
   "metadata": {},
   "source": [
    "* A **`turn`** is one interaction between the user and the system, and a conversation is made of at least two turns. A question and an answer.\n",
    "\n",
    "# Dataset Format"
   ]
  },
  {
   "cell_type": "markdown",
   "id": "d59368ca",
   "metadata": {},
   "source": [
    "## Global Properties\n",
    "* **id**\t\n",
    "Refers to a unique identification for the dialogue.\n",
    "* **user_id**\t\n",
    "Refers to a unique identifier for the user taking part in the dialogue.\n",
    "* **wizard_id**\t\n",
    "Refers to a unique identifier for the wizard taking part in the dialogue.\n",
    "\n",
    "\n",
    "\n",
    "## Labels\n",
    "\n",
    "* **userSurveyRating** \t\n",
    "A value that represents the user’s satisfaction with the Wizard’s service, ranging from 1 – complete dissatisfaction to 5 – complete satisfaction.\n",
    "* **wizardSurveyTaskSuccessful**\t\n",
    "A boolean which is true if the wizard thinks at the end of the dialogue that the user’s goal was achieved.\n",
    "\n",
    "\n",
    "## Turns\n",
    "\n",
    "* **author**\n",
    "The author of the message in a dialogue. i.e. “user” or “wizard”.\n",
    "* **text**\n",
    "The sentence that the author uttered. It is the exact text that the author of a turn said. E.g. “text”: “Consider it done. Have a great trip!”.\n",
    "* **labels**\n",
    "JSON object which has three keys: `active_frame`, `acts`, and `acts_without_refs`. \n",
    " - The **active_frame** is the `id` of the currently active frame. \n",
    " - The **acts** are the dialogue acts for the current utterance. Each act has a `name` and `arguments args`. The name is the name of the dialogue act, for instance, `offer`, or `inform`. The args contain the slot types (`key`) and slot values (`val`), for instance `budget=2000`. Slot values are optional. An act contains a ref `tag` whenever a user or wizard refers to a `past frame`. \n",
    " - The **acts_without_refs** are similar to the acts except that they do not have these `ref tags`. \n",
    " - We define the **frame tracking task** as the task that takes as input the `acts_without_refs` and outputs the `acts`.\n",
    "* **timestamp**\t\n",
    "Unix timestamp denoting the time at which the current turn occurred.\n",
    "* **frames**\n",
    "List of frames up to the current turn. Each frame has the following keys: `frame_id`, `frame_parent_id`, `requests`, `binary_questions`, `compare_requests`, and `info`.\n",
    "* **db**\n",
    "It can only occur during a wizard’s turn. It is a list of search queries made by the wizard with the associated list of search results.\n",
    "E.g. “db”: {“search”: [{“ORIGIN_CITY”: “Montreal”}], “result”: []}\n"
   ]
  },
  {
   "cell_type": "code",
   "execution_count": 583,
   "id": "771a30b7",
   "metadata": {},
   "outputs": [],
   "source": [
    "import json\n",
    "import time\n",
    "import datetime\n",
    "from pprint import pprint\n",
    "\n",
    "import json\n",
    "\n",
    "with open('./data/frames/frames.json') as inputfile : \n",
    "    frames = json.load(inputfile)"
   ]
  },
  {
   "cell_type": "code",
   "execution_count": 584,
   "id": "a529120c",
   "metadata": {},
   "outputs": [
    {
     "data": {
      "text/plain": [
       "dict_keys(['user_id', 'turns', 'wizard_id', 'id', 'labels'])"
      ]
     },
     "execution_count": 584,
     "metadata": {},
     "output_type": "execute_result"
    }
   ],
   "source": [
    "frames[0].keys()"
   ]
  },
  {
   "cell_type": "code",
   "execution_count": 585,
   "id": "faa39ad0",
   "metadata": {},
   "outputs": [
    {
     "data": {
      "text/plain": [
       "1369"
      ]
     },
     "execution_count": 585,
     "metadata": {},
     "output_type": "execute_result"
    }
   ],
   "source": [
    "len(frames)"
   ]
  },
  {
   "cell_type": "code",
   "execution_count": 510,
   "id": "45b75020",
   "metadata": {},
   "outputs": [
    {
     "data": {
      "text/plain": [
       "dict_keys(['text', 'labels', 'author', 'timestamp'])"
      ]
     },
     "execution_count": 510,
     "metadata": {},
     "output_type": "execute_result"
    }
   ],
   "source": [
    "frames[0]['turns'][0].keys()"
   ]
  },
  {
   "cell_type": "markdown",
   "id": "b239d089",
   "metadata": {},
   "source": [
    "We are going to work on the first turn and for each turn we gonna take the `text`and the `labels`"
   ]
  },
  {
   "cell_type": "code",
   "execution_count": 587,
   "id": "1da6ccf9",
   "metadata": {},
   "outputs": [
    {
     "data": {
      "text/plain": [
       "[{'args': [{'val': 'book', 'key': 'intent'}], 'name': 'inform'},\n",
       " {'args': [{'val': 'Atlantis', 'key': 'dst_city'},\n",
       "   {'val': 'Caprica', 'key': 'or_city'},\n",
       "   {'val': 'Saturday, August 13, 2016', 'key': 'str_date'},\n",
       "   {'val': '8', 'key': 'n_adults'},\n",
       "   {'val': '1700', 'key': 'budget'}],\n",
       "  'name': 'inform'}]"
      ]
     },
     "execution_count": 587,
     "metadata": {},
     "output_type": "execute_result"
    }
   ],
   "source": [
    "frames[0]['turns'][0]['labels']['acts']"
   ]
  },
  {
   "cell_type": "code",
   "execution_count": 589,
   "id": "ed43df11",
   "metadata": {},
   "outputs": [
    {
     "data": {
      "text/plain": [
       "\"I'd like to book a trip to Atlantis from Caprica on Saturday, August 13, 2016 for 8 adults. I have a tight budget of 1700.\""
      ]
     },
     "execution_count": 589,
     "metadata": {},
     "output_type": "execute_result"
    }
   ],
   "source": [
    "frames[0]['turns'][0]['text']"
   ]
  },
  {
   "cell_type": "markdown",
   "id": "ccc4d4c6",
   "metadata": {},
   "source": [
    "# 2. Création et entraînement app LUIS\n",
    "\n",
    "We created the LUIS model from a json file taken from a sample case (BookingFlight.json). We then imported this file on Luis. We adapted the model to our case."
   ]
  },
  {
   "attachments": {
    "image.png": {
     "image/png": "[encoded data removed]"
    }
   },
   "cell_type": "markdown",
   "id": "2b6cc122",
   "metadata": {},
   "source": [
    "Download the repo from Microsoft github repo \n",
    "https://github.com/microsoft/BotBuilder-Samples/tree/main/samples/python/21.corebot-app-insights/cognitiveModels\n",
    "\n",
    "![image.png](attachment:image.png)\n"
   ]
  },
  {
   "cell_type": "code",
   "execution_count": null,
   "id": "85a54729",
   "metadata": {},
   "outputs": [],
   "source": [
    "# LUIS CREATION"
   ]
  },
  {
   "cell_type": "code",
   "execution_count": 488,
   "id": "06d7e588",
   "metadata": {},
   "outputs": [],
   "source": [
    "from azure.cognitiveservices.language.luis.authoring import LUISAuthoringClient\n",
    "from azure.cognitiveservices.language.luis.authoring.models import ApplicationCreateObject\n",
    "from azure.cognitiveservices.language.luis.runtime import LUISRuntimeClient\n",
    "from msrest.authentication import CognitiveServicesCredentials\n",
    "from functools import reduce\n",
    "\n",
    "import json, time, uuid\n",
    "\n",
    "\n",
    "import pandas as pd\n",
    "\n",
    "\n",
    "# AUTH\n",
    "authoringKey = ''\n",
    "authoringEndpoint = 'https://openai-authoring.cognitiveservices.azure.com/'\n",
    "\n",
    "\n",
    "predictionKey=\"\"\n",
    "predictionEndpoint=\"https://francecentral.api.cognitive.microsoft.com/\"\n",
    "\n",
    "# DEFINE THE CLIENT\n",
    "client = LUISAuthoringClient(authoringEndpoint, CognitiveServicesCredentials(authoringKey))\n",
    "\n",
    "# the app Id of the imported \n",
    "app_id=\"14445580-ac63-4dee-8408-71d066f97912\"\n",
    "\n",
    "version_id = \"0.1\""
   ]
  },
  {
   "cell_type": "markdown",
   "id": "4e285977",
   "metadata": {},
   "source": [
    "# 4. Train the model using the BotFrameWork SDK and LUIS"
   ]
  },
  {
   "cell_type": "code",
   "execution_count": 518,
   "id": "16d420d1",
   "metadata": {},
   "outputs": [],
   "source": [
    "# UTILS\n",
    "def get_example_label(utterance, entity_name, value):\n",
    "    \"\"\"\n",
    "    args:\n",
    "        utterance : text raw input\n",
    "        entity_name : the name of the entity\n",
    "        value : the name of the word to lookup in the utterance\n",
    "    rerturn:\n",
    "        dict of entity indexes\n",
    "\n",
    "    \"\"\"\n",
    "    utterance = utterance.lower()\n",
    "    value = value.lower()\n",
    "    return {\n",
    "        'entity_name': entity_name,\n",
    "        'start_char_index': utterance.find(value),\n",
    "        'end_char_index': utterance.find(value) + len(value)\n",
    "    }\n",
    "\n",
    "# keys to look for in v3_keys\n",
    "v3_keys=['or_city', 'dst_city', 'budget', 'str_date', 'end_date']\n",
    "\n",
    "\n",
    "def build_training_list(frames=frames, noref = False):\n",
    "    \"\"\"\n",
    "    args:\n",
    "        frames: the json dataset\n",
    "        noref: take True or False. Help choosing between acts or acts without refs\n",
    "    \n",
    "    return:\n",
    "        list of the cleaned version of the dataset\n",
    "    \"\"\"\n",
    "    frame_list = []\n",
    "    args_list = []\n",
    "    \n",
    "    for i in range(len(frames)):\n",
    "        \n",
    "        print(f'now_processing_interaction {i} of {len(frames)}')\n",
    "        clear_output(wait=True)\n",
    "        \n",
    "        frame_args={}\n",
    "        # ensure that we got a value fro userSurveyRating\n",
    "        frames[i]['labels']['userSurveyRating'] = frames[i]['labels']['userSurveyRating']\\\n",
    "        if frames[i]['labels']['userSurveyRating'] else 0\n",
    "        \n",
    "        # choosing only good rating : 4 and 5\n",
    "        if frames[i]['labels']['userSurveyRating']>=4:\n",
    "            text_i = frames[i]['turns'][0]['text']\n",
    "            if noref : \n",
    "                frame_i = frames[i]['turns'][0]['labels']['acts_without_refs']\n",
    "            else : \n",
    "                frame_i = frames[i]['turns'][0]['labels']['acts']\n",
    "            \n",
    "            frame_args['text']=text_i\n",
    "            frame_args['labels']=frame_i\n",
    "        \n",
    "            \n",
    "        frame_list.append(frame_args)\n",
    "        \n",
    "    # take only element of the list that have text and labels (both of them)\n",
    "    frames=[]\n",
    "    for x in frame_list:\n",
    "        if (len(x.keys()))==2:\n",
    "            frames.append(x)\n",
    "            \n",
    "    return frames"
   ]
  },
  {
   "cell_type": "code",
   "execution_count": 519,
   "id": "85d51202",
   "metadata": {},
   "outputs": [],
   "source": [
    "def create_utterances_list(row_id):\n",
    "    \"\"\" \n",
    "    work from the frame_list data. and return utterances\n",
    "    args:\n",
    "        row_id: index of the list\n",
    "    returns:\n",
    "        utterances ready to be imported in LUIS\n",
    "        \n",
    "    \n",
    "    \"\"\"\n",
    "    args_list = []\n",
    "    utt_arg = {}\n",
    "\n",
    "    for arg in frame_list[row_id]['labels']:\n",
    "        if len(arg['args'])!=0:\n",
    "            for elm in arg['args']:\n",
    "                if elm['key'] in v3_keys:\n",
    "                    if len(elm.keys())==2 :\n",
    "                        args_list.append({elm['key'] : elm['val']})\n",
    "    \n",
    "    text=frame_list[row_id]['text']\n",
    "    \n",
    "    entities_list=[]\n",
    "    for i in args_list:\n",
    "        for k, v in i.items():\n",
    "            entities_list.append(get_example_label(text, k, v))\n",
    "        \n",
    "    \n",
    "    utt_arg['text']=text\n",
    "    utt_arg['intent_name']='BookFlight'\n",
    "    utt_arg['entity_labels']=entities_list\n",
    "    \n",
    "    \n",
    "    return  utt_arg\n",
    "\n",
    "def create_utterance_to_upload(sample_size):\n",
    "    \"\"\" take sample and return a list of utterances\n",
    "    \"\"\"\n",
    "    utterances=[]\n",
    "    for row_id in range(sample_size):\n",
    "        utterances.append(create_utterances_list(row_id))\n",
    "    \n",
    "    return utterances\n",
    "\n",
    "\n",
    "\n",
    "def upload_batch_utterances(utterances, batch_size=100):\n",
    "    \"\"\"take utterances list and upload with a batch of 100\n",
    "    \n",
    "    \"\"\"\n",
    "    \n",
    "    for i in range(len(utterances)//100):\n",
    "        utt100=[]\n",
    "        for i in range(i * batch_size, (i + 1) * batch_size):\n",
    "            utt100.append(utterances[i])\n",
    "        \n",
    "        utterances_result = client.examples.batch(\n",
    "        app_id,\n",
    "        version_id,\n",
    "        utt100 )\n",
    "    print(\"Utteranes are imported!!\")"
   ]
  },
  {
   "cell_type": "code",
   "execution_count": 523,
   "id": "3c94b273",
   "metadata": {},
   "outputs": [
    {
     "data": {
      "text/plain": [
       "('14445580-ac63-4dee-8408-71d066f97912', '0.1')"
      ]
     },
     "execution_count": 523,
     "metadata": {},
     "output_type": "execute_result"
    }
   ],
   "source": [
    "app_id, version_id"
   ]
  },
  {
   "cell_type": "raw",
   "id": "fe01aabd",
   "metadata": {},
   "source": [
    "# add composite entities\n",
    "\n",
    "We tried adding composite entities, for date, but it did'nt really work"
   ]
  },
  {
   "cell_type": "code",
   "execution_count": 524,
   "id": "5be41720",
   "metadata": {},
   "outputs": [
    {
     "data": {
      "text/plain": [
       "'3a672679-617b-463c-b80d-022c94c3cb61'"
      ]
     },
     "execution_count": 524,
     "metadata": {},
     "output_type": "execute_result"
    }
   ],
   "source": [
    "client.model.add_composite_entity(app_id, version_id, children=['datetimeV2'], name='str_date')"
   ]
  },
  {
   "cell_type": "code",
   "execution_count": 525,
   "id": "35580a1b",
   "metadata": {},
   "outputs": [
    {
     "data": {
      "text/plain": [
       "'de8cd511-38ac-484f-b8ed-f0b11eb8e4c1'"
      ]
     },
     "execution_count": 525,
     "metadata": {},
     "output_type": "execute_result"
    }
   ],
   "source": [
    "client.model.add_composite_entity(app_id, version_id, children=['datetimeV2'], name='end_date')"
   ]
  },
  {
   "cell_type": "code",
   "execution_count": 527,
   "id": "e16344e3",
   "metadata": {},
   "outputs": [],
   "source": [
    "# UPLOAD UTTERANCES"
   ]
  },
  {
   "cell_type": "code",
   "execution_count": 520,
   "id": "e21cec3d",
   "metadata": {
    "scrolled": false
   },
   "outputs": [
    {
     "name": "stdout",
     "output_type": "stream",
     "text": [
      "now_processing_interaction 1368 of 1369\n"
     ]
    }
   ],
   "source": [
    "frame_list=build_training_list()"
   ]
  },
  {
   "cell_type": "code",
   "execution_count": 590,
   "id": "593a488e",
   "metadata": {
    "scrolled": true
   },
   "outputs": [
    {
     "data": {
      "text/plain": [
       "{'text': \"I'd like to book a trip to Atlantis from Caprica on Saturday, August 13, 2016 for 8 adults. I have a tight budget of 1700.\",\n",
       " 'intent_name': 'BookFlight',\n",
       " 'entity_labels': [{'entity_name': 'dst_city',\n",
       "   'start_char_index': 27,\n",
       "   'end_char_index': 35},\n",
       "  {'entity_name': 'or_city', 'start_char_index': 41, 'end_char_index': 48},\n",
       "  {'entity_name': 'str_date', 'start_char_index': 52, 'end_char_index': 77},\n",
       "  {'entity_name': 'budget', 'start_char_index': 117, 'end_char_index': 121}]}"
      ]
     },
     "execution_count": 590,
     "metadata": {},
     "output_type": "execute_result"
    }
   ],
   "source": [
    "# example of the utterances of index 21\n",
    "create_utterances_list(0)"
   ]
  },
  {
   "cell_type": "code",
   "execution_count": 532,
   "id": "ac064585",
   "metadata": {},
   "outputs": [],
   "source": [
    "# 500 input utterances\n",
    "utterances=create_utterance_to_upload(1000)"
   ]
  },
  {
   "cell_type": "code",
   "execution_count": 533,
   "id": "838bed12",
   "metadata": {},
   "outputs": [
    {
     "name": "stdout",
     "output_type": "stream",
     "text": [
      "Utteranes are imported!!\n"
     ]
    }
   ],
   "source": [
    "upload_batch_utterances(utterances)"
   ]
  },
  {
   "cell_type": "code",
   "execution_count": 517,
   "id": "847c64f7",
   "metadata": {},
   "outputs": [
    {
     "data": {
      "text/plain": [
       "('14445580-ac63-4dee-8408-71d066f97912', '0.1')"
      ]
     },
     "execution_count": 517,
     "metadata": {},
     "output_type": "execute_result"
    }
   ],
   "source": [
    "# HERE THE LUIS MODEL APP_ID AND VERSION_ID\n",
    "app_id, version_id"
   ]
  },
  {
   "cell_type": "code",
   "execution_count": 470,
   "id": "904364fa",
   "metadata": {},
   "outputs": [
    {
     "name": "stdout",
     "output_type": "stream",
     "text": [
      "Waiting 10 seconds for training to complete...\n",
      "trained\n"
     ]
    }
   ],
   "source": [
    "# TRAINING\n",
    "client.train.train_version(app_id, version_id)\n",
    "waiting = True\n",
    "while waiting:\n",
    "    info = client.train.get_status(app_id, version_id)\n",
    "\n",
    "    # get_status returns a list of training statuses, one for each model. \n",
    "    # Loop through them and make sure all are done.\n",
    "    waiting = any(map(lambda x: 'Queued' == x.details.status or 'InProgress' == x.details.status, info))\n",
    "    if waiting:\n",
    "        print (\"Waiting 10 seconds for training to complete...\")\n",
    "        time.sleep(10)\n",
    "    else: \n",
    "        print (\"trained\")\n",
    "        waiting = False"
   ]
  },
  {
   "cell_type": "code",
   "execution_count": 471,
   "id": "70c5528f",
   "metadata": {},
   "outputs": [],
   "source": [
    "client.apps.update_settings(app_id, is_public=True)\n",
    "\n",
    "responseEndpointInfo = client.apps.publish(app_id, version_id, is_staging=False)"
   ]
  },
  {
   "cell_type": "code",
   "execution_count": 473,
   "id": "b68197bd",
   "metadata": {},
   "outputs": [],
   "source": [
    "#responseEndpointInfo"
   ]
  },
  {
   "cell_type": "code",
   "execution_count": 592,
   "id": "888ff1c8",
   "metadata": {},
   "outputs": [],
   "source": [
    "runtimeCredentials = CognitiveServicesCredentials(predictionKey)\n",
    "clientRuntime = LUISRuntimeClient(endpoint=predictionEndpoint, credentials=runtimeCredentials)"
   ]
  },
  {
   "cell_type": "raw",
   "id": "ea085a96",
   "metadata": {},
   "source": [
    "predictionRequest = { \"query\" : \"from Paris and new york\" }\n",
    "\n",
    "predictionResponse = clientRuntime.prediction.resolve(app_id, \"Production\", predictionRequest)\n",
    "print(\"Top intent: {}\".format(predictionResponse.prediction.top_intent))"
   ]
  },
  {
   "cell_type": "code",
   "execution_count": 596,
   "id": "d6b540ad",
   "metadata": {},
   "outputs": [],
   "source": [
    "reponse=clientRuntime.prediction.resolve(CONFIG.LUIS_APP_ID, query=request)"
   ]
  },
  {
   "cell_type": "code",
   "execution_count": 598,
   "id": "b7d7b29a",
   "metadata": {},
   "outputs": [
    {
     "name": "stdout",
     "output_type": "stream",
     "text": [
      "{'additional_properties': {'score': 0.75221944}, 'entity': '2300', 'type': 'budget', 'start_index': 136, 'end_index': 139}\n",
      "{'additional_properties': {'score': 0.99885434}, 'entity': 'leon', 'type': 'dst_city', 'start_index': 114, 'end_index': 117}\n",
      "{'additional_properties': {'score': 0.9999425}, 'entity': 'sao paulo', 'type': 'or_city', 'start_index': 100, 'end_index': 109}\n",
      "{'additional_properties': {'score': 0.9812809}, 'entity': 'september 20th 2022', 'type': 'str_date', 'start_index': 44, 'end_index': 62}\n",
      "{'additional_properties': {'score': 0.75831884}, 'entity': 'october 4th 2022', 'type': 'str_date', 'start_index': 78, 'end_index': 93}\n",
      "{'additional_properties': {'resolution': {'values': [{'timex': '2022-09-20', 'Mod': 'after', 'type': 'daterange', 'sourceEntity': 'datetimepoint', 'start': '2022-09-20'}]}}, 'entity': 'starting on september 20th 2022', 'type': 'builtin.datetimeV2.daterange', 'start_index': 32, 'end_index': 62}\n",
      "{'additional_properties': {'resolution': {'values': [{'timex': '2022-10-04', 'Mod': 'before', 'type': 'daterange', 'sourceEntity': 'datetimepoint', 'end': '2022-10-04'}]}}, 'entity': 'ending on october 4th 2022', 'type': 'builtin.datetimeV2.daterange', 'start_index': 68, 'end_index': 93}\n"
     ]
    }
   ],
   "source": [
    "rep.entities\n",
    "all_entities = response.entities\n",
    "    \n",
    "for i in range(0, len(all_entities)):\n",
    "    print(all_entities[i])"
   ]
  },
  {
   "cell_type": "code",
   "execution_count": 601,
   "id": "c396b8d5",
   "metadata": {},
   "outputs": [
    {
     "name": "stdout",
     "output_type": "stream",
     "text": [
      "budget\n",
      "dst_city\n",
      "or_city\n",
      "str_date\n",
      "str_date\n",
      "builtin.datetimeV2.daterange\n",
      "builtin.datetimeV2.daterange\n"
     ]
    }
   ],
   "source": [
    "for i in range(0, len(all_entities)):\n",
    "    print(all_entities[i].type)"
   ]
  },
  {
   "cell_type": "markdown",
   "id": "b607686f",
   "metadata": {},
   "source": [
    "# 5. Tests unitaires et mise en production du chatbot"
   ]
  },
  {
   "cell_type": "code",
   "execution_count": 534,
   "id": "c38f00e3",
   "metadata": {},
   "outputs": [
    {
     "name": "stdout",
     "output_type": "stream",
     "text": [
      "Writing config.py\n"
     ]
    }
   ],
   "source": [
    "%%writefile config.py\n",
    "\n",
    "import os\n",
    "\n",
    "\n",
    "class DefaultConfig:\n",
    "    \"\"\"Bot Configuration\"\"\"\n",
    "\n",
    "    ############## Azure Bot Service ###############\n",
    "    PORT = 3978\n",
    "    APP_ID = os.environ.get(\"MicrosoftAppId\", \"\") \n",
    "    APP_PASSWORD = os.environ.get(\"MicrosoftAppPassword\", \"\")\n",
    "\n",
    "    ############## LUIS Service ###############\n",
    "    LUIS_APP_ID = os.environ.get(\"LuisAppId\", \"14445580-ac63-4dee-8408-71d066f97912\")\n",
    "    LUIS_API_KEY = os.environ.get(\"LuisAPIKey\", \"78583ade4d3d41efad110cdbb7018d52\")\n",
    "    LUIS_API_HOST_NAME = os.environ.get(\"LuisAPIHostName\", \"https://francecentral.api.cognitive.microsoft.com/\")\n",
    "\n",
    "    ############## App Insights Service ###############\n",
    "    APPINSIGHTS_INSTRUMENTATION_KEY = os.environ.get(\n",
    "        \"AppInsightsInstrumentationKey\", \"59f6eb7d-ae5f-4f72-80c4-c3fd8f7c05e1\")"
   ]
  },
  {
   "cell_type": "code",
   "execution_count": 537,
   "id": "3dd63587",
   "metadata": {},
   "outputs": [],
   "source": [
    "from azure.cognitiveservices.language.luis.runtime import LUISRuntimeClient\n",
    "from msrest.authentication import CognitiveServicesCredentials\n",
    "from config import DefaultConfig\n",
    "\n",
    "CONFIG = DefaultConfig()\n",
    "\n",
    "\n",
    "def test_luis_intent():\n",
    "    \"\"\"Check LUIS non-regression on *Top intent*\n",
    "    \"\"\"\n",
    "    # Instantiate prediction client\n",
    "    clientRuntime = LUISRuntimeClient(\n",
    "        CONFIG.LUIS_API_HOST_NAME,\n",
    "        CognitiveServicesCredentials(CONFIG.LUIS_API_KEY))\n",
    "    \n",
    "    # Create request\n",
    "    #request ='book a flight from Tunis to Toronto between 22 October 2021 to 5 November 2021, for a budget of $3500'\n",
    "    request = \"Travel to Paris\"\n",
    "    # Get response\n",
    "    response = clientRuntime.prediction.resolve(CONFIG.LUIS_APP_ID, query=request)\n",
    "\n",
    "    check_top_intent = 'BookFlight'\n",
    "    is_top_intent = response.top_scoring_intent.intent\n",
    "    #print(\" Intent ? \",  is_top_intent)\n",
    "    assert check_top_intent == is_top_intent\n",
    "    print(\"Intent is checked \", is_top_intent)\n",
    "    \n",
    "    \n",
    "def test_luis_budget():\n",
    "    \"\"\"Check LUIS non-regression on *Destination*\n",
    "    \"\"\"\n",
    "    # Instantiate prediction client\n",
    "    clientRuntime = LUISRuntimeClient(\n",
    "        CONFIG.LUIS_API_HOST_NAME,\n",
    "        CognitiveServicesCredentials(CONFIG.LUIS_API_KEY))\n",
    "    \n",
    "    # Create request\n",
    "    request ='from paris to london with 2000'\n",
    "\n",
    "    # Get response\n",
    "    response = clientRuntime.prediction.resolve(CONFIG.LUIS_APP_ID, query=request)\n",
    "    \n",
    "    check_budget = '2000'\n",
    "    all_entities = response.entities\n",
    "    \n",
    "    for i in range(0, len(all_entities)):\n",
    "        if all_entities[i].type == 'budget':\n",
    "            is_budget = all_entities[i].entity\n",
    "\n",
    "    assert check_budget == is_budget\n",
    "    print(\"Budget checked \", is_budget)"
   ]
  },
  {
   "cell_type": "code",
   "execution_count": 536,
   "id": "17cacedd",
   "metadata": {},
   "outputs": [
    {
     "name": "stdout",
     "output_type": "stream",
     "text": [
      "Intent is checked  BookFlight\n"
     ]
    }
   ],
   "source": [
    "test_luis_intent()"
   ]
  },
  {
   "cell_type": "code",
   "execution_count": 538,
   "id": "511c5146",
   "metadata": {},
   "outputs": [
    {
     "name": "stdout",
     "output_type": "stream",
     "text": [
      "Budget checked  2000\n"
     ]
    }
   ],
   "source": [
    "test_luis_budget()"
   ]
  },
  {
   "cell_type": "code",
   "execution_count": 577,
   "id": "d22013b7",
   "metadata": {},
   "outputs": [],
   "source": [
    "#request ='i want to go to denver from frankfurt for under 2900 from september 8th to 13th'\n",
    "request=\"i would like to find a vacation between september 20th 2022 and october 4th 2022 from sao \\\n",
    " paulo to leon with a budget of 2300 dollars\""
   ]
  },
  {
   "cell_type": "code",
   "execution_count": 580,
   "id": "270573c4",
   "metadata": {},
   "outputs": [],
   "source": [
    "request=\"i would like to find a vacation starting on september 20th 2022 and ending on october 4th 2022 from sao \\\n",
    " paulo to London with a budget of 2300 dollars\""
   ]
  },
  {
   "cell_type": "code",
   "execution_count": 581,
   "id": "99243b24",
   "metadata": {},
   "outputs": [],
   "source": [
    "response = clientRuntime.prediction.resolve(CONFIG.LUIS_APP_ID, query=request)"
   ]
  },
  {
   "cell_type": "code",
   "execution_count": 582,
   "id": "921d0147",
   "metadata": {},
   "outputs": [
    {
     "name": "stdout",
     "output_type": "stream",
     "text": [
      "{'additional_properties': {'resolution': {'values': [{'timex': '2022-09-20', 'Mod': 'after', 'type': 'daterange', 'sourceEntity': 'datetimepoint', 'start': '2022-09-20'}]}}, 'entity': 'starting on september 20th 2022', 'type': 'builtin.datetimeV2.daterange', 'start_index': 32, 'end_index': 62}\n",
      "{'additional_properties': {'resolution': {'values': [{'timex': '2022-10-04', 'Mod': 'before', 'type': 'daterange', 'sourceEntity': 'datetimepoint', 'end': '2022-10-04'}]}}, 'entity': 'ending on october 4th 2022', 'type': 'builtin.datetimeV2.daterange', 'start_index': 68, 'end_index': 93}\n"
     ]
    }
   ],
   "source": [
    "all_entities = response.entities\n",
    "for i in range(0, len(all_entities)):\n",
    "    #print(all_entities[i].type)\n",
    "    if all_entities[i].type == 'builtin.datetimeV2.daterange':\n",
    "        print(all_entities[i])\n",
    "        d=all_entities[i]\n",
    "     #   is_budget = all_entities[i].entity"
   ]
  }
 ],
 "metadata": {
  "kernelspec": {
   "display_name": "Python 3",
   "language": "python",
   "name": "python3"
  },
  "language_info": {
   "codemirror_mode": {
    "name": "ipython",
    "version": 3
   },
   "file_extension": ".py",
   "mimetype": "text/x-python",
   "name": "python",
   "nbconvert_exporter": "python",
   "pygments_lexer": "ipython3",
   "version": "3.8.8"
  }
 },
 "nbformat": 4,
 "nbformat_minor": 5
}
